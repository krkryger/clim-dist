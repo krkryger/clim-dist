{
 "cells": [
  {
   "cell_type": "code",
   "execution_count": 5,
   "id": "optional-corps",
   "metadata": {},
   "outputs": [],
   "source": [
    "import json\n",
    "from gensim.models import FastText\n",
    "import gensim.models\n",
    "import time"
   ]
  },
  {
   "cell_type": "code",
   "execution_count": 344,
   "id": "going-courage",
   "metadata": {},
   "outputs": [],
   "source": [
    "with open('../pipeline/RZ_sentences_test.json') as f:\n",
    "    sents = json.load(f)"
   ]
  },
  {
   "cell_type": "code",
   "execution_count": 9,
   "id": "romance-notion",
   "metadata": {},
   "outputs": [],
   "source": [
    "class MyCorpus:\n",
    "    \"\"\"An iterator that yields sentences from the corpus\"\"\"\n",
    "\n",
    "    def __iter__(self):\n",
    "        for line in open('../pipeline/rz_sentences.jsonl', 'r', encoding='utf8'):\n",
    "            yield json.loads(line)"
   ]
  },
  {
   "cell_type": "code",
   "execution_count": 10,
   "id": "amber-juice",
   "metadata": {},
   "outputs": [],
   "source": [
    "model = FastText(vector_size=100, window=3, min_count=1)"
   ]
  },
  {
   "cell_type": "code",
   "execution_count": 11,
   "id": "filled-ontario",
   "metadata": {},
   "outputs": [],
   "source": [
    "model.build_vocab(corpus_iterable=MyCorpus())"
   ]
  },
  {
   "cell_type": "code",
   "execution_count": 14,
   "id": "baking-bermuda",
   "metadata": {},
   "outputs": [
    {
     "name": "stdout",
     "output_type": "stream",
     "text": [
      "Finished in 312 seconds\n"
     ]
    }
   ],
   "source": [
    "total_examples = model.corpus_count\n",
    "\n",
    "start = time.perf_counter()\n",
    "\n",
    "model.train(corpus_iterable=MyCorpus(),\n",
    "            total_examples=total_examples,\n",
    "            epochs=10)\n",
    "\n",
    "stop = time.perf_counter()\n",
    "\n",
    "print(f'Finished in {round(stop-start)} seconds')"
   ]
  },
  {
   "cell_type": "code",
   "execution_count": 359,
   "id": "retired-ghost",
   "metadata": {},
   "outputs": [
    {
     "data": {
      "text/plain": [
       "2901918"
      ]
     },
     "execution_count": 359,
     "metadata": {},
     "output_type": "execute_result"
    }
   ],
   "source": [
    "model.corpus_total_words"
   ]
  },
  {
   "cell_type": "code",
   "execution_count": 419,
   "id": "qualified-palace",
   "metadata": {},
   "outputs": [
    {
     "data": {
      "text/plain": [
       "[('wagnerisch', 0.9752142429351807),\n",
       " ('lügnerisch', 0.9722224473953247),\n",
       " ('gärtnerisch', 0.9412358999252319),\n",
       " ('trügerisch', 0.9394392371177673),\n",
       " ('rühmrednerisch', 0.9367846846580505),\n",
       " ('räuberisch', 0.9363733530044556),\n",
       " ('darbarisch', 0.9347977042198181),\n",
       " ('kunßlerisch', 0.9346559643745422),\n",
       " ('multuarisch', 0.933351993560791),\n",
       " ('malerisch', 0.9306706190109253)]"
      ]
     },
     "execution_count": 419,
     "metadata": {},
     "output_type": "execute_result"
    }
   ],
   "source": [
    "model.wv.most_similar(positive='regnerisch')"
   ]
  },
  {
   "cell_type": "code",
   "execution_count": null,
   "id": "deadly-professional",
   "metadata": {},
   "outputs": [],
   "source": []
  },
  {
   "cell_type": "code",
   "execution_count": 16,
   "id": "dutch-anime",
   "metadata": {},
   "outputs": [
    {
     "ename": "NameError",
     "evalue": "name 'sents' is not defined",
     "output_type": "error",
     "traceback": [
      "\u001b[1;31m---------------------------------------------------------------------------\u001b[0m",
      "\u001b[1;31mNameError\u001b[0m                                 Traceback (most recent call last)",
      "\u001b[1;32m<ipython-input-16-44dc4f4b903f>\u001b[0m in \u001b[0;36m<module>\u001b[1;34m\u001b[0m\n\u001b[0;32m      1\u001b[0m \u001b[1;32mwith\u001b[0m \u001b[0mopen\u001b[0m\u001b[1;33m(\u001b[0m\u001b[1;34m'../pipeline/RZ_sentences_test_lines.jsonl'\u001b[0m\u001b[1;33m,\u001b[0m \u001b[1;34m'w'\u001b[0m\u001b[1;33m,\u001b[0m \u001b[0mencoding\u001b[0m\u001b[1;33m=\u001b[0m\u001b[1;34m'utf8'\u001b[0m\u001b[1;33m)\u001b[0m \u001b[1;32mas\u001b[0m \u001b[0mf\u001b[0m\u001b[1;33m:\u001b[0m\u001b[1;33m\u001b[0m\u001b[1;33m\u001b[0m\u001b[0m\n\u001b[1;32m----> 2\u001b[1;33m     \u001b[1;32mfor\u001b[0m \u001b[0msent\u001b[0m \u001b[1;32min\u001b[0m \u001b[0msents\u001b[0m\u001b[1;33m:\u001b[0m\u001b[1;33m\u001b[0m\u001b[1;33m\u001b[0m\u001b[0m\n\u001b[0m\u001b[0;32m      3\u001b[0m         \u001b[0mjson_string\u001b[0m \u001b[1;33m=\u001b[0m \u001b[0mjson\u001b[0m\u001b[1;33m.\u001b[0m\u001b[0mdumps\u001b[0m\u001b[1;33m(\u001b[0m\u001b[0msent\u001b[0m\u001b[1;33m)\u001b[0m\u001b[1;33m\u001b[0m\u001b[1;33m\u001b[0m\u001b[0m\n\u001b[0;32m      4\u001b[0m         \u001b[0mf\u001b[0m\u001b[1;33m.\u001b[0m\u001b[0mwrite\u001b[0m\u001b[1;33m(\u001b[0m\u001b[0mjson_string\u001b[0m\u001b[1;33m)\u001b[0m\u001b[1;33m\u001b[0m\u001b[1;33m\u001b[0m\u001b[0m\n\u001b[0;32m      5\u001b[0m         \u001b[0mf\u001b[0m\u001b[1;33m.\u001b[0m\u001b[0mwrite\u001b[0m\u001b[1;33m(\u001b[0m\u001b[1;34m'\\n'\u001b[0m\u001b[1;33m)\u001b[0m\u001b[1;33m\u001b[0m\u001b[1;33m\u001b[0m\u001b[0m\n",
      "\u001b[1;31mNameError\u001b[0m: name 'sents' is not defined"
     ]
    }
   ],
   "source": [
    "with open('../pipeline/RZ_sentences_test_lines.jsonl', 'w', encoding='utf8') as f:\n",
    "    for sent in sents:\n",
    "        json_string = json.dumps(sent)\n",
    "        f.write(json_string)\n",
    "        f.write('\\n')"
   ]
  },
  {
   "cell_type": "code",
   "execution_count": 17,
   "id": "knowing-harmony",
   "metadata": {},
   "outputs": [
    {
     "name": "stdout",
     "output_type": "stream",
     "text": [
      "Finished in 25 seconds\n"
     ]
    }
   ],
   "source": [
    "start = time.perf_counter()\n",
    "\n",
    "model2 = gensim.models.Word2Vec(sentences=MyCorpus(), workers=8)\n",
    "\n",
    "stop = time.perf_counter()\n",
    "\n",
    "print(f'Finished in {round(stop-start)} seconds')"
   ]
  },
  {
   "cell_type": "code",
   "execution_count": 25,
   "id": "monthly-trouble",
   "metadata": {
    "scrolled": true
   },
   "outputs": [
    {
     "data": {
      "text/plain": [
       "[('Wind', 0.98038250207901),\n",
       " ('Frost', 0.9743548631668091),\n",
       " ('Regen', 0.9714376330375671),\n",
       " ('Schnee', 0.9690181612968445),\n",
       " ('Eis', 0.9659994840621948),\n",
       " ('Wetter', 0.962826132774353),\n",
       " ('Wärme', 0.9522303342819214),\n",
       " ('Winter', 0.948639988899231),\n",
       " ('Hitze', 0.9404839277267456),\n",
       " ('Reaumur', 0.9378679394721985),\n",
       " ('Brand', 0.9362156391143799),\n",
       " ('Witterung', 0.9361750483512878),\n",
       " ('Winde', 0.9359719157218933),\n",
       " ('Eise', 0.9347460269927979),\n",
       " ('starker', 0.9331372380256653),\n",
       " ('normal', 0.9319888949394226),\n",
       " ('bewölkt', 0.9309374094009399),\n",
       " ('Seegatt', 0.9306387305259705),\n",
       " ('Temperatur', 0.9283408522605896),\n",
       " ('Riffe', 0.9245606660842896)]"
      ]
     },
     "execution_count": 25,
     "metadata": {},
     "output_type": "execute_result"
    }
   ],
   "source": [
    "model2.wv.most_similar(positive='Kälte', topn=20)"
   ]
  },
  {
   "cell_type": "code",
   "execution_count": 424,
   "id": "mounted-continuity",
   "metadata": {},
   "outputs": [],
   "source": [
    "model.save('../temp/fasttext_test_model/test')"
   ]
  },
  {
   "cell_type": "code",
   "execution_count": 12,
   "id": "covered-protection",
   "metadata": {},
   "outputs": [],
   "source": [
    "new_model = gensim.models.Word2Vec.load('../data/models/word2vec_221021/w2v_model')"
   ]
  },
  {
   "cell_type": "code",
   "execution_count": 14,
   "id": "alert-storage",
   "metadata": {},
   "outputs": [
    {
     "data": {
      "text/plain": [
       "0"
      ]
     },
     "execution_count": 14,
     "metadata": {},
     "output_type": "execute_result"
    }
   ],
   "source": [
    "new_model.corpus_total_words"
   ]
  },
  {
   "cell_type": "code",
   "execution_count": 9,
   "id": "civilian-airport",
   "metadata": {},
   "outputs": [
    {
     "data": {
      "text/plain": [
       "8"
      ]
     },
     "execution_count": 9,
     "metadata": {},
     "output_type": "execute_result"
    }
   ],
   "source": [
    "dd"
   ]
  },
  {
   "cell_type": "code",
   "execution_count": null,
   "id": "boxed-presence",
   "metadata": {},
   "outputs": [],
   "source": [
    "import json\n",
    "import gensim.models\n",
    "import time\n",
    "import multiprocessing\n",
    "\n",
    "class MyCorpus:\n",
    "    \"\"\"An iterator that yields sentences from the corpus\"\"\"\n",
    "\n",
    "    def __iter__(self):\n",
    "        for line in open('../pipeline/rz_sentences.jsonl', 'r', encoding='utf8'):\n",
    "            yield json.loads(line)\n",
    "\n",
    "print('Training Word2Vec')\n",
    "start = time.perf_counter()\n",
    "\n",
    "model = gensim.models.Word2Vec(vector_size=100,\n",
    "                                min_count=10,\n",
    "                                workers=8)\n",
    "\n",
    "stop = time.perf_counter()\n",
    "print(f'Finished in {round(stop-start)} seconds')\n",
    "\n",
    "print('Saving model')\n",
    "model.save('../data/models/word2vec_221021/w2v_model')\n",
    "\n",
    "print('Done!')"
   ]
  },
  {
   "cell_type": "code",
   "execution_count": 410,
   "id": "empirical-steal",
   "metadata": {},
   "outputs": [
    {
     "data": {
      "text/plain": [
       "array([-0.31202105,  0.57274264, -0.26672125, -0.53741586,  1.4818941 ,\n",
       "       -0.71079344, -0.02106321,  1.0041137 ,  0.44368374, -0.56459254,\n",
       "       -0.43328825, -0.6296182 ,  0.42106107,  0.25122556, -0.01269063,\n",
       "       -0.06150544,  0.4099828 ,  0.03842735,  0.0624956 , -1.3616614 ,\n",
       "        0.6071575 , -0.5356553 , -0.08762343, -0.913118  ,  0.58962363,\n",
       "       -0.450145  , -0.73583704,  0.09067788, -0.99316806,  0.05282827,\n",
       "        1.0974032 ,  0.49272287, -0.35086796, -0.7397495 , -0.6258651 ,\n",
       "        0.60937726,  0.19995207,  0.5742197 ,  0.05111027, -1.153833  ,\n",
       "       -0.14982441, -0.5160914 ,  0.15889439, -0.11139745, -0.23224281,\n",
       "        0.08539133, -0.21794415, -0.65810436, -0.09323486,  1.2141236 ,\n",
       "        0.39191896,  0.44160062, -0.39816925, -0.61288404, -0.45144776,\n",
       "        0.3685081 ,  0.57858515,  0.5804529 , -0.42363763,  0.55801   ,\n",
       "        0.5040265 , -0.58289236,  1.1771    ,  0.15434287, -0.1581508 ,\n",
       "        0.0832065 ,  0.63870597, -0.10217804, -0.5004848 ,  0.428774  ,\n",
       "       -0.69208544, -0.01086036,  0.18800452, -0.09161428,  0.32646614,\n",
       "        0.18140134, -0.497044  ,  0.5559124 ,  0.5037344 ,  0.28347567,\n",
       "       -0.03949906, -0.46343544, -1.2596648 ,  0.57032424,  0.6288274 ,\n",
       "       -0.00265838,  0.27914596, -0.2529973 ,  0.627544  ,  0.13988319,\n",
       "        0.04673818, -0.03520612,  0.7749322 ,  0.07077285,  0.63420737,\n",
       "        0.41747215, -0.02103632,  0.3295832 , -0.29670057, -0.3992676 ],\n",
       "      dtype=float32)"
      ]
     },
     "execution_count": 410,
     "metadata": {},
     "output_type": "execute_result"
    }
   ],
   "source": [
    "model2.wv['Sturm']"
   ]
  },
  {
   "cell_type": "code",
   "execution_count": 408,
   "id": "compact-canal",
   "metadata": {},
   "outputs": [
    {
     "data": {
      "text/plain": [
       "[('Sturmwind', 0.8958916068077087),\n",
       " ('Windstöße', 0.8609256148338318),\n",
       " ('Sturme', 0.8608139157295227),\n",
       " ('SturmeS', 0.8474036455154419),\n",
       " ('Sturmglocke', 0.8435773849487305),\n",
       " ('Wettkampfe', 0.8428084850311279),\n",
       " ('Sturmi', 0.8419037461280823),\n",
       " ('Windstoß', 0.8387625217437744),\n",
       " ('Windstoße', 0.8384824991226196),\n",
       " ('Sturmfluth', 0.8379583358764648),\n",
       " ('.Sturm', 0.837712824344635),\n",
       " ('Sturmstoß', 0.8365195393562317),\n",
       " ('Sturmjahr', 0.8323107361793518),\n",
       " ('Schneestürme', 0.8278748393058777),\n",
       " ('Stürme', 0.8269832134246826),\n",
       " ('Wettkampf', 0.8266268372535706),\n",
       " ('Nerdsturm', 0.8265390992164612),\n",
       " ('Lagerräume', 0.8261969089508057),\n",
       " ('Brückenlänge', 0.8250601887702942),\n",
       " ('Flußwege', 0.8230020999908447)]"
      ]
     },
     "execution_count": 408,
     "metadata": {},
     "output_type": "execute_result"
    }
   ],
   "source": [
    "model.wv.most_similar(['Sturm', 'Regen', 'Wind'], topn=20)"
   ]
  },
  {
   "cell_type": "code",
   "execution_count": null,
   "id": "coastal-scout",
   "metadata": {},
   "outputs": [],
   "source": []
  },
  {
   "cell_type": "code",
   "execution_count": null,
   "id": "private-julian",
   "metadata": {},
   "outputs": [],
   "source": []
  },
  {
   "cell_type": "code",
   "execution_count": null,
   "id": "outer-lightning",
   "metadata": {},
   "outputs": [],
   "source": []
  }
 ],
 "metadata": {
  "kernelspec": {
   "display_name": "Python 3",
   "language": "python",
   "name": "python3"
  },
  "language_info": {
   "codemirror_mode": {
    "name": "ipython",
    "version": 3
   },
   "file_extension": ".py",
   "mimetype": "text/x-python",
   "name": "python",
   "nbconvert_exporter": "python",
   "pygments_lexer": "ipython3",
   "version": "3.9.2"
  }
 },
 "nbformat": 4,
 "nbformat_minor": 5
}
