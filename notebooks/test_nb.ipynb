{
 "cells": [
  {
   "cell_type": "code",
   "execution_count": 8,
   "id": "involved-bhutan",
   "metadata": {},
   "outputs": [],
   "source": [
    "import sys\n",
    "\n",
    "path = 'C:\\\\Users\\\\krister\\\\Climdist'\n",
    "if path not in sys.path:\n",
    "    sys.path.append(path)\n",
    "\n",
    "import pandas as pd\n",
    "import spacy\n",
    "import json\n",
    "from tqdm import tqdm\n",
    "import concurrent.futures\n",
    "import time\n",
    "import multiprocessing\n",
    "\n",
    "# print('Importing spacy model')\n",
    "# nlp = spacy.load('de_core_news_md')\n",
    "# \n",
    "# print('Importing df')\n",
    "# df = pd.read_parquet('../data/processed/RZ_processed.parquet')\n",
    "# df['readability'] = pd.read_parquet('../data/processed/OCR_readability_column.parquet')\n",
    "# df = df[df.readability==1]\n",
    "# \n",
    "# stops = nlp.Defaults.stop_words\n",
    "# \n",
    "# \n",
    "# def create_sentences_for_vec(df, fpath='../pipeline/RZ_sentences.json'):\n",
    "# \n",
    "#     corpus = []\n",
    "# \n",
    "#     for i in tqdm(df.index):\n",
    "#         text = df.loc[i, 'full_text']\n",
    "#         doc = nlp(text)\n",
    "# \n",
    "#         for sent in doc.sents:\n",
    "#             sent_list = []\n",
    "#             for word in sent:\n",
    "#                 if word.text not in stops:\n",
    "#                     sent_list.append(word.text)\n",
    "# \n",
    "#         corpus.append(sent_list)\n",
    "# \n",
    "#     #with open(fpath, 'w') as f:\n",
    "#     #    json.dump(corpus, f)\n",
    "# \n",
    "#     print('Finished')\n",
    "#     return corpus\n",
    "# \n",
    "# \n",
    "# if __name__ == '__main__':\n",
    "# \n",
    "#     start = time.perf_counter()\n",
    "# \n",
    "#     #with concurrent.futures.ProcessPoolExecutor() as executor:\n",
    "#     #    ranges = 4*[df.sample(100)]\n",
    "#     #    results = executor.map(create_sentences_for_vec, ranges)\n",
    "# \n",
    "#     create_sentences_for_vec(df.sample(100))\n",
    "# \n",
    "#     stop = time.perf_counter()\n",
    "# \n",
    "#     print(f'Operation time: {stop-start} seconds')"
   ]
  },
  {
   "cell_type": "code",
   "execution_count": 2,
   "id": "revolutionary-chorus",
   "metadata": {},
   "outputs": [],
   "source": [
    "# if __name__ == '__main__':\n",
    "# \n",
    "#     corpus = []\n",
    "#     \n",
    "#     start = time.perf_counter()\n",
    "#     \n",
    "#     with concurrent.futures.ProcessPoolExecutor() as executor:\n",
    "#         ranges = 4*[df.sample(100)]\n",
    "#         results = executor.map(create_sentences_for_vec, ranges)\n",
    "#         \n",
    "#         for result in results:\n",
    "#             print(4)\n",
    "#         \n",
    "#     stop = time.perf_counter()\n",
    "#     print(f'Operation time: {stop-start} seconds')"
   ]
  },
  {
   "cell_type": "code",
   "execution_count": null,
   "id": "first-throw",
   "metadata": {},
   "outputs": [],
   "source": [
    "def do_smth(s):\n",
    "    print(f'Sleeping {s} secs')\n",
    "    time.sleep(s)\n",
    "    print('Done')\n",
    "\n",
    "if __name__ == \"__main__\":\n",
    "    # Create the Pool object with the number of workers, 4 in this case.\n",
    "    p = multiprocessing.Pool(4)\n",
    "    \n",
    "    # Map the jobs to the individual workers\n",
    "    result = p.map(do_smth, range(1,5))\n",
    "    \n",
    "    # Close the Pool object\n",
    "    p.close()\n",
    "    print(f\"Result is: {result}\")"
   ]
  },
  {
   "cell_type": "code",
   "execution_count": 15,
   "id": "invalid-lodging",
   "metadata": {},
   "outputs": [
    {
     "name": "stdout",
     "output_type": "stream",
     "text": [
      "Sleeping 2 seconds\n",
      "Done\n"
     ]
    }
   ],
   "source": [
    "do_smth()"
   ]
  },
  {
   "cell_type": "code",
   "execution_count": null,
   "id": "jewish-columbia",
   "metadata": {},
   "outputs": [],
   "source": []
  },
  {
   "cell_type": "code",
   "execution_count": null,
   "id": "fundamental-battlefield",
   "metadata": {},
   "outputs": [],
   "source": []
  },
  {
   "cell_type": "code",
   "execution_count": null,
   "id": "nominated-middle",
   "metadata": {},
   "outputs": [],
   "source": []
  }
 ],
 "metadata": {
  "kernelspec": {
   "display_name": "Python 3",
   "language": "python",
   "name": "python3"
  },
  "language_info": {
   "codemirror_mode": {
    "name": "ipython",
    "version": 3
   },
   "file_extension": ".py",
   "mimetype": "text/x-python",
   "name": "python",
   "nbconvert_exporter": "python",
   "pygments_lexer": "ipython3",
   "version": "3.9.2"
  }
 },
 "nbformat": 4,
 "nbformat_minor": 5
}
