{
 "cells": [
  {
   "cell_type": "code",
   "execution_count": 1,
   "id": "opponent-somewhere",
   "metadata": {},
   "outputs": [
    {
     "name": "stderr",
     "output_type": "stream",
     "text": [
      "c:\\users\\krister\\climdist\\gensim_env\\lib\\site-packages\\gensim\\similarities\\__init__.py:15: UserWarning: The gensim.similarities.levenshtein submodule is disabled, because the optional Levenshtein package <https://pypi.org/project/python-Levenshtein/> is unavailable. Install Levenhstein (e.g. `pip install python-Levenshtein`) to suppress this warning.\n",
      "  warnings.warn(msg)\n"
     ]
    }
   ],
   "source": [
    "import numpy as np\n",
    "import pandas as pd\n",
    "import json\n",
    "import glob\n",
    "from tqdm import tqdm\n",
    "\n",
    "import gensim\n",
    "import gensim.corpora as corpora\n",
    "from gensim.utils import simple_preprocess\n",
    "from gensim.models import CoherenceModel\n",
    "\n",
    "import spacy\n",
    "from nltk.corpus import stopwords\n",
    "\n",
    "import pyLDAvis.gensim_models\n",
    "\n",
    "import warnings\n",
    "warnings.filterwarnings('ignore')"
   ]
  },
  {
   "cell_type": "code",
   "execution_count": 2,
   "id": "nervous-rebate",
   "metadata": {},
   "outputs": [],
   "source": [
    "df = pd.read_excel('../data/processed/LNB_processed.xlsx')"
   ]
  },
  {
   "cell_type": "code",
   "execution_count": 3,
   "id": "solar-kitchen",
   "metadata": {},
   "outputs": [],
   "source": [
    "stops = stopwords.words('german')\n",
    "common_ocr_errors = ['nnr', 'nnd', 'fich', 'find']\n",
    "other_noise = ['januar', 'februar', 'märz', 'april', 'mai', 'juni', 'juli', 'august', 'september', 'october', 'oktober', 'november', 'dezember', 'december']\n",
    "stops += common_ocr_errors + other_noise"
   ]
  },
  {
   "cell_type": "code",
   "execution_count": 4,
   "id": "logical-future",
   "metadata": {},
   "outputs": [],
   "source": [
    "data = df[(df.w_count > 100) & (df.w_count < 500)].sample(1000).full_text.values"
   ]
  },
  {
   "cell_type": "code",
   "execution_count": 5,
   "id": "welsh-national",
   "metadata": {},
   "outputs": [],
   "source": [
    "nlp = spacy.load('../data/models/spacy_model_250421')"
   ]
  },
  {
   "cell_type": "code",
   "execution_count": 6,
   "id": "light-athens",
   "metadata": {},
   "outputs": [
    {
     "name": "stderr",
     "output_type": "stream",
     "text": [
      "100%|██████████████████████████████████████████████████████████████████████████████| 1000/1000 [02:32<00:00,  6.56it/s]\n"
     ]
    }
   ],
   "source": [
    "def lemmatize(texts, allowed_postags=['NOUN']):\n",
    "    \n",
    "    texts_out = []\n",
    "    \n",
    "    for text in tqdm(texts):\n",
    "        doc = nlp(text)\n",
    "        new_text = []\n",
    "        for token in doc:\n",
    "            if token.pos_ in allowed_postags and token.text.lower() not in stops:\n",
    "                new_text.append(token.lemma_)\n",
    "        final = \" \".join(new_text)\n",
    "        texts_out.append(final)\n",
    "    \n",
    "    return texts_out\n",
    "\n",
    "lemmatized_data = lemmatize(data)"
   ]
  },
  {
   "cell_type": "code",
   "execution_count": 7,
   "id": "afraid-sally",
   "metadata": {},
   "outputs": [
    {
     "data": {
      "text/plain": [
       "1000"
      ]
     },
     "execution_count": 7,
     "metadata": {},
     "output_type": "execute_result"
    }
   ],
   "source": [
    "len(lemmatized_data)"
   ]
  },
  {
   "cell_type": "code",
   "execution_count": 8,
   "id": "collected-closing",
   "metadata": {},
   "outputs": [],
   "source": [
    "def gen_words(texts):\n",
    "    final = []\n",
    "    for text in texts:\n",
    "        new = gensim.utils.simple_preprocess(text, deacc=True) #separates words, applies lowercase, removes accents\n",
    "        final.append(new)\n",
    "    return final\n",
    "\n",
    "data_words = gen_words(lemmatized_data)"
   ]
  },
  {
   "cell_type": "code",
   "execution_count": 89,
   "id": "mobile-cruise",
   "metadata": {},
   "outputs": [],
   "source": [
    "# bigrams, trigrams\n",
    "bigram_phrases = gensim.models.Phrases(data_words, min_count=2)\n",
    "trigram_phrases = gensim.models.Phrases(bigram_phrases[data_words], threshold=10)\n",
    "\n",
    "bigram = gensim.models.phrases.Phraser(bigram_phrases)\n",
    "trigram = gensim.models.phrases.Phraser(trigram_phrases)\n",
    "\n",
    "data_bigrams = [bigram[doc] for doc in data_words]\n",
    "data_bigrams_trigrams = [trigram[bigram[doc]] for doc in data_words]"
   ]
  },
  {
   "cell_type": "code",
   "execution_count": 77,
   "id": "liked-closure",
   "metadata": {},
   "outputs": [],
   "source": [
    "from gensim.models import TfidfModel\n",
    "\n",
    "id2word = corpora.Dictionary(data_bigrams_trigrams)\n",
    "id2word.filter_extremes(no_above=0.3)\n",
    "corpus = [id2word.doc2bow(text) for text in data_bigrams_trigrams]\n",
    "tfidf = TfidfModel(corpus, id2word=id2word)"
   ]
  },
  {
   "cell_type": "code",
   "execution_count": 94,
   "id": "downtown-purple",
   "metadata": {
    "scrolled": true
   },
   "outputs": [
    {
     "name": "stdout",
     "output_type": "stream",
     "text": [
      "\n",
      "Coherence Score:  0.37896305091332766\n"
     ]
    }
   ],
   "source": [
    "coherence_model_lda = gensim.models.CoherenceModel(model=lda_model, texts=data_bigrams_trigrams, coherence='c_v')\n",
    "coherence_lda = coherence_model_lda.get_coherence()\n",
    "print('\\nCoherence Score: ', coherence_lda)"
   ]
  },
  {
   "cell_type": "code",
   "execution_count": 99,
   "id": "starting-volunteer",
   "metadata": {},
   "outputs": [],
   "source": [
    "def get_optimal_n_topics(texts, no_above, start, end, step, alpha='auto'):\n",
    "    \n",
    "    from gensim.models import TfidfModel\n",
    "\n",
    "    id2word = corpora.Dictionary(texts)\n",
    "    id2word.filter_extremes(no_above=no_above)\n",
    "    corpus = [id2word.doc2bow(text) for text in texts]\n",
    "    tfidf = TfidfModel(corpus, id2word=id2word)\n",
    "    \n",
    "    n_topics = []\n",
    "    coherence_scores = []\n",
    "    \n",
    "    for n in range(start, end+1, step):\n",
    "        print(f'Computing model with {n} topics')\n",
    "        model = gensim.models.ldamodel.LdaModel(corpus=corpus,\n",
    "                                            id2word=id2word,\n",
    "                                            num_topics=n,\n",
    "                                            random_state=100,\n",
    "                                            update_every=1,\n",
    "                                            chunksize=100,\n",
    "                                            passes=10,\n",
    "                                            alpha=alpha)\n",
    "        \n",
    "        coherence_model = gensim.models.CoherenceModel(model=model, texts=data_bigrams_trigrams, coherence='c_v')\n",
    "        coherence_score = coherence_model.get_coherence()\n",
    "        print('Coherence Score: ', coherence_score)\n",
    "        \n",
    "        n_topics.append(n)\n",
    "        coherence_scores.append(coherence_score)\n",
    "        \n",
    "    from matplotlib import pyplot as plt\n",
    "    plt.plot(range(start, end+1, step), coherence_scores)\n",
    "    plt.show()\n",
    "    \n",
    "    print(f'Optimal number of topics: {n_topics[coherence_scores.index(max(coherence_scores))]}')\n",
    "        \n",
    "    return (n_topics, coherence_scores)"
   ]
  },
  {
   "cell_type": "code",
   "execution_count": 98,
   "id": "working-ecology",
   "metadata": {},
   "outputs": [
    {
     "name": "stdout",
     "output_type": "stream",
     "text": [
      "Computing model with 1 topics\n",
      "Coherence Score:  0.15537474315525454\n",
      "Computing model with 5 topics\n",
      "Coherence Score:  0.2687950621174609\n",
      "Computing model with 9 topics\n",
      "Coherence Score:  0.3240587196210457\n",
      "Computing model with 13 topics\n",
      "Coherence Score:  0.3710892421622931\n",
      "Computing model with 17 topics\n",
      "Coherence Score:  0.3589028866289064\n",
      "Computing model with 21 topics\n",
      "Coherence Score:  0.3634415940654123\n",
      "Computing model with 25 topics\n",
      "Coherence Score:  0.3542740606071179\n",
      "Computing model with 29 topics\n",
      "Coherence Score:  0.37602991555665005\n",
      "Computing model with 33 topics\n",
      "Coherence Score:  0.3797733102982181\n",
      "Computing model with 37 topics\n",
      "Coherence Score:  0.38188059000524727\n"
     ]
    },
    {
     "data": {
      "image/png": "[encoded data removed]",
      "text/plain": [
       "<Figure size 432x288 with 1 Axes>"
      ]
     },
     "metadata": {
      "needs_background": "light"
     },
     "output_type": "display_data"
    },
    {
     "name": "stdout",
     "output_type": "stream",
     "text": [
      "Optimal number of topics: 37\n"
     ]
    }
   ],
   "source": [
    "optimal_n_topics_no_above_01 = get_optimal_n_topics(data_bigrams_trigrams, no_above=0.1, start=1, end=40, step=4)"
   ]
  },
  {
   "cell_type": "code",
   "execution_count": null,
   "id": "under-library",
   "metadata": {},
   "outputs": [],
   "source": []
  },
  {
   "cell_type": "code",
   "execution_count": null,
   "id": "increasing-shareware",
   "metadata": {},
   "outputs": [],
   "source": []
  },
  {
   "cell_type": "code",
   "execution_count": null,
   "id": "infinite-assurance",
   "metadata": {},
   "outputs": [],
   "source": []
  },
  {
   "cell_type": "code",
   "execution_count": null,
   "id": "attempted-facility",
   "metadata": {},
   "outputs": [],
   "source": []
  },
  {
   "cell_type": "code",
   "execution_count": null,
   "id": "anonymous-musical",
   "metadata": {},
   "outputs": [],
   "source": []
  },
  {
   "cell_type": "code",
   "execution_count": null,
   "id": "upset-delight",
   "metadata": {},
   "outputs": [],
   "source": []
  },
  {
   "cell_type": "code",
   "execution_count": 53,
   "id": "amateur-summer",
   "metadata": {
    "scrolled": false
   },
   "outputs": [
    {
     "data": {
      "text/html": [
       "\n",
       "<link rel=\"stylesheet\" type=\"text/css\" href=\"https://cdn.jsdelivr.net/gh/bmabey/pyLDAvis@3.3.1/pyLDAvis/js/ldavis.v1.0.0.css\">\n",
       "\n",
       "\n",
       "<div id=\"ldavis_el1646425550585429607110343200\"></div>\n",
       "<script type=\"text/javascript\">\n",
       "\n",
       "var ldavis_el1646425550585429607110343200_data = {\"mdsDat\": {\"x\": [0.10626667901823553, 0.05803451561724211, -0.1606452864569901, -0.23421374013767587, 0.27606133130867067, 0.32813646306819744, -0.3736399624176797], \"y\": [-0.2970397860547728, 0.3652148177853092, -0.29117098923861345, 0.23145185582773112, 0.16888683154767953, -0.12923784544804232, -0.04810488441929108], \"topics\": [1, 2, 3, 4, 5, 6, 7], \"cluster\": [1, 1, 1, 1, 1, 1, 1], \"Freq\": [19.71998807760203, 18.33263485799322, 17.50269537875852, 16.48454564121653, 14.213252132200802, 9.499705280235279, 4.247178631993623]}, \"tinfo\": {\"Term\": [\"wasser\", \"schiff\", \"stadt\", \"herr\", \"herrn\", \"general\", \"truppe\", \"nachricht\", \"schiffe\", \"zeit\", \"dampfer\", \"land\", \"schaden\", \"nr\", \"armee\", \"rbl\", \"mann\", \"uhr\", \"stra\\u00dfe\", \"feind\", \"furst\", \"preis\", \"pferd\", \"theil\", \"befehl\", \"jahr\", \"kreis\", \"gesellschaft\", \"kaiser\", \"brucke\", \"meile\", \"erde\", \"gott\", \"arbeiter\", \"kanone\", \"verwaltung\", \"waffe\", \"stein\", \"passagier\", \"brand\", \"zug\", \"holz\", \"verfugung\", \"artillerie\", \"zukunft\", \"unwetter\", \"wald\", \"abends\", \"orkan\", \"ordnung\", \"orden\", \"flugel\", \"haupt\", \"thatigkeit\", \"rettung\", \"minute\", \"flamme\", \"aug\", \"westen\", \"waaren\", \"opfer\", \"feuer\", \"bewegung\", \"gouverneur\", \"ort\", \"mensch\", \"kraft\", \"zeit\", \"winter\", \"stadt\", \"stunde\", \"boden\", \"leben\", \"gebaude\", \"nacht\", \"sturm\", \"schaden\", \"dienst\", \"fu\\u00df\", \"ruhe\", \"grund\", \"tag\", \"haus\", \"uhr\", \"jahr\", \"folge\", \"tod\", \"general\", \"truppe\", \"armee\", \"feind\", \"furst\", \"befehl\", \"soldat\", \"regiment\", \"oktober\", \"turke\", \"offizier\", \"nov\", \"fort\", \"franzose\", \"herzog\", \"bahn\", \"pforte\", \"depesche\", \"kampf\", \"angriff\", \"heer\", \"chef\", \"bevolkerung\", \"abtheilung\", \"operation\", \"admiral\", \"garnison\", \"gesandte\", \"gefecht\", \"infanterie\", \"graf\", \"nachricht\", \"krieg\", \"flotte\", \"mann\", \"majestat\", \"verlust\", \"lord\", \"seite\", \"platz\", \"regierung\", \"bericht\", \"stadt\", \"kaiser\", \"theil\", \"sturm\", \"konig\", \"tag\", \"nr\", \"rbl\", \"festung\", \"kop\", \"dame\", \"wohnung\", \"welle\", \"vermischtes\", \"verein\", \"pud\", \"obrist\", \"kalte\", \"buch\", \"lieben\", \"wolke\", \"libau\", \"besatzung\", \"freude\", \"borse\", \"forts\", \"gemalde\", \"fischer\", \"handel_verkehr\", \"grad\", \"freitag\", \"station\", \"lieferung\", \"zoll\", \"moglichkeit\", \"werst\", \"kind\", \"regen\", \"treue\", \"bauer\", \"au\", \"wind\", \"morgen\", \"wetter\", \"anstalt\", \"abend\", \"preis\", \"uhr\", \"monat\", \"tag\", \"witterung\", \"ztg\", \"hohe\", \"gewitter\", \"jahr\", \"sturm\", \"frau\", \"see\", \"nacht\", \"prinz\", \"mitglied\", \"partei\", \"presse\", \"rede\", \"dr\", \"fall\", \"volk\", \"antrag\", \"reich\", \"geschichte\", \"theater\", \"zimmer\", \"inhalt\", \"gast\", \"hof\", \"tochter\", \"sprache\", \"ausland\", \"ministerium\", \"stimme\", \"anleihe\", \"meinung\", \"krone\", \"einflu\\u00df\", \"adresse\", \"entlassung\", \"spiel\", \"feuilleton\", \"firma\", \"wahl\", \"herrn\", \"herr\", \"kreis\", \"recht\", \"blatt\", \"beamte\", \"hr\", \"ueber\", \"sohn\", \"kaiser\", \"frau\", \"konig\", \"jahr\", \"person\", \"zeitung\", \"hand\", \"sache\", \"minister\", \"sturm\", \"haus\", \"wort\", \"zeit\", \"kirche\", \"name\", \"schiff\", \"dampfer\", \"mannschaft\", \"bord\", \"ladung\", \"grieche\", \"strand\", \"nord\", \"freund\", \"versammlung\", \"burger\", \"segel\", \"dampfschiff\", \"meldung\", \"expedition\", \"fahrt\", \"beziehung\", \"anker\", \"newyork\", \"brigg\", \"sir\", \"fluth\", \"uhr_uhr\", \"pastor\", \"sommer\", \"hotel\", \"vertrag\", \"militair\", \"ereignis\", \"empfang\", \"schiffe\", \"staat\", \"kenntni\\u00df\", \"parlament\", \"hafen\", \"zweck\", \"reise\", \"kuste\", \"frage\", \"land\", \"macht\", \"blattern\", \"see\", \"regierung\", \"sturm\", \"meer\", \"insel\", \"grund\", \"tag\", \"wasser\", \"brucke\", \"lager\", \"hilfe\", \"garten\", \"schicksal\", \"anstrengung\", \"strom\", \"vogel\", \"marschall\", \"marz\", \"leiche\", \"vieh\", \"gen\", \"meter\", \"damm\", \"auftrag\", \"spanier\", \"kloster\", \"programm\", \"abschlu\\u00df\", \"feier\", \"kanal\", \"annahme\", \"gewasser\", \"gulden\", \"ober\", \"konigl\", \"ruhm\", \"aufstand\", \"flu\\u00df\", \"werth\", \"uberschwemmung\", \"ufer\", \"bau\", \"gefahr\", \"stra\\u00dfe\", \"stand\", \"lage\", \"million\", \"stuck\", \"theil\", \"schaden\", \"handel\", \"menge\", \"ungluck\", \"haus\", \"dorf\", \"stelle\", \"jahr\", \"land\", \"fu\\u00df\", \"nachricht\", \"see\", \"pferd\", \"berg\", \"sept\", \"mill\", \"sage\", \"amt\", \"darstellung\", \"schlacht\", \"stamm\", \"leser\", \"pfd\", \"kaffee\", \"qualitat\", \"fabrik\", \"eisen\", \"oper\", \"tausende\", \"erinnerung\", \"vermischt_nachricht\", \"ernte\", \"sand\", \"fruhjahr\", \"wesen\", \"nummer\", \"butter\", \"ertrag\", \"klage\", \"vortrag\", \"bund\", \"ausfuhr\", \"gesellschaft\", \"werk\", \"woche\", \"preis\", \"wahrheit\", \"jahr\"], \"Freq\": [214.0, 200.0, 429.0, 245.0, 197.0, 175.0, 161.0, 247.0, 145.0, 255.0, 109.0, 237.0, 144.0, 113.0, 115.0, 111.0, 216.0, 229.0, 110.0, 106.0, 104.0, 92.0, 51.0, 200.0, 97.0, 382.0, 114.0, 52.0, 152.0, 67.0, 57.913288981087135, 58.40899281436661, 52.69515794671491, 51.883096712137124, 50.443227554086704, 49.56988485133843, 47.33647208588046, 44.585808056831155, 42.24505536336204, 40.26488429288316, 39.617476113354215, 37.334904986640765, 37.09467041568872, 36.26360086602831, 35.467249433344264, 30.168563800020163, 29.745518774086324, 29.02502340887552, 27.854372510570933, 27.417814095303616, 26.678300679138907, 26.531799182500254, 25.90172864254268, 24.642862961764905, 24.460227752466114, 23.551160243651367, 22.330354030872464, 21.824337962735623, 21.67777220934654, 21.48997893544481, 36.554352925866205, 98.95022397194515, 52.112189551998945, 38.701852468821045, 79.29012735641354, 92.98637971857856, 48.317828438932295, 188.5807267480631, 49.232661530717714, 276.1051970041723, 121.53848123296447, 48.69643310683185, 94.64692992370685, 45.87053415889682, 112.96328937418427, 329.9363714607084, 86.7161982226327, 50.212631495699604, 62.50929784081291, 44.22176046366606, 60.01110053138899, 118.47838784861808, 84.2159408028464, 62.28181726123468, 70.04012278763186, 52.14955972031136, 47.897647706328364, 174.93091607792869, 160.82967313272263, 115.16806484977937, 105.89587523535998, 103.36438887049054, 97.14787911091597, 60.23076243346998, 56.01388846452051, 51.38230463934348, 51.24101242763501, 50.234552962066495, 51.13719467420913, 47.24032166102618, 47.081474271246776, 46.70504259562222, 46.24000958509768, 45.89479274662049, 41.978764351467376, 45.44783262719311, 40.684699008164664, 39.37495383887202, 38.867117184228555, 37.33037476497765, 36.23016217684263, 35.60430505407495, 32.5799233049062, 30.74075320981377, 41.14643748124961, 29.446577445201275, 29.110617894892236, 94.49588508317396, 203.80631305056156, 79.65322639922864, 53.81142139911211, 167.15117364586644, 56.78863333696178, 75.39241923046669, 51.66188777535666, 74.78605056378392, 57.87807532192892, 96.38878872186893, 81.67108351615424, 138.82741981471108, 69.716119481343, 72.19048363552915, 103.62593893948551, 53.67487911390995, 61.829358888056404, 113.13335072451669, 110.85975227022652, 80.83607897759452, 50.20049599607208, 44.17616521258483, 43.05586718496052, 42.4474139685294, 41.500661966615, 39.609826359524774, 34.88700954175894, 34.436786721570485, 33.69331677793348, 33.31222686340384, 32.61064936597378, 31.890244463057805, 30.91445463601267, 30.262681450248916, 28.670025352806682, 27.550895612873628, 27.37093264604301, 27.154649066609874, 25.82207523936902, 25.254641709848855, 24.51390929239964, 24.498942766650792, 24.272847990141884, 23.616704094953324, 22.684426071462312, 22.739402994163992, 22.292968467790946, 92.10377824416581, 84.02367935724706, 27.463944591687024, 40.106635515519926, 63.957405012473345, 68.81597478607888, 56.910774108528365, 66.11678779081781, 34.44334019335335, 70.81021422326207, 71.94742822710226, 144.99071030859653, 73.52673888437909, 194.95695079668326, 44.743776750436645, 69.63131516156248, 43.68731285619103, 40.09226695950654, 114.66854296732276, 160.1511856400806, 56.92170693091719, 48.82674866889583, 47.95135208443158, 79.44946391408726, 71.03058706594348, 67.11166432087096, 56.873822908544184, 50.78052991424394, 50.495040581972816, 48.37144815416163, 47.552140615834574, 45.4972014433031, 41.607632693339745, 36.26362345619785, 34.734412806030804, 34.620395469366336, 34.381266372689055, 34.04387284855582, 33.8048121154027, 33.184533583728005, 32.081136537672016, 32.017604035891985, 83.58935710165952, 29.55764353680987, 28.788521336023344, 28.34852067294747, 25.99926676271724, 25.901873156342777, 25.87295375792287, 25.026688203237935, 24.715630912933385, 23.178338717589615, 23.05046637336336, 38.997900734460856, 182.74126029572912, 215.57503691405483, 99.11656901829994, 49.27795499524948, 39.96300162656013, 51.283805902032796, 37.111516713838824, 49.648592724556806, 50.35082284466204, 82.18751420780235, 77.11108631500927, 73.79094991177993, 117.25039747036139, 67.85187200634644, 60.64351133579543, 56.812647320644494, 42.54833106272211, 55.27965063340171, 95.89157510825686, 62.55051509746453, 43.42438683690843, 50.54047953769354, 45.23021258283029, 43.43392517623081, 199.26206508080222, 108.52578771106535, 72.64739235123281, 56.85507358529643, 43.84180724392701, 43.64194998859751, 43.26229053305317, 41.576492633577196, 40.042579848497944, 37.73429773868064, 37.69165583562928, 36.40723411128087, 35.79303296149144, 35.18638228031761, 32.81469307532322, 32.2081125657908, 31.474532612770897, 30.665057819268796, 29.892588742580088, 27.86393781691157, 27.777244964249363, 27.70313809719026, 27.254084502023833, 27.289984313768624, 26.122201891770082, 25.067275117216635, 23.92487237448286, 23.670764019747313, 23.45804710941322, 23.00874370320338, 140.88463738319942, 72.04764375270797, 30.056229010345632, 34.073561094736164, 79.01727643057271, 60.66411378306012, 66.37890348686312, 74.83139206351801, 61.587976772655686, 134.1741177015355, 52.16646835172579, 42.388746224079085, 71.32595368260839, 70.8973621380768, 96.54049381335139, 46.40074526372255, 39.52652917697996, 36.82233866633367, 37.16870027459666, 213.68405626205686, 67.14659933147834, 46.893787650691095, 45.79970194069343, 36.47372220741565, 29.310510658504768, 27.69651877494724, 26.91498047348142, 25.050267415301658, 24.84689144838597, 21.797580169362657, 21.619701239255612, 20.761077127881247, 20.985995473847307, 18.011192348299968, 17.43665449135371, 17.47142471283935, 17.18608715066705, 16.749699671955526, 15.559144138155913, 15.50223496211367, 15.14544997897612, 15.029379460554445, 15.050942475864467, 16.345480369990216, 14.77068330958952, 14.821908134110155, 18.08537032162155, 14.73151475076315, 14.578343051527254, 63.36840035344926, 26.61546767695358, 65.423073933749, 52.98337527905849, 33.30077346876194, 49.56019125589612, 64.69756307723131, 47.68937549293095, 43.7003752465596, 33.02443894386759, 26.428771435905425, 74.41794675697571, 57.351985149751435, 30.72253734489719, 31.93948196472938, 29.575166936461162, 50.65454336124562, 26.681049710119385, 34.710282531477134, 53.99338136315007, 45.8087106060422, 27.11454436043278, 27.86407019511156, 26.6937128694497, 50.61142856555642, 43.77457606527978, 37.946254489302525, 28.63158193366091, 26.979069484841624, 25.358682554523604, 23.759980475005325, 23.421697138026374, 21.161347937657094, 19.595621861621552, 19.369604219681882, 18.63399677766118, 16.902023533797955, 19.29356549438587, 15.624590059173709, 15.402405470848752, 15.102192659815508, 14.908708165273547, 14.890742299096921, 29.184320007298908, 13.588565918207012, 13.149529466914286, 13.142363250265683, 12.79526724494323, 12.560786690318116, 12.438173428004278, 12.428246070764944, 11.76074452666871, 11.433417684081228, 11.359407877099, 47.03977410999908, 21.135883712768095, 20.473137839130377, 19.911129982439903, 13.658609311503465, 15.768244856724383], \"Total\": [214.0, 200.0, 429.0, 245.0, 197.0, 175.0, 161.0, 247.0, 145.0, 255.0, 109.0, 237.0, 144.0, 113.0, 115.0, 111.0, 216.0, 229.0, 110.0, 106.0, 104.0, 92.0, 51.0, 200.0, 97.0, 382.0, 114.0, 52.0, 152.0, 67.0, 58.71678657717825, 59.28065667401282, 53.49747667098117, 52.686464772497146, 51.24641367905619, 50.37528048080772, 48.139159439125685, 45.38862543851056, 43.048679341790326, 41.06866143107332, 40.41972321898129, 38.13682044041416, 37.90204002296145, 37.067435302737074, 36.270407034498575, 30.970393946339815, 30.549314274080736, 29.829388265063695, 28.657242650547843, 28.22186932990733, 27.481309683757075, 27.3347359606981, 26.703111393429424, 25.44694779163766, 25.26208795987936, 24.352438764028307, 23.13177297564438, 22.627944944152127, 22.479857754392683, 22.294313684404344, 37.955999262821145, 104.018310156422, 54.69327293103043, 42.01578515552027, 93.51800355675456, 114.13026206329518, 54.30234514049007, 255.90427929508618, 56.17673359425642, 429.5345660906259, 163.58935891369464, 57.13609734456401, 136.77687961324025, 54.18470460880475, 185.77106743688265, 808.5983967192366, 144.73918686694222, 66.77019386655917, 99.85473432715615, 53.225162182511454, 102.75464188567463, 454.95968855388793, 227.95500199187612, 229.03717601525048, 382.8439921689265, 144.62586368071436, 79.13560882430244, 175.74198911989225, 161.64036057668758, 115.97878011153124, 106.70733799019756, 104.17647968041662, 97.95941434942648, 61.042811718461444, 56.82483750026752, 52.19381905494883, 52.05198229575756, 51.04609660782649, 51.964268786239714, 48.051795223389895, 47.892830017851104, 47.51660963167424, 47.05478132906566, 46.706059547833405, 42.789861111002864, 46.3523343402839, 41.496967859842684, 40.18641979187891, 39.679835222381136, 38.14670870310416, 37.04298525599633, 36.41586704225156, 33.391014269778374, 31.55476162558237, 42.27615114858495, 30.25743771420968, 29.921029521523934, 102.32403985479813, 247.85512752749295, 90.77219100821912, 58.73883008590183, 216.03394621440523, 63.38666182885963, 93.84981331775418, 61.7070186943976, 115.26053510299741, 76.62101060329492, 205.5160856782049, 153.25131638485905, 429.5345660906259, 152.8559879391535, 200.95809507165978, 808.5983967192366, 130.50260553975025, 454.95968855388793, 113.9393937126496, 111.66686610016897, 81.6469282815855, 51.00626379998802, 44.982425603323435, 43.862609517746606, 43.2556084263052, 42.30745797075039, 40.41594112520373, 35.69213805526786, 35.24730003030631, 34.4999735688476, 34.11835288311665, 33.41639932545752, 32.696412578805194, 31.7201173966361, 31.072908535584155, 29.479037235008697, 28.358115474591543, 28.180286163781982, 27.967864254807182, 26.630123767029648, 26.060431545439403, 25.321455704268946, 25.306065891612683, 25.080429419986885, 24.423573300238523, 23.490647009110823, 23.54948981455492, 23.101000011143714, 100.5030089216876, 92.01408719253635, 28.725758637910708, 43.685030919190766, 73.184245013367, 81.70014824160134, 66.96944826559842, 80.89150880852884, 37.612487693163544, 89.08399464665509, 92.5405797816104, 229.03717601525048, 106.2990048097901, 454.95968855388793, 55.75930087298799, 123.15174513992159, 57.26038248055588, 49.30106815475591, 382.8439921689265, 808.5983967192366, 138.35547796976863, 147.38173562590612, 185.77106743688265, 80.25520277144757, 71.83630804231387, 67.92113168240607, 57.67919699909753, 51.58673138095785, 51.300119492118306, 49.17705759326282, 48.358140072552295, 46.30336863194368, 42.41408761358644, 37.068886364542706, 35.539565723965616, 35.42595213110382, 35.18655050373203, 34.849769648928934, 34.61029643915347, 33.990292453194115, 32.8863825793473, 32.824677165902045, 85.70671008045137, 30.362155239425647, 29.59708391650057, 29.15558168633993, 26.8065397241857, 26.708994539532576, 26.682064033681783, 25.83235381680128, 25.52247171664483, 23.983831465655566, 23.858887301033104, 40.586219785557454, 197.27485164515082, 245.99795858422831, 114.98643579346161, 54.077129908702574, 43.10215041598505, 57.09750566134144, 40.925569451542096, 62.21964825647063, 66.35299509842176, 152.8559879391535, 138.35547796976863, 130.50260553975025, 382.8439921689265, 136.92051790819758, 109.58006594733659, 101.80915001896865, 56.32108545455557, 103.7185654928314, 808.5983967192366, 227.95500199187612, 65.14212836118004, 255.90427929508618, 103.71957981226124, 85.60099805490437, 200.07815622561176, 109.33190330445748, 73.46489323451462, 57.66116710580638, 44.64771671612266, 44.44943203049922, 44.071463029231694, 42.384776664786564, 40.849256610901385, 38.5409997303466, 38.49974951493054, 37.21315045751639, 36.5993684819393, 35.99340337650101, 33.62355132619731, 33.01440051964572, 32.281864828399556, 31.471125922868907, 30.700055867271864, 28.66899031813059, 28.58405720081618, 28.51419428311623, 28.060528661419486, 28.098528835641954, 26.93057055754918, 25.87698405390008, 24.731242775690497, 24.478629160147115, 24.265164455010346, 23.81796177987596, 145.92228026962894, 74.82672171292124, 31.14377499985508, 35.71740072142648, 87.27389026985084, 66.15644421602215, 76.45013263770491, 94.66251636862424, 74.98433913248464, 237.68611938450292, 69.59459019480047, 53.21491627266842, 147.38173562590612, 205.5160856782049, 808.5983967192366, 98.80324903955349, 82.93720682817964, 102.75464188567463, 454.95968855388793, 214.49368541250414, 67.95533495801553, 47.704717076780405, 46.769928888471654, 37.28507159069859, 30.121292113923023, 28.507616954045993, 27.723520103842805, 25.861761145674873, 25.65833638737585, 22.609794793470503, 22.42914426009766, 21.57060210671033, 21.815911036134523, 18.81957638410031, 18.245723962845656, 18.283782576200608, 17.99718937350154, 17.56208732419875, 16.36972272847091, 16.31278517725745, 15.955465585612114, 15.839157295749798, 15.862262288494778, 17.237405333283053, 15.580356803618855, 15.635872851361365, 19.081874352136094, 15.545058242132237, 15.38894127269187, 67.54199584281444, 28.448247643613925, 75.86162373662081, 65.45693368300093, 39.339720144005575, 65.01446842046656, 110.76477661536974, 75.99925569288759, 67.9471138330335, 47.85088825974373, 34.78403477032648, 200.95809507165978, 144.73918686694222, 51.624953263989866, 57.241550893371546, 53.53918181287414, 227.95500199187612, 43.40926257059418, 95.63086040425146, 382.8439921689265, 237.68611938450292, 99.85473432715615, 247.85512752749295, 147.38173562590612, 51.44057567881049, 44.59578939645847, 38.765932282793386, 29.45336360293154, 27.79835090655956, 26.177781213187714, 24.58093373629357, 24.242586098832927, 21.98094967594014, 20.4154192818197, 20.187937829393185, 19.45238809397133, 17.72181008731015, 20.274314918606716, 16.447881229206413, 16.222877039926, 15.922456440451299, 15.728347505541297, 15.711799561509642, 30.856443067881134, 14.409040521705888, 13.968614560383696, 13.963052120548614, 13.61482637588146, 13.380954667066023, 13.25784748889526, 13.24840773360531, 12.5810102120921, 12.255232621189172, 12.17875370102754, 52.609316976396336, 63.37077995659047, 84.80765274092145, 92.5405797816104, 27.439634860723142, 382.8439921689265], \"Category\": [\"Default\", \"Default\", \"Default\", \"Default\", \"Default\", \"Default\", \"Default\", \"Default\", \"Default\", \"Default\", \"Default\", \"Default\", \"Default\", \"Default\", \"Default\", \"Default\", \"Default\", \"Default\", \"Default\", \"Default\", \"Default\", \"Default\", \"Default\", \"Default\", \"Default\", \"Default\", \"Default\", \"Default\", \"Default\", \"Default\", \"Topic1\", \"Topic1\", \"Topic1\", \"Topic1\", \"Topic1\", \"Topic1\", \"Topic1\", \"Topic1\", \"Topic1\", \"Topic1\", \"Topic1\", \"Topic1\", \"Topic1\", \"Topic1\", \"Topic1\", \"Topic1\", \"Topic1\", \"Topic1\", \"Topic1\", \"Topic1\", \"Topic1\", \"Topic1\", \"Topic1\", \"Topic1\", \"Topic1\", \"Topic1\", \"Topic1\", \"Topic1\", \"Topic1\", \"Topic1\", \"Topic1\", \"Topic1\", \"Topic1\", \"Topic1\", \"Topic1\", \"Topic1\", \"Topic1\", \"Topic1\", \"Topic1\", \"Topic1\", \"Topic1\", \"Topic1\", \"Topic1\", \"Topic1\", \"Topic1\", \"Topic1\", \"Topic1\", \"Topic1\", \"Topic1\", \"Topic1\", \"Topic1\", \"Topic1\", \"Topic1\", \"Topic1\", \"Topic1\", \"Topic1\", \"Topic1\", \"Topic2\", \"Topic2\", \"Topic2\", \"Topic2\", \"Topic2\", \"Topic2\", \"Topic2\", \"Topic2\", \"Topic2\", \"Topic2\", \"Topic2\", \"Topic2\", \"Topic2\", \"Topic2\", \"Topic2\", \"Topic2\", \"Topic2\", \"Topic2\", \"Topic2\", \"Topic2\", \"Topic2\", \"Topic2\", \"Topic2\", \"Topic2\", \"Topic2\", \"Topic2\", \"Topic2\", \"Topic2\", \"Topic2\", \"Topic2\", \"Topic2\", \"Topic2\", \"Topic2\", \"Topic2\", \"Topic2\", \"Topic2\", \"Topic2\", \"Topic2\", \"Topic2\", \"Topic2\", \"Topic2\", \"Topic2\", \"Topic2\", \"Topic2\", \"Topic2\", \"Topic2\", \"Topic2\", \"Topic2\", \"Topic3\", \"Topic3\", \"Topic3\", \"Topic3\", \"Topic3\", \"Topic3\", \"Topic3\", \"Topic3\", \"Topic3\", \"Topic3\", \"Topic3\", \"Topic3\", \"Topic3\", \"Topic3\", \"Topic3\", \"Topic3\", \"Topic3\", \"Topic3\", \"Topic3\", \"Topic3\", \"Topic3\", \"Topic3\", \"Topic3\", \"Topic3\", \"Topic3\", \"Topic3\", \"Topic3\", \"Topic3\", \"Topic3\", \"Topic3\", \"Topic3\", \"Topic3\", \"Topic3\", \"Topic3\", \"Topic3\", \"Topic3\", \"Topic3\", \"Topic3\", \"Topic3\", \"Topic3\", \"Topic3\", \"Topic3\", \"Topic3\", \"Topic3\", \"Topic3\", \"Topic3\", \"Topic3\", \"Topic3\", \"Topic3\", \"Topic3\", \"Topic3\", \"Topic3\", \"Topic3\", \"Topic4\", \"Topic4\", \"Topic4\", \"Topic4\", \"Topic4\", \"Topic4\", \"Topic4\", \"Topic4\", \"Topic4\", \"Topic4\", \"Topic4\", \"Topic4\", \"Topic4\", \"Topic4\", \"Topic4\", \"Topic4\", \"Topic4\", \"Topic4\", \"Topic4\", \"Topic4\", \"Topic4\", \"Topic4\", \"Topic4\", \"Topic4\", \"Topic4\", \"Topic4\", \"Topic4\", \"Topic4\", \"Topic4\", \"Topic4\", \"Topic4\", \"Topic4\", \"Topic4\", \"Topic4\", \"Topic4\", \"Topic4\", \"Topic4\", \"Topic4\", \"Topic4\", \"Topic4\", \"Topic4\", \"Topic4\", \"Topic4\", \"Topic4\", \"Topic4\", \"Topic4\", \"Topic4\", \"Topic4\", \"Topic4\", \"Topic4\", \"Topic4\", \"Topic4\", \"Topic4\", \"Topic4\", \"Topic4\", \"Topic5\", \"Topic5\", \"Topic5\", \"Topic5\", \"Topic5\", \"Topic5\", \"Topic5\", \"Topic5\", \"Topic5\", \"Topic5\", \"Topic5\", \"Topic5\", \"Topic5\", \"Topic5\", \"Topic5\", \"Topic5\", \"Topic5\", \"Topic5\", \"Topic5\", \"Topic5\", \"Topic5\", \"Topic5\", \"Topic5\", \"Topic5\", \"Topic5\", \"Topic5\", \"Topic5\", \"Topic5\", \"Topic5\", \"Topic5\", \"Topic5\", \"Topic5\", \"Topic5\", \"Topic5\", \"Topic5\", \"Topic5\", \"Topic5\", \"Topic5\", \"Topic5\", \"Topic5\", \"Topic5\", \"Topic5\", \"Topic5\", \"Topic5\", \"Topic5\", \"Topic5\", \"Topic5\", \"Topic5\", \"Topic5\", \"Topic6\", \"Topic6\", \"Topic6\", \"Topic6\", \"Topic6\", \"Topic6\", \"Topic6\", \"Topic6\", \"Topic6\", \"Topic6\", \"Topic6\", \"Topic6\", \"Topic6\", \"Topic6\", \"Topic6\", \"Topic6\", \"Topic6\", \"Topic6\", \"Topic6\", \"Topic6\", \"Topic6\", \"Topic6\", \"Topic6\", \"Topic6\", \"Topic6\", \"Topic6\", \"Topic6\", \"Topic6\", \"Topic6\", \"Topic6\", \"Topic6\", \"Topic6\", \"Topic6\", \"Topic6\", \"Topic6\", \"Topic6\", \"Topic6\", \"Topic6\", \"Topic6\", \"Topic6\", \"Topic6\", \"Topic6\", \"Topic6\", \"Topic6\", \"Topic6\", \"Topic6\", \"Topic6\", \"Topic6\", \"Topic6\", \"Topic6\", \"Topic6\", \"Topic6\", \"Topic6\", \"Topic6\", \"Topic7\", \"Topic7\", \"Topic7\", \"Topic7\", \"Topic7\", \"Topic7\", \"Topic7\", \"Topic7\", \"Topic7\", \"Topic7\", \"Topic7\", \"Topic7\", \"Topic7\", \"Topic7\", \"Topic7\", \"Topic7\", \"Topic7\", \"Topic7\", \"Topic7\", \"Topic7\", \"Topic7\", \"Topic7\", \"Topic7\", \"Topic7\", \"Topic7\", \"Topic7\", \"Topic7\", \"Topic7\", \"Topic7\", \"Topic7\", \"Topic7\", \"Topic7\", \"Topic7\", \"Topic7\", \"Topic7\", \"Topic7\"], \"logprob\": [30.0, 29.0, 28.0, 27.0, 26.0, 25.0, 24.0, 23.0, 22.0, 21.0, 20.0, 19.0, 18.0, 17.0, 16.0, 15.0, 14.0, 13.0, 12.0, 11.0, 10.0, 9.0, 8.0, 7.0, 6.0, 5.0, 4.0, 3.0, 2.0, 1.0, -4.9726, -4.9641, -5.0671, -5.0826, -5.1107, -5.1282, -5.1743, -5.2342, -5.2881, -5.3361, -5.3523, -5.4116, -5.4181, -5.4408, -5.463, -5.6248, -5.6389, -5.6634, -5.7046, -5.7204, -5.7477, -5.7532, -5.7773, -5.8271, -5.8345, -5.8724, -5.9256, -5.9486, -5.9553, -5.964, -5.4328, -4.437, -5.0782, -5.3757, -4.6585, -4.4991, -5.1538, -3.7921, -5.135, -3.4108, -4.2313, -5.146, -4.4814, -5.2058, -4.3045, -3.2327, -4.5689, -5.1153, -4.8963, -5.2424, -4.937, -4.2568, -4.5982, -4.8999, -4.7825, -5.0775, -5.1625, -3.7942, -3.8783, -4.2122, -4.2962, -4.3204, -4.3824, -4.8604, -4.933, -5.0193, -5.0221, -5.0419, -5.0241, -5.1034, -5.1067, -5.1148, -5.1248, -5.1323, -5.2215, -5.1421, -5.2528, -5.2855, -5.2985, -5.3388, -5.3687, -5.3862, -5.4749, -5.533, -5.2415, -5.5761, -5.5875, -4.4101, -3.6415, -4.5809, -4.9731, -3.8397, -4.9193, -4.6359, -5.0139, -4.644, -4.9003, -4.3902, -4.5559, -4.0254, -4.7142, -4.6793, -4.3178, -4.9757, -4.8343, -4.1837, -4.204, -4.5199, -4.9963, -5.1241, -5.1498, -5.164, -5.1866, -5.2332, -5.3602, -5.3732, -5.395, -5.4064, -5.4277, -5.45, -5.4811, -5.5024, -5.5564, -5.5963, -5.6028, -5.6108, -5.6611, -5.6833, -5.7131, -5.7137, -5.7229, -5.7503, -5.7906, -5.7882, -5.808, -4.3894, -4.4812, -5.5994, -5.2208, -4.7541, -4.6809, -4.8708, -4.7209, -5.373, -4.6523, -4.6364, -3.9356, -4.6147, -3.6395, -5.1113, -4.6691, -5.1352, -5.2211, -4.1703, -3.8362, -4.8706, -5.024, -5.0421, -4.4772, -4.5893, -4.646, -4.8115, -4.9249, -4.9305, -4.9735, -4.9905, -5.0347, -5.1241, -5.2616, -5.3046, -5.3079, -5.3149, -5.3247, -5.3318, -5.3503, -5.3841, -5.3861, -4.4265, -5.466, -5.4924, -5.5078, -5.5943, -5.5981, -5.5992, -5.6324, -5.6449, -5.7092, -5.7147, -5.1889, -3.6443, -3.4791, -4.2561, -4.9549, -5.1644, -4.915, -5.2384, -4.9474, -4.9334, -4.4434, -4.5071, -4.5511, -4.0881, -4.635, -4.7474, -4.8126, -5.1017, -4.84, -4.2892, -4.7164, -5.0813, -4.9296, -5.0406, -5.0811, -3.4095, -4.0171, -4.4185, -4.6636, -4.9235, -4.9281, -4.9368, -4.9766, -5.0142, -5.0736, -5.0747, -5.1094, -5.1264, -5.1435, -5.2132, -5.2319, -5.2549, -5.281, -5.3065, -5.3768, -5.3799, -5.3826, -5.3989, -5.3976, -5.4413, -5.4826, -5.5292, -5.5399, -5.5489, -5.5682, -3.7562, -4.4268, -5.3011, -5.1756, -4.3345, -4.5988, -4.5087, -4.3889, -4.5837, -3.805, -4.7497, -4.9572, -4.4369, -4.4429, -4.1342, -4.8668, -5.0271, -5.098, -5.0887, -2.9367, -4.0943, -4.4533, -4.4769, -4.7046, -4.9233, -4.9799, -5.0085, -5.0803, -5.0885, -5.2194, -5.2276, -5.2681, -5.2574, -5.4102, -5.4426, -5.4406, -5.4571, -5.4828, -5.5566, -5.5602, -5.5835, -5.5912, -5.5898, -5.5073, -5.6086, -5.6051, -5.4061, -5.6112, -5.6217, -4.1522, -5.0197, -4.1203, -4.3312, -4.7956, -4.398, -4.1315, -4.4365, -4.5238, -4.804, -5.0268, -3.9915, -4.252, -4.8762, -4.8374, -4.9143, -4.3762, -5.0173, -4.7542, -4.3123, -4.4767, -5.0011, -4.9739, -5.0168, -3.572, -3.7171, -3.86, -4.1417, -4.2011, -4.2631, -4.3282, -4.3425, -4.444, -4.5209, -4.5325, -4.5712, -4.6688, -4.5364, -4.7474, -4.7617, -4.7814, -4.7943, -4.7955, -4.1226, -4.887, -4.9198, -4.9204, -4.9471, -4.9656, -4.9754, -4.9762, -5.0314, -5.0597, -5.0662, -3.6452, -4.4452, -4.4771, -4.5049, -4.8818, -4.7382], \"loglift\": [30.0, 29.0, 28.0, 27.0, 26.0, 25.0, 24.0, 23.0, 22.0, 21.0, 20.0, 19.0, 18.0, 17.0, 16.0, 15.0, 14.0, 13.0, 12.0, 11.0, 10.0, 9.0, 8.0, 7.0, 6.0, 5.0, 4.0, 3.0, 2.0, 1.0, 1.6098, 1.6087, 1.6084, 1.6082, 1.6077, 1.6074, 1.6067, 1.6057, 1.6047, 1.6038, 1.6035, 1.6023, 1.602, 1.6016, 1.6011, 1.5973, 1.5969, 1.5962, 1.5951, 1.5946, 1.5939, 1.5937, 1.5931, 1.5914, 1.5913, 1.5901, 1.5883, 1.5874, 1.5872, 1.5868, 1.5859, 1.5736, 1.5752, 1.5414, 1.4585, 1.4187, 1.5068, 1.3183, 1.4916, 1.1816, 1.3264, 1.4637, 1.2553, 1.457, 1.1261, 0.7271, 1.1112, 1.3385, 1.1551, 1.4382, 1.0857, 0.2781, 0.6278, 0.3213, -0.075, 0.6035, 1.1214, 1.6919, 1.6915, 1.6895, 1.6889, 1.6887, 1.6882, 1.6831, 1.6821, 1.6808, 1.6808, 1.6805, 1.6804, 1.6795, 1.6794, 1.6793, 1.679, 1.679, 1.6774, 1.6768, 1.6767, 1.6761, 1.6758, 1.6749, 1.6743, 1.6739, 1.6719, 1.6704, 1.6694, 1.6693, 1.669, 1.6169, 1.5008, 1.5658, 1.6089, 1.44, 1.5866, 1.4775, 1.5188, 1.2639, 1.416, 0.9394, 1.0671, 0.567, 0.9114, 0.6727, -0.358, 0.808, -0.2993, 1.7357, 1.7356, 1.7328, 1.7269, 1.7247, 1.7243, 1.724, 1.7236, 1.7227, 1.72, 1.7196, 1.7192, 1.7189, 1.7184, 1.7179, 1.7171, 1.7164, 1.715, 1.7139, 1.7137, 1.7133, 1.712, 1.7114, 1.7104, 1.7104, 1.7101, 1.7092, 1.7079, 1.7078, 1.7072, 1.6555, 1.652, 1.6979, 1.6574, 1.6081, 1.5712, 1.5801, 1.5411, 1.6548, 1.5132, 1.4911, 1.2856, 1.3742, 0.8954, 1.5227, 1.1726, 1.4723, 1.5361, 0.5372, 0.1236, 0.8547, 0.6381, 0.3885, 1.7927, 1.7915, 1.7908, 1.7887, 1.787, 1.7869, 1.7862, 1.7859, 1.7852, 1.7835, 1.7808, 1.7798, 1.7797, 1.7796, 1.7794, 1.7792, 1.7788, 1.778, 1.7779, 1.7777, 1.7759, 1.775, 1.7747, 1.7722, 1.7721, 1.772, 1.7711, 1.7706, 1.7686, 1.7683, 1.7628, 1.7262, 1.6707, 1.6542, 1.7098, 1.7271, 1.6954, 1.7049, 1.577, 1.5268, 1.1823, 1.2182, 1.2326, 0.6194, 1.1007, 1.2111, 1.2194, 1.5223, 1.1735, -0.3293, 0.5096, 1.3972, 0.1807, 0.9728, 1.1243, 1.9469, 1.9436, 1.9398, 1.9369, 1.9328, 1.9327, 1.9325, 1.9317, 1.9311, 1.9298, 1.9298, 1.9291, 1.9287, 1.9283, 1.9266, 1.9263, 1.9257, 1.925, 1.9243, 1.9225, 1.9224, 1.9221, 1.9218, 1.9218, 1.9205, 1.9192, 1.9178, 1.9174, 1.9172, 1.9164, 1.9159, 1.9131, 1.9155, 1.9039, 1.8516, 1.8643, 1.8097, 1.7159, 1.7542, 1.3792, 1.6627, 1.7235, 1.2252, 0.8867, -0.1743, 1.1952, 1.2099, 0.9248, -0.5537, 2.3501, 2.3419, 2.3368, 2.3329, 2.3319, 2.3266, 2.325, 2.3243, 2.322, 2.3218, 2.3173, 2.3172, 2.3157, 2.3151, 2.31, 2.3086, 2.3085, 2.3078, 2.3065, 2.3031, 2.3029, 2.3018, 2.3014, 2.3014, 2.3008, 2.3005, 2.3004, 2.3003, 2.3002, 2.2998, 2.2901, 2.2873, 2.2059, 2.1425, 2.1873, 2.0825, 1.8162, 1.8879, 1.9125, 1.9831, 2.0792, 1.3605, 1.4282, 1.8349, 1.7705, 1.7604, 0.8498, 1.8672, 1.3404, 0.3951, 0.7074, 1.0503, 0.1684, 0.6453, 3.1427, 3.1403, 3.1375, 3.1306, 3.129, 3.1271, 3.1249, 3.1245, 3.1209, 3.1179, 3.1175, 3.1159, 3.1116, 3.1093, 3.1076, 3.107, 3.106, 3.1054, 3.1052, 3.1032, 3.1003, 3.0985, 3.0983, 3.0968, 3.0957, 3.0951, 3.095, 3.0915, 3.0895, 3.0893, 3.047, 2.0609, 1.7376, 1.6225, 2.4613, -0.0307]}, \"token.table\": {\"Topic\": [2, 3, 6, 1, 6, 2, 2, 4, 7, 2, 5, 4, 6, 2, 3, 6, 4, 1, 2, 1, 2, 3, 6, 6, 1, 7, 4, 2, 6, 7, 2, 3, 2, 4, 2, 7, 1, 2, 5, 6, 3, 2, 1, 5, 5, 4, 7, 3, 5, 1, 6, 5, 3, 1, 5, 6, 3, 7, 5, 7, 2, 3, 6, 5, 5, 7, 2, 1, 2, 4, 1, 6, 4, 4, 7, 5, 4, 1, 5, 7, 5, 7, 7, 5, 7, 5, 4, 6, 2, 3, 1, 2, 4, 4, 3, 1, 2, 5, 1, 5, 2, 6, 1, 2, 3, 4, 5, 6, 2, 3, 1, 3, 5, 2, 3, 4, 5, 3, 3, 5, 7, 2, 1, 2, 3, 5, 6, 7, 2, 6, 4, 1, 6, 1, 5, 6, 2, 3, 6, 2, 2, 4, 4, 7, 6, 1, 3, 1, 1, 7, 3, 2, 4, 5, 1, 5, 6, 6, 3, 5, 6, 1, 2, 4, 2, 3, 6, 3, 1, 1, 3, 4, 6, 2, 2, 3, 4, 5, 2, 3, 4, 2, 6, 4, 3, 5, 6, 1, 5, 2, 4, 2, 4, 1, 2, 5, 6, 1, 3, 4, 5, 6, 7, 7, 2, 4, 3, 2, 6, 1, 5, 3, 4, 1, 3, 4, 6, 7, 6, 2, 4, 5, 6, 3, 1, 3, 1, 4, 2, 4, 4, 5, 6, 5, 2, 6, 6, 1, 2, 3, 5, 6, 1, 3, 4, 5, 6, 7, 3, 3, 3, 2, 5, 2, 5, 2, 4, 1, 2, 3, 4, 5, 5, 6, 6, 1, 5, 6, 1, 4, 5, 3, 4, 6, 1, 6, 6, 5, 7, 2, 5, 6, 2, 4, 5, 2, 4, 1, 4, 3, 2, 3, 6, 3, 6, 1, 2, 4, 5, 6, 1, 2, 3, 6, 1, 2, 3, 4, 5, 5, 2, 3, 7, 6, 3, 2, 2, 7, 2, 1, 2, 1, 1, 1, 1, 6, 2, 5, 4, 1, 5, 1, 2, 3, 4, 5, 6, 7, 7, 2, 2, 6, 7, 3, 7, 4, 4, 6, 3, 7, 3, 4, 5, 4, 1, 3, 2, 4, 5, 2, 4, 4, 5, 1, 1, 6, 6, 1, 4, 7, 7, 1, 6, 6, 5, 1, 2, 3, 5, 7, 3, 5, 6, 5, 2, 3, 5, 7, 5, 3, 4, 7, 2, 5, 6, 4, 4, 5, 6, 1, 2, 3, 6, 7, 1, 3, 6, 3, 1, 1, 3, 4, 6, 4, 5, 1, 6, 6, 2, 4, 6, 7, 1, 2, 3, 4, 1, 2, 3, 4, 5, 6, 1, 2, 3, 4, 5, 6, 7, 1, 4, 2, 3, 4, 5, 6, 7, 4, 1, 4, 5, 3, 7, 2, 2, 4, 6, 1, 4, 3, 6, 1, 2, 3, 5, 5, 1, 6, 1, 3, 1, 1, 2, 6, 7, 3, 5, 5, 1, 6, 6, 4, 7, 1, 1, 2, 4, 4, 7, 1, 6, 3, 2, 4, 7, 3, 6, 7, 7, 1, 1, 3, 1, 3, 6, 1, 7, 3, 7, 1, 3, 5, 7, 3, 3, 1, 4, 5, 1, 3, 4, 6, 2, 3, 4, 5, 7, 4, 3, 1, 3, 4, 1, 1, 5, 6], \"Freq\": [0.03367608302590463, 0.7970006316130762, 0.16838041512952315, 0.9721955992629229, 0.9808257649531534, 0.9718439200083774, 0.98828983550427, 0.9744373586383427, 0.9550083636349448, 0.988023995836968, 0.9850298993425413, 0.9798262586211174, 0.9456406486784553, 0.05317382929615476, 0.9039550980346309, 0.982193637761295, 0.9718515375780994, 0.9869707566172576, 0.9915606966154499, 0.9712028821519719, 0.12297728832696385, 0.8745051614361873, 0.974725923908615, 0.9297857229022366, 0.9722491394732508, 0.9032122883864474, 0.9748763053560596, 0.977583971293176, 0.8388468417975872, 0.12709800633296775, 0.06867340910321079, 0.9156454547094772, 0.08756949961450437, 0.8932088960679446, 0.9902060015793459, 0.9866402320819601, 0.07177752373999692, 0.5350688133345225, 0.2349082595127172, 0.16313073577272028, 0.9654712549887153, 0.9699395113736026, 0.950756778910878, 0.03656756841964915, 0.9602914876444234, 0.9280279432453892, 0.04640139716226946, 0.187917236377126, 0.7892523927839292, 0.8576014512244581, 0.14001656346521765, 0.9885335809351005, 0.9873716758466404, 0.9739786641727565, 0.9766650199150015, 0.9859417224768923, 0.9672213694797072, 0.8975757817098561, 0.9870194086655879, 0.9715300831260082, 0.9828669847399548, 0.9781597904037693, 0.9317251556922399, 0.9969642593385278, 0.9836235293995559, 0.9763664902836532, 0.9815409283766111, 0.7488371248393475, 0.13479068247108253, 0.10483719747750865, 0.3685849298632993, 0.6219870691443176, 0.9746565991465564, 0.9734548397738007, 0.9727696702715051, 0.965657775949281, 0.9677786305226309, 0.9783967191683586, 0.9478608744912458, 0.9536920515467572, 0.0324081423707878, 0.9398361287528462, 0.9051243054388105, 0.9814549236590759, 0.9371463389158853, 0.9692739985073457, 0.9760649040250005, 0.9401167217286528, 0.9933712338483925, 0.992076514142034, 0.9517555116125661, 0.03845476814596226, 0.9589793871315183, 0.9640013681192956, 0.9763379332164503, 0.951072795983428, 0.9193237236939927, 0.06809805360696242, 0.9877541908149622, 0.9819670765370112, 0.04441681005372836, 0.9327530111282957, 0.3595484146238092, 0.29731888132353457, 0.1797742073119046, 0.020743177766758224, 0.14520224436730758, 0.006914392588919408, 0.9781112189773522, 0.9581166011969419, 0.04000835420712994, 0.12002506262138983, 0.8268393202806855, 0.9813577519324225, 0.411982241949645, 0.5565374145635555, 0.028911034522782108, 0.9483892163560058, 0.9837499023055, 0.9792099861451397, 0.9306577931407186, 0.9887068589375863, 0.6309165051062254, 0.040058190800395264, 0.010014547700098816, 0.03004364310029645, 0.2703927879026681, 0.03004364310029645, 0.9824190836183466, 0.9655338843168756, 0.9756162047127032, 0.8489480625963443, 0.14764314132110334, 0.16919310835335846, 0.0461435750054614, 0.7690595834243567, 0.9584420291603492, 0.9653937016430983, 0.9626001850308659, 0.9957779633449689, 0.9698139231241805, 0.9711648644086291, 0.09504019986123935, 0.8933778786956499, 0.9282139446536194, 0.1825518256876104, 0.8113414475004905, 0.9907009320450618, 0.928222568152483, 0.07140173601172947, 0.9873050069465497, 0.9186502031525507, 0.06841012151136017, 0.9898889139867786, 0.5839152265914792, 0.36008105639807886, 0.048659602215956596, 0.9627507372947932, 0.045832722566073326, 0.9051962706799482, 0.045832722566073326, 0.3044912956666882, 0.13751219804302048, 0.5598710920322977, 0.11622286550688658, 0.2711866861827354, 0.600484805118914, 0.9593087496041492, 0.9736693083038094, 0.3684937784475271, 0.13160492087411682, 0.27637033383564535, 0.22372836548599861, 0.9704770965409895, 0.08943163645184203, 0.028455520689222465, 0.8780560669817218, 0.0040650743841746375, 0.0152072095098886, 0.05575976820292486, 0.9276397801032045, 0.9891278095032716, 0.9835379504145144, 0.9823666220187856, 0.7684195964800138, 0.03492816347636426, 0.19210489912000345, 0.9701910010513237, 0.9661094951377108, 0.07330380591410338, 0.9040802729406083, 0.9692179869392066, 0.9662782942134047, 0.2170316639345048, 0.07234388797816826, 0.4822925865211218, 0.22908897859753283, 0.1828421013045782, 0.3003834521432356, 0.3056075121805093, 0.028732330205005145, 0.1410496210063889, 0.0417924802981893, 0.9767438274526543, 0.45794738527262996, 0.5364526513193665, 0.9855080013945559, 0.9708248924346272, 0.9470200794094662, 0.9756780311133151, 0.9632743622165135, 0.9153954790715452, 0.07959960687578654, 0.36637248308161596, 0.04820690566863368, 0.43386215101770315, 0.14462071700590104, 0.9057692245960505, 0.9679942757473794, 0.4137848418938421, 0.5670384870397096, 0.015325364514586744, 0.9433035595889989, 0.9802717602697993, 0.8839397244412787, 0.09207705462929987, 0.13045016915684707, 0.8609711164351905, 0.8813271896538915, 0.11016589870673643, 0.9699125760920938, 0.7922882559760333, 0.20071302484726175, 0.9854927247401934, 0.35321588579869956, 0.6475624572976159, 0.9852275179486722, 0.054693980589459686, 0.11359519045503165, 0.07152289769390882, 0.563768722999046, 0.19353254670116504, 0.6945618314193784, 0.28513590974058695, 0.007311177172835563, 0.007311177172835563, 0.9808666681563448, 0.9796516899268566, 0.9772977701301804, 0.9875390726151547, 0.9826571937270789, 0.8426918217768492, 0.1458505076152239, 0.2442718601031449, 0.7471845132566785, 0.8992428115854523, 0.09465713806162655, 0.10183584749299474, 0.7730266605150056, 0.013886706476317465, 0.06480463022281484, 0.04628902158772488, 0.9936718994060117, 0.974342202961383, 0.9730296184003135, 0.3947238616048678, 0.4655717342006133, 0.13157462053495594, 0.9877924760709428, 0.9603649929275345, 0.9724004044266187, 0.2620474072748607, 0.15722844436491643, 0.5590344688530362, 0.8148583760232093, 0.17523836043509877, 0.9564508590749828, 0.9804470602901916, 0.9846074082049354, 0.2716772973875328, 0.02089825364519483, 0.6896423702914294, 0.3663760660344498, 0.5302811482077562, 0.08677327879763284, 0.011667697885746842, 0.9800866224027347, 0.9855275782666619, 0.988358142767843, 0.9766665936764666, 0.2822227738978513, 0.6961495089480332, 0.018814851593190088, 0.8511343825611353, 0.1343896393517582, 0.02420768962842804, 0.8230614473665533, 0.036311534442642054, 0.00403461493807134, 0.11296921826599751, 0.608275559585686, 0.05382969553855628, 0.25838253858507015, 0.08074454330783443, 0.29205266957243925, 0.08177474748028299, 0.1168210678289757, 0.5023305916645955, 0.9771969187841718, 0.9909218192222718, 0.9814436186871727, 0.9917553211225723, 0.9548414089972811, 0.9593324365447241, 0.9646128915056228, 0.9795068246674496, 0.9771271948179918, 0.9246202115126443, 0.9885800592975295, 0.9748129602332043, 0.026346296222519036, 0.9824859262787772, 0.9567048760794704, 0.9770653911626324, 0.8447571269210872, 0.1497037946442433, 0.027997558047389234, 0.951916973611234, 0.9864382165080345, 0.975639686098981, 0.9609044002955589, 0.0803385801343176, 0.12415962384394538, 0.03651753642468982, 0.49663849537578153, 0.23371223311801484, 0.014607014569875927, 0.9411560586607527, 0.9914352498393214, 0.9848829133806438, 0.7569725267693851, 0.15661500553849347, 0.07830750276924674, 0.7780370532572326, 0.21612140368256463, 0.9882245760268099, 0.9843598579518619, 0.9774142339119847, 0.9806081088727128, 0.9592699569765163, 0.9940280754402943, 0.9061131772844787, 0.07396842263546764, 0.9886263121300523, 0.07607530774448415, 0.9129036929338097, 0.4671167207335579, 0.18490036862370002, 0.34547174137586056, 0.9854845603339625, 0.99023702649556, 0.11772379836998785, 0.8633078547132442, 0.9500402357127496, 0.8266766731329449, 0.15030484966053542, 0.9649368800269305, 0.23081941505707407, 0.763479603650322, 0.9712806378607455, 0.9716122304542272, 0.6010811714727853, 0.393811801999411, 0.962774103126714, 0.9946113246645675, 0.00685296308522758, 0.01370592617045516, 0.00685296308522758, 0.9662677950170888, 0.9487436656399976, 0.33246996170797566, 0.4817421894135974, 0.18319773400235395, 0.9673999529037092, 0.6506997380584744, 0.2863078847457287, 0.06073197555212427, 0.9802421291662485, 0.9795670293858948, 0.04521272921516329, 0.7535454869193882, 0.19592182659904092, 0.9829167155131869, 0.9654455684271299, 0.9445919386184951, 0.979528953055746, 0.973047124377129, 0.9622230982700781, 0.02672841939639106, 0.6425559705520132, 0.32360608661858636, 0.004656202685159516, 0.030265317453536854, 0.9553727345541461, 0.14473825960152711, 0.22368640120236005, 0.6315851328066637, 0.9569214146259443, 0.9914378231383755, 0.3869043930337271, 0.02091375097479606, 0.21959438523535862, 0.36599064205893106, 0.9880721498006378, 0.9756880540017241, 0.4062663364208491, 0.5868291526078931, 0.9739023002442422, 0.028748821308477956, 0.14374410654238978, 0.7474693540204269, 0.05749764261695591, 0.745769778732148, 0.04279006927151669, 0.20172461228000726, 0.006112867038788099, 0.40811359673593733, 0.1286176183652651, 0.19787325902348477, 0.11872395541409086, 0.11996066328298764, 0.027207573115729158, 0.25936363807322993, 0.13627580983508691, 0.4286094019006766, 0.05275192638777558, 0.08132588651448736, 0.03956394479083168, 0.9420656954596666, 0.982436094289291, 0.984817886404229, 0.3582836509986098, 0.06469010365252677, 0.05971394183310163, 0.09454707456907759, 0.36823597463746005, 0.0547377800136765, 0.9708654329892047, 0.6065537463238581, 0.2148211184896997, 0.1769115093444586, 0.9399229569647242, 0.03481196136906386, 0.9960383621120186, 0.9797897745799529, 0.1318189554539245, 0.8568232104505092, 0.1928651211677662, 0.8036046715323591, 0.18332664432639598, 0.8096926791082489, 0.2706984127147626, 0.07422375832501556, 0.6330849974780738, 0.021830517154416338, 0.962205677796883, 0.4295919216768713, 0.5603372891437451, 0.9686670454363239, 0.9897084884423403, 0.9762007527189833, 0.05327661103673306, 0.7991491655509959, 0.12786386648815934, 0.9546964968129182, 0.9927327713481875, 0.985963007339412, 0.9704324290403525, 0.9925503048871223, 0.9735472332256863, 0.9666781724252761, 0.9925940064689218, 0.9538184770302731, 0.9419442238623492, 0.9763361169493163, 0.02463890466477611, 0.9609172819262682, 0.47376723728230397, 0.5102108709194042, 0.9820187690907748, 0.9976983685484507, 0.9709723554474008, 0.36294329998392316, 0.29982272607367566, 0.3313830130287994, 0.9523397250936062, 0.9490918505154735, 0.035151550019091614, 0.9310285378702163, 0.9786538794134978, 0.17307131744987186, 0.8159076394065388, 0.08567915910384642, 0.8445517111664862, 0.06119939935989031, 0.8722472252286634, 0.10680578268106082, 0.8070402479131473, 0.17934227731403274, 0.35374166163573556, 0.30657610675097086, 0.09433110976952949, 0.23582777442382372, 0.9803338304029175, 0.978700642551329, 0.26096783184214717, 0.6600951040713134, 0.061404195727564045, 0.7385574032627329, 0.02735397789861974, 0.19929326754708665, 0.035169400155368236, 0.10950896859075733, 0.027377242147689333, 0.5566705903363498, 0.19164069503382533, 0.10038322120819422, 0.9879762686539105, 0.9791130908858948, 0.15428120793913824, 0.5684044503020883, 0.2760821615753, 0.989615880922604, 0.9649740066801503, 0.922056811288335, 0.07557842715478155], \"Term\": [\"abend\", \"abend\", \"abend\", \"abends\", \"abschlu\\u00df\", \"abtheilung\", \"admiral\", \"adresse\", \"amt\", \"angriff\", \"anker\", \"anleihe\", \"annahme\", \"anstalt\", \"anstalt\", \"anstrengung\", \"antrag\", \"arbeiter\", \"armee\", \"artillerie\", \"au\", \"au\", \"aufstand\", \"auftrag\", \"aug\", \"ausfuhr\", \"ausland\", \"bahn\", \"bau\", \"bau\", \"bauer\", \"bauer\", \"beamte\", \"beamte\", \"befehl\", \"berg\", \"bericht\", \"bericht\", \"bericht\", \"bericht\", \"besatzung\", \"bevolkerung\", \"bewegung\", \"bewegung\", \"beziehung\", \"blatt\", \"blatt\", \"blattern\", \"blattern\", \"boden\", \"boden\", \"bord\", \"borse\", \"brand\", \"brigg\", \"brucke\", \"buch\", \"bund\", \"burger\", \"butter\", \"chef\", \"dame\", \"damm\", \"dampfer\", \"dampfschiff\", \"darstellung\", \"depesche\", \"dienst\", \"dienst\", \"dienst\", \"dorf\", \"dorf\", \"dr\", \"einflu\\u00df\", \"eisen\", \"empfang\", \"entlassung\", \"erde\", \"ereignis\", \"erinnerung\", \"ernte\", \"ernte\", \"ertrag\", \"expedition\", \"fabrik\", \"fahrt\", \"fall\", \"feier\", \"feind\", \"festung\", \"feuer\", \"feuer\", \"feuilleton\", \"firma\", \"fischer\", \"flamme\", \"flotte\", \"flotte\", \"flugel\", \"fluth\", \"flu\\u00df\", \"flu\\u00df\", \"folge\", \"folge\", \"folge\", \"folge\", \"folge\", \"folge\", \"fort\", \"forts\", \"frage\", \"frage\", \"frage\", \"franzose\", \"frau\", \"frau\", \"frau\", \"freitag\", \"freude\", \"freund\", \"fruhjahr\", \"furst\", \"fu\\u00df\", \"fu\\u00df\", \"fu\\u00df\", \"fu\\u00df\", \"fu\\u00df\", \"fu\\u00df\", \"garnison\", \"garten\", \"gast\", \"gebaude\", \"gebaude\", \"gefahr\", \"gefahr\", \"gefahr\", \"gefecht\", \"gemalde\", \"gen\", \"general\", \"gesandte\", \"geschichte\", \"gesellschaft\", \"gesellschaft\", \"gewasser\", \"gewitter\", \"gewitter\", \"gott\", \"gouverneur\", \"gouverneur\", \"grad\", \"graf\", \"graf\", \"grieche\", \"grund\", \"grund\", \"grund\", \"gulden\", \"hafen\", \"hafen\", \"hafen\", \"hand\", \"hand\", \"hand\", \"handel\", \"handel\", \"handel\", \"handel_verkehr\", \"haupt\", \"haus\", \"haus\", \"haus\", \"haus\", \"heer\", \"herr\", \"herr\", \"herr\", \"herr\", \"herrn\", \"herrn\", \"herrn\", \"herzog\", \"hilfe\", \"hof\", \"hohe\", \"hohe\", \"hohe\", \"holz\", \"hotel\", \"hr\", \"hr\", \"infanterie\", \"inhalt\", \"insel\", \"insel\", \"insel\", \"insel\", \"jahr\", \"jahr\", \"jahr\", \"jahr\", \"jahr\", \"jahr\", \"kaffee\", \"kaiser\", \"kaiser\", \"kalte\", \"kampf\", \"kanal\", \"kanone\", \"kenntni\\u00df\", \"kind\", \"kind\", \"kirche\", \"kirche\", \"kirche\", \"kirche\", \"klage\", \"kloster\", \"konig\", \"konig\", \"konig\", \"konigl\", \"kop\", \"kraft\", \"kraft\", \"kreis\", \"kreis\", \"krieg\", \"krieg\", \"krone\", \"kuste\", \"kuste\", \"ladung\", \"lage\", \"lage\", \"lager\", \"land\", \"land\", \"land\", \"land\", \"land\", \"leben\", \"leben\", \"leben\", \"leben\", \"leiche\", \"leser\", \"libau\", \"lieben\", \"lieferung\", \"lord\", \"lord\", \"macht\", \"macht\", \"majestat\", \"majestat\", \"mann\", \"mann\", \"mann\", \"mann\", \"mann\", \"mannschaft\", \"marschall\", \"marz\", \"meer\", \"meer\", \"meer\", \"meile\", \"meinung\", \"meldung\", \"menge\", \"menge\", \"menge\", \"mensch\", \"mensch\", \"meter\", \"militair\", \"mill\", \"million\", \"million\", \"million\", \"minister\", \"minister\", \"minister\", \"ministerium\", \"ministerium\", \"minute\", \"mitglied\", \"moglichkeit\", \"monat\", \"monat\", \"monat\", \"morgen\", \"morgen\", \"nachricht\", \"nachricht\", \"nachricht\", \"nachricht\", \"nachricht\", \"nacht\", \"nacht\", \"nacht\", \"nacht\", \"name\", \"name\", \"name\", \"name\", \"newyork\", \"nord\", \"nov\", \"nr\", \"nummer\", \"ober\", \"obrist\", \"offizier\", \"oktober\", \"oper\", \"operation\", \"opfer\", \"opfer\", \"orden\", \"ordnung\", \"orkan\", \"ort\", \"ort\", \"parlament\", \"parlament\", \"partei\", \"passagier\", \"pastor\", \"person\", \"person\", \"person\", \"person\", \"person\", \"person\", \"pfd\", \"pferd\", \"pforte\", \"platz\", \"platz\", \"platz\", \"preis\", \"preis\", \"presse\", \"prinz\", \"programm\", \"pud\", \"qualitat\", \"rbl\", \"recht\", \"recht\", \"rede\", \"regen\", \"regen\", \"regierung\", \"regierung\", \"regierung\", \"regiment\", \"reich\", \"reise\", \"reise\", \"rettung\", \"ruhe\", \"ruhe\", \"ruhm\", \"sache\", \"sache\", \"sage\", \"sand\", \"schaden\", \"schaden\", \"schicksal\", \"schiff\", \"schiffe\", \"schiffe\", \"schiffe\", \"schiffe\", \"schlacht\", \"see\", \"see\", \"see\", \"segel\", \"seite\", \"seite\", \"seite\", \"sept\", \"sir\", \"sohn\", \"sohn\", \"sohn\", \"soldat\", \"sommer\", \"spanier\", \"spiel\", \"sprache\", \"staat\", \"staat\", \"stadt\", \"stadt\", \"stadt\", \"stadt\", \"stamm\", \"stand\", \"stand\", \"stand\", \"station\", \"stein\", \"stelle\", \"stelle\", \"stelle\", \"stelle\", \"stimme\", \"strand\", \"stra\\u00dfe\", \"stra\\u00dfe\", \"strom\", \"stuck\", \"stuck\", \"stuck\", \"stuck\", \"stunde\", \"stunde\", \"stunde\", \"stunde\", \"sturm\", \"sturm\", \"sturm\", \"sturm\", \"sturm\", \"sturm\", \"tag\", \"tag\", \"tag\", \"tag\", \"tag\", \"tag\", \"tausende\", \"thatigkeit\", \"theater\", \"theil\", \"theil\", \"theil\", \"theil\", \"theil\", \"theil\", \"tochter\", \"tod\", \"tod\", \"tod\", \"treue\", \"treue\", \"truppe\", \"turke\", \"uberschwemmung\", \"uberschwemmung\", \"ueber\", \"ueber\", \"ufer\", \"ufer\", \"uhr\", \"uhr\", \"uhr\", \"uhr\", \"uhr_uhr\", \"ungluck\", \"ungluck\", \"unwetter\", \"verein\", \"verfugung\", \"verlust\", \"verlust\", \"verlust\", \"vermischt_nachricht\", \"vermischtes\", \"versammlung\", \"vertrag\", \"verwaltung\", \"vieh\", \"vogel\", \"volk\", \"vortrag\", \"waaren\", \"waffe\", \"wahl\", \"wahl\", \"wahrheit\", \"wahrheit\", \"wald\", \"wasser\", \"welle\", \"werk\", \"werk\", \"werk\", \"werst\", \"werth\", \"werth\", \"wesen\", \"westen\", \"wetter\", \"wetter\", \"wind\", \"wind\", \"wind\", \"winter\", \"winter\", \"witterung\", \"witterung\", \"woche\", \"woche\", \"woche\", \"woche\", \"wohnung\", \"wolke\", \"wort\", \"wort\", \"wort\", \"zeit\", \"zeit\", \"zeit\", \"zeit\", \"zeitung\", \"zeitung\", \"zeitung\", \"zeitung\", \"zeitung\", \"zimmer\", \"zoll\", \"ztg\", \"ztg\", \"ztg\", \"zug\", \"zukunft\", \"zweck\", \"zweck\"]}, \"R\": 30, \"lambda.step\": 0.01, \"plot.opts\": {\"xlab\": \"PC1\", \"ylab\": \"PC2\"}, \"topic.order\": [5, 7, 4, 1, 6, 3, 2]};\n",
       "\n",
       "function LDAvis_load_lib(url, callback){\n",
       "  var s = document.createElement('script');\n",
       "  s.src = url;\n",
       "  s.async = true;\n",
       "  s.onreadystatechange = s.onload = callback;\n",
       "  s.onerror = function(){console.warn(\"failed to load library \" + url);};\n",
       "  document.getElementsByTagName(\"head\")[0].appendChild(s);\n",
       "}\n",
       "\n",
       "if(typeof(LDAvis) !== \"undefined\"){\n",
       "   // already loaded: just create the visualization\n",
       "   !function(LDAvis){\n",
       "       new LDAvis(\"#\" + \"ldavis_el1646425550585429607110343200\", ldavis_el1646425550585429607110343200_data);\n",
       "   }(LDAvis);\n",
       "}else if(typeof define === \"function\" && define.amd){\n",
       "   // require.js is available: use it to load d3/LDAvis\n",
       "   require.config({paths: {d3: \"https://d3js.org/d3.v5\"}});\n",
       "   require([\"d3\"], function(d3){\n",
       "      window.d3 = d3;\n",
       "      LDAvis_load_lib(\"https://cdn.jsdelivr.net/gh/bmabey/pyLDAvis@3.3.1/pyLDAvis/js/ldavis.v3.0.0.js\", function(){\n",
       "        new LDAvis(\"#\" + \"ldavis_el1646425550585429607110343200\", ldavis_el1646425550585429607110343200_data);\n",
       "      });\n",
       "    });\n",
       "}else{\n",
       "    // require.js not available: dynamically load d3 & LDAvis\n",
       "    LDAvis_load_lib(\"https://d3js.org/d3.v5.js\", function(){\n",
       "         LDAvis_load_lib(\"https://cdn.jsdelivr.net/gh/bmabey/pyLDAvis@3.3.1/pyLDAvis/js/ldavis.v3.0.0.js\", function(){\n",
       "                 new LDAvis(\"#\" + \"ldavis_el1646425550585429607110343200\", ldavis_el1646425550585429607110343200_data);\n",
       "            })\n",
       "         });\n",
       "}\n",
       "</script>"
      ],
      "text/plain": [
       "PreparedData(topic_coordinates=              x         y  topics  cluster       Freq\n",
       "topic                                                \n",
       "4      0.106267 -0.297040       1        1  19.719988\n",
       "6      0.058035  0.365215       2        1  18.332635\n",
       "3     -0.160645 -0.291171       3        1  17.502695\n",
       "0     -0.234214  0.231452       4        1  16.484546\n",
       "5      0.276061  0.168887       5        1  14.213252\n",
       "2      0.328136 -0.129238       6        1   9.499705\n",
       "1     -0.373640 -0.048105       7        1   4.247179, topic_info=          Term        Freq       Total Category  logprob  loglift\n",
       "261     wasser  214.000000  214.000000  Default  30.0000  30.0000\n",
       "92      schiff  200.000000  200.000000  Default  29.0000  29.0000\n",
       "328      stadt  429.000000  429.000000  Default  28.0000  28.0000\n",
       "176       herr  245.000000  245.000000  Default  27.0000  27.0000\n",
       "762      herrn  197.000000  197.000000  Default  26.0000  26.0000\n",
       "...        ...         ...         ...      ...      ...      ...\n",
       "564       werk   21.135884   63.370780   Topic7  -4.4452   2.0609\n",
       "262      woche   20.473138   84.807653   Topic7  -4.4771   1.7376\n",
       "126      preis   19.911130   92.540580   Topic7  -4.5049   1.6225\n",
       "1434  wahrheit   13.658609   27.439635   Topic7  -4.8818   2.4613\n",
       "19        jahr   15.768245  382.843992   Topic7  -4.7382  -0.0307\n",
       "\n",
       "[382 rows x 6 columns], token_table=      Topic      Freq      Term\n",
       "term                           \n",
       "541       2  0.033676     abend\n",
       "541       3  0.797001     abend\n",
       "541       6  0.168380     abend\n",
       "658       1  0.972196    abends\n",
       "0         6  0.980826  abschluß\n",
       "...     ...       ...       ...\n",
       "707       4  0.276082       ztg\n",
       "334       1  0.989616       zug\n",
       "335       1  0.964974   zukunft\n",
       "264       5  0.922057     zweck\n",
       "264       6  0.075578     zweck\n",
       "\n",
       "[536 rows x 3 columns], R=30, lambda_step=0.01, plot_opts={'xlab': 'PC1', 'ylab': 'PC2'}, topic_order=[5, 7, 4, 1, 6, 3, 2])"
      ]
     },
     "execution_count": 53,
     "metadata": {},
     "output_type": "execute_result"
    }
   ],
   "source": [
    "lda_model = gensim.models.ldamodel.LdaModel(corpus=corpus,\n",
    "                                            id2word=id2word,\n",
    "                                            num_topics=7,\n",
    "                                            random_state=100,\n",
    "                                            update_every=1,\n",
    "                                            chunksize=100,\n",
    "                                            passes=10,\n",
    "                                            alpha='auto')\n",
    "\n",
    "pyLDAvis.enable_notebook()\n",
    "vis = pyLDAvis.gensim_models.prepare(lda_model, corpus, id2word, mds='mmds', R=30)\n",
    "\n",
    "vis"
   ]
  },
  {
   "cell_type": "markdown",
   "id": "completed-vienna",
   "metadata": {},
   "source": [
    "### Notes from first bigrams_trigrams LDA vis:\n",
    "\n",
    "1. add common OCR errors to stopwords: nnd, fich, find, nnr\n",
    "2. add \"noisewords\" ubiquitous in newspapers, like 'tag', 'uhr'"
   ]
  },
  {
   "cell_type": "code",
   "execution_count": 267,
   "id": "innovative-japanese",
   "metadata": {},
   "outputs": [],
   "source": [
    "#readable_corpus = [[(id2word[id], freq) for id, freq in cp] for cp in corpus]"
   ]
  },
  {
   "cell_type": "code",
   "execution_count": null,
   "id": "willing-india",
   "metadata": {},
   "outputs": [],
   "source": [
    "# alpha and eta are hyperparameters that affect sparsity of the topics. According to the Gensim docs, both defaults to 1.0/num_topics prior."
   ]
  },
  {
   "cell_type": "code",
   "execution_count": 158,
   "id": "daily-warehouse",
   "metadata": {},
   "outputs": [],
   "source": [
    "def remove_hi_tf_words(corpus, treshold):\n",
    "    \n",
    "    corpus_wordcount = 0\n",
    "    for text in corpus:\n",
    "        corpus_wordcount += len(text)\n",
    "    print(corpus_wordcount)\n",
    "    \n",
    "    frequencies = {}\n",
    "    for text in corpus:\n",
    "        for token in text:\n",
    "            if token in frequencies.keys():\n",
    "                frequencies[token] += 1\n",
    "            else:\n",
    "                frequencies[token] = 1\n",
    "            \n",
    "    print(len(frequencies))\n",
    "    print(max(frequencies.values()))\n",
    "            \n",
    "    new_corpus = []\n",
    "    \n",
    "    for text in corpus:\n",
    "        new_text = []\n",
    "        for token in text:\n",
    "            if frequencies[token]/corpus_wordcount > treshold:\n",
    "                print(frequencies[token])\n",
    "                new_text.append(token)\n",
    "        new_corpus.append(new_text)\n",
    "                \n",
    "    return new_corpus"
   ]
  }
 ],
 "metadata": {
  "kernelspec": {
   "display_name": "Python 3",
   "language": "python",
   "name": "python3"
  },
  "language_info": {
   "codemirror_mode": {
    "name": "ipython",
    "version": 3
   },
   "file_extension": ".py",
   "mimetype": "text/x-python",
   "name": "python",
   "nbconvert_exporter": "python",
   "pygments_lexer": "ipython3",
   "version": "3.8.10"
  }
 },
 "nbformat": 4,
 "nbformat_minor": 5
}
