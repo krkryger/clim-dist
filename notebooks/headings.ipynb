{
 "cells": [
  {
   "cell_type": "code",
   "execution_count": 1,
   "id": "9e02d59c",
   "metadata": {},
   "outputs": [],
   "source": [
    "import pandas as pd\n",
    "import numpy as np\n",
    "from tqdm import tqdm\n",
    "import spacy\n",
    "import json\n",
    "import gensim\n",
    "from climdist.data import load as cd_load\n",
    "import string"
   ]
  },
  {
   "cell_type": "code",
   "execution_count": 2,
   "id": "211191d9",
   "metadata": {},
   "outputs": [],
   "source": [
    "df = cd_load('main', readability=True, heading2=True)"
   ]
  },
  {
   "cell_type": "markdown",
   "id": "4d10e758",
   "metadata": {},
   "source": [
    "## improve heading2"
   ]
  },
  {
   "cell_type": "code",
   "execution_count": 3,
   "id": "0c239e24",
   "metadata": {},
   "outputs": [],
   "source": [
    "#from climdist.data_preprocess import generate_alt_headings"
   ]
  },
  {
   "cell_type": "code",
   "execution_count": 4,
   "id": "a32d0e37",
   "metadata": {},
   "outputs": [],
   "source": [
    "nlp = spacy.load('../data/models/spacy_ner_151121/model-best/')"
   ]
  },
  {
   "cell_type": "code",
   "execution_count": 60,
   "id": "981a8bb7",
   "metadata": {},
   "outputs": [],
   "source": [
    "def alt_heading(heading):\n",
    "    doc = nlp(heading)\n",
    "    alt_heading = ''\n",
    "    locs = [ent for ent in doc.ents if ent.label_ == 'LOC']\n",
    "    if len(locs) > 0:\n",
    "        print(locs)\n",
    "        if len(locs) == 1 or locs[0].start == 0:\n",
    "            alt_heading = locs[0].text\n",
    "                \n",
    "    return alt_heading"
   ]
  },
  {
   "cell_type": "code",
   "execution_count": 46,
   "id": "cc4c1eb7",
   "metadata": {},
   "outputs": [],
   "source": [
    "def generate_alt_headings(df, ignorelocs, nlp,\n",
    "                          output_path=None):\n",
    "\n",
    "    \"\"\"Input: main df with normalized headings. Use a trained NLP model for detecting LOC entities in headings.\n",
    "        Output: column with alternate headings for simpler geographical analysis.\n",
    "        Can take 1-2 hours.\"\"\"\n",
    "    \n",
    "    df['heading2'] = df['heading']\n",
    "    \n",
    "    for i, heading in tqdm(df.heading2.iteritems()):\n",
    "        doc = nlp(heading)\n",
    "        locs = [ent for ent in doc.ents if ent.label_ == 'LOC']\n",
    "        if len(locs) > 0:\n",
    "            if len(locs) == 1 or locs[0].start == 0:\n",
    "                if locs[0].text not in ignorelocs:\n",
    "                    df.loc[i, 'heading2'] = locs[0].text\n",
    "\n",
    "    if output_path:\n",
    "        df['heading2'].to_parquet(output_path, index=True)\n",
    "    \n",
    "    return df['heading2']"
   ]
  },
  {
   "cell_type": "code",
   "execution_count": 19,
   "id": "2a74838b",
   "metadata": {},
   "outputs": [],
   "source": [
    "with open('../temp/typhon_index.json', 'r', encoding='utf8') as f:\n",
    "    typhon_index = json.load(f)"
   ]
  },
  {
   "cell_type": "code",
   "execution_count": 48,
   "id": "fabc23bb",
   "metadata": {},
   "outputs": [
    {
     "name": "stderr",
     "output_type": "stream",
     "text": [
      "234it [00:01, 154.46it/s]\n"
     ]
    }
   ],
   "source": [
    "typhon_headings = generate_alt_headings(typhon_df, ignorelocs= ['Riga'], nlp=nlp)"
   ]
  },
  {
   "cell_type": "code",
   "execution_count": 52,
   "id": "8359ef7a",
   "metadata": {},
   "outputs": [],
   "source": [
    "example_heading = df.heading2[df.heading2.str.contains('Japan. Ueber San FranziSto und Newyork treffen N', na=False)]"
   ]
  },
  {
   "cell_type": "code",
   "execution_count": 62,
   "id": "6ca21dab",
   "metadata": {},
   "outputs": [
    {
     "name": "stdout",
     "output_type": "stream",
     "text": [
      "[Yokuhama]\n"
     ]
    },
    {
     "data": {
      "text/plain": [
       "'Yokuhama'"
      ]
     },
     "execution_count": 62,
     "metadata": {},
     "output_type": "execute_result"
    }
   ],
   "source": [
    "alt_heading('Japan. Yokuhama, 2. Dec. (20. November). Der M...')"
   ]
  },
  {
   "cell_type": "code",
   "execution_count": 31,
   "id": "73e2cc53",
   "metadata": {},
   "outputs": [],
   "source": [
    "typhon_df = df.loc[typhon_index]"
   ]
  },
  {
   "cell_type": "code",
   "execution_count": 37,
   "id": "c652ccfb",
   "metadata": {},
   "outputs": [
    {
     "data": {
      "text/html": [
       "<div>\n",
       "<style scoped>\n",
       "    .dataframe tbody tr th:only-of-type {\n",
       "        vertical-align: middle;\n",
       "    }\n",
       "\n",
       "    .dataframe tbody tr th {\n",
       "        vertical-align: top;\n",
       "    }\n",
       "\n",
       "    .dataframe thead th {\n",
       "        text-align: right;\n",
       "    }\n",
       "</style>\n",
       "<table border=\"1\" class=\"dataframe\">\n",
       "  <thead>\n",
       "    <tr style=\"text-align: right;\">\n",
       "      <th></th>\n",
       "      <th>date</th>\n",
       "      <th>year</th>\n",
       "      <th>month</th>\n",
       "      <th>day</th>\n",
       "      <th>pub</th>\n",
       "      <th>heading</th>\n",
       "      <th>full_text</th>\n",
       "      <th>href</th>\n",
       "      <th>text_len</th>\n",
       "      <th>readability</th>\n",
       "      <th>heading2</th>\n",
       "    </tr>\n",
       "  </thead>\n",
       "  <tbody>\n",
       "    <tr>\n",
       "      <th>147243</th>\n",
       "      <td>1860-04-20</td>\n",
       "      <td>1860</td>\n",
       "      <td>4</td>\n",
       "      <td>20</td>\n",
       "      <td>Rigasche Zeitung</td>\n",
       "      <td>Inländische Nachrichten. Inländische Nachrichte«.</td>\n",
       "      <td>Inländische Nachrichten. Inländische Nachricht...</td>\n",
       "      <td>https://proc.dom.lndb.lv/file.axd?id=11404404&amp;...</td>\n",
       "      <td>7484</td>\n",
       "      <td>1</td>\n",
       "      <td>Inländische Nachrichten. Inländische Nachrichte«.</td>\n",
       "    </tr>\n",
       "    <tr>\n",
       "      <th>147243</th>\n",
       "      <td>1860-04-20</td>\n",
       "      <td>1860</td>\n",
       "      <td>4</td>\n",
       "      <td>20</td>\n",
       "      <td>Rigasche Zeitung</td>\n",
       "      <td>Inländische Nachrichten. Inländische Nachrichte«.</td>\n",
       "      <td>Inländische Nachrichten. Inländische Nachricht...</td>\n",
       "      <td>https://proc.dom.lndb.lv/file.axd?id=11404404&amp;...</td>\n",
       "      <td>7484</td>\n",
       "      <td>1</td>\n",
       "      <td>Inländische Nachrichten. Inländische Nachrichte«.</td>\n",
       "    </tr>\n",
       "    <tr>\n",
       "      <th>147243</th>\n",
       "      <td>1860-04-20</td>\n",
       "      <td>1860</td>\n",
       "      <td>4</td>\n",
       "      <td>20</td>\n",
       "      <td>Rigasche Zeitung</td>\n",
       "      <td>Inländische Nachrichten. Inländische Nachrichte«.</td>\n",
       "      <td>Inländische Nachrichten. Inländische Nachricht...</td>\n",
       "      <td>https://proc.dom.lndb.lv/file.axd?id=11404404&amp;...</td>\n",
       "      <td>7484</td>\n",
       "      <td>1</td>\n",
       "      <td>Inländische Nachrichten. Inländische Nachrichte«.</td>\n",
       "    </tr>\n",
       "    <tr>\n",
       "      <th>149003</th>\n",
       "      <td>1860-09-28</td>\n",
       "      <td>1860</td>\n",
       "      <td>9</td>\n",
       "      <td>28</td>\n",
       "      <td>Rigasche Zeitung</td>\n",
       "      <td>Das Journal des russischen Marine – Ministeriu...</td>\n",
       "      <td>Das Journal des russischen Marine – Ministeriu...</td>\n",
       "      <td>https://proc.dom.lndb.lv/file.axd?id=10724868&amp;...</td>\n",
       "      <td>4551</td>\n",
       "      <td>1</td>\n",
       "      <td>Das Journal des russischen Marine – Ministeriu...</td>\n",
       "    </tr>\n",
       "    <tr>\n",
       "      <th>155896</th>\n",
       "      <td>1862-04-30</td>\n",
       "      <td>1862</td>\n",
       "      <td>4</td>\n",
       "      <td>30</td>\n",
       "      <td>Rigasche Zeitung</td>\n",
       "      <td>* London, 4. Mai (22. April). Die „Morning-Pos...</td>\n",
       "      <td>* London, 4. Mai (22. April). Die „Morning-Pos...</td>\n",
       "      <td>https://proc.dom.lndb.lv/file.axd?id=7690943&amp;a...</td>\n",
       "      <td>3601</td>\n",
       "      <td>1</td>\n",
       "      <td>* London, 4. Mai (22. April). Die „Morning-Pos...</td>\n",
       "    </tr>\n",
       "    <tr>\n",
       "      <th>...</th>\n",
       "      <td>...</td>\n",
       "      <td>...</td>\n",
       "      <td>...</td>\n",
       "      <td>...</td>\n",
       "      <td>...</td>\n",
       "      <td>...</td>\n",
       "      <td>...</td>\n",
       "      <td>...</td>\n",
       "      <td>...</td>\n",
       "      <td>...</td>\n",
       "      <td>...</td>\n",
       "    </tr>\n",
       "    <tr>\n",
       "      <th>192542</th>\n",
       "      <td>1869-08-02</td>\n",
       "      <td>1869</td>\n",
       "      <td>8</td>\n",
       "      <td>2</td>\n",
       "      <td>Rigasche Zeitung</td>\n",
       "      <td>Asien.</td>\n",
       "      <td>Asien.\\n\\n\\tJapan. Die ~A. A. Z.\" Heilt mehrer...</td>\n",
       "      <td>https://proc.dom.lndb.lv/file.axd?id=10865501&amp;...</td>\n",
       "      <td>12634</td>\n",
       "      <td>1</td>\n",
       "      <td>Asien.</td>\n",
       "    </tr>\n",
       "    <tr>\n",
       "      <th>193347</th>\n",
       "      <td>1869-09-19</td>\n",
       "      <td>1869</td>\n",
       "      <td>9</td>\n",
       "      <td>19</td>\n",
       "      <td>Rigasche Zeitung</td>\n",
       "      <td>Yokuhama 26. (14 ) Juli. Am 3. d. M. ist das O...</td>\n",
       "      <td>Yokuhama 26. (14 ) Juli. Am 3. d. M. ist das O...</td>\n",
       "      <td>https://proc.dom.lndb.lv/file.axd?id=2573703&amp;a...</td>\n",
       "      <td>6188</td>\n",
       "      <td>1</td>\n",
       "      <td>Yokuhama 26. (14 ) Juli. Am 3. d. M. ist das O...</td>\n",
       "    </tr>\n",
       "    <tr>\n",
       "      <th>193639</th>\n",
       "      <td>1869-10-07</td>\n",
       "      <td>1869</td>\n",
       "      <td>10</td>\n",
       "      <td>7</td>\n",
       "      <td>Rigasche Zeitung</td>\n",
       "      <td>Asien.</td>\n",
       "      <td>Asien.\\n\\n\\tYoknham ~ 10. Aug. (29. Juli.) Es ...</td>\n",
       "      <td>https://proc.dom.lndb.lv/file.axd?id=4711227&amp;a...</td>\n",
       "      <td>2852</td>\n",
       "      <td>1</td>\n",
       "      <td>Asien.</td>\n",
       "    </tr>\n",
       "    <tr>\n",
       "      <th>194971</th>\n",
       "      <td>1869-12-22</td>\n",
       "      <td>1869</td>\n",
       "      <td>12</td>\n",
       "      <td>22</td>\n",
       "      <td>Rigasche Zeitung</td>\n",
       "      <td>Japan. Yokuhama, 2. Dec. (20. November). Der M...</td>\n",
       "      <td>Japan. Yokuhama, 2. Dec. (20. November). Der M...</td>\n",
       "      <td>https://proc.dom.lndb.lv/file.axd?id=10363325&amp;...</td>\n",
       "      <td>586</td>\n",
       "      <td>1</td>\n",
       "      <td>Japan. Yokuhama, 2. Dec. (20. November). Der M...</td>\n",
       "    </tr>\n",
       "    <tr>\n",
       "      <th>195407</th>\n",
       "      <td>1870-01-23</td>\n",
       "      <td>1870</td>\n",
       "      <td>1</td>\n",
       "      <td>23</td>\n",
       "      <td>Rigasche Zeitung</td>\n",
       "      <td>Japan U-ber Newyork treffen bedeutsame Nachric...</td>\n",
       "      <td>Japan U-ber Newyork treffen bedeutsame Nachric...</td>\n",
       "      <td>https://proc.dom.lndb.lv/file.axd?id=1705018&amp;a...</td>\n",
       "      <td>840</td>\n",
       "      <td>1</td>\n",
       "      <td>Japan U-ber Newyork treffen bedeutsame Nachric...</td>\n",
       "    </tr>\n",
       "  </tbody>\n",
       "</table>\n",
       "<p>234 rows × 11 columns</p>\n",
       "</div>"
      ],
      "text/plain": [
       "              date  year  month  day               pub  \\\n",
       "147243  1860-04-20  1860      4   20  Rigasche Zeitung   \n",
       "147243  1860-04-20  1860      4   20  Rigasche Zeitung   \n",
       "147243  1860-04-20  1860      4   20  Rigasche Zeitung   \n",
       "149003  1860-09-28  1860      9   28  Rigasche Zeitung   \n",
       "155896  1862-04-30  1862      4   30  Rigasche Zeitung   \n",
       "...            ...   ...    ...  ...               ...   \n",
       "192542  1869-08-02  1869      8    2  Rigasche Zeitung   \n",
       "193347  1869-09-19  1869      9   19  Rigasche Zeitung   \n",
       "193639  1869-10-07  1869     10    7  Rigasche Zeitung   \n",
       "194971  1869-12-22  1869     12   22  Rigasche Zeitung   \n",
       "195407  1870-01-23  1870      1   23  Rigasche Zeitung   \n",
       "\n",
       "                                                  heading  \\\n",
       "147243  Inländische Nachrichten. Inländische Nachrichte«.   \n",
       "147243  Inländische Nachrichten. Inländische Nachrichte«.   \n",
       "147243  Inländische Nachrichten. Inländische Nachrichte«.   \n",
       "149003  Das Journal des russischen Marine – Ministeriu...   \n",
       "155896  * London, 4. Mai (22. April). Die „Morning-Pos...   \n",
       "...                                                   ...   \n",
       "192542                                             Asien.   \n",
       "193347  Yokuhama 26. (14 ) Juli. Am 3. d. M. ist das O...   \n",
       "193639                                             Asien.   \n",
       "194971  Japan. Yokuhama, 2. Dec. (20. November). Der M...   \n",
       "195407  Japan U-ber Newyork treffen bedeutsame Nachric...   \n",
       "\n",
       "                                                full_text  \\\n",
       "147243  Inländische Nachrichten. Inländische Nachricht...   \n",
       "147243  Inländische Nachrichten. Inländische Nachricht...   \n",
       "147243  Inländische Nachrichten. Inländische Nachricht...   \n",
       "149003  Das Journal des russischen Marine – Ministeriu...   \n",
       "155896  * London, 4. Mai (22. April). Die „Morning-Pos...   \n",
       "...                                                   ...   \n",
       "192542  Asien.\\n\\n\\tJapan. Die ~A. A. Z.\" Heilt mehrer...   \n",
       "193347  Yokuhama 26. (14 ) Juli. Am 3. d. M. ist das O...   \n",
       "193639  Asien.\\n\\n\\tYoknham ~ 10. Aug. (29. Juli.) Es ...   \n",
       "194971  Japan. Yokuhama, 2. Dec. (20. November). Der M...   \n",
       "195407  Japan U-ber Newyork treffen bedeutsame Nachric...   \n",
       "\n",
       "                                                     href  text_len  \\\n",
       "147243  https://proc.dom.lndb.lv/file.axd?id=11404404&...      7484   \n",
       "147243  https://proc.dom.lndb.lv/file.axd?id=11404404&...      7484   \n",
       "147243  https://proc.dom.lndb.lv/file.axd?id=11404404&...      7484   \n",
       "149003  https://proc.dom.lndb.lv/file.axd?id=10724868&...      4551   \n",
       "155896  https://proc.dom.lndb.lv/file.axd?id=7690943&a...      3601   \n",
       "...                                                   ...       ...   \n",
       "192542  https://proc.dom.lndb.lv/file.axd?id=10865501&...     12634   \n",
       "193347  https://proc.dom.lndb.lv/file.axd?id=2573703&a...      6188   \n",
       "193639  https://proc.dom.lndb.lv/file.axd?id=4711227&a...      2852   \n",
       "194971  https://proc.dom.lndb.lv/file.axd?id=10363325&...       586   \n",
       "195407  https://proc.dom.lndb.lv/file.axd?id=1705018&a...       840   \n",
       "\n",
       "        readability                                           heading2  \n",
       "147243            1  Inländische Nachrichten. Inländische Nachrichte«.  \n",
       "147243            1  Inländische Nachrichten. Inländische Nachrichte«.  \n",
       "147243            1  Inländische Nachrichten. Inländische Nachrichte«.  \n",
       "149003            1  Das Journal des russischen Marine – Ministeriu...  \n",
       "155896            1  * London, 4. Mai (22. April). Die „Morning-Pos...  \n",
       "...             ...                                                ...  \n",
       "192542            1                                             Asien.  \n",
       "193347            1  Yokuhama 26. (14 ) Juli. Am 3. d. M. ist das O...  \n",
       "193639            1                                             Asien.  \n",
       "194971            1  Japan. Yokuhama, 2. Dec. (20. November). Der M...  \n",
       "195407            1  Japan U-ber Newyork treffen bedeutsame Nachric...  \n",
       "\n",
       "[234 rows x 11 columns]"
      ]
     },
     "execution_count": 37,
     "metadata": {},
     "output_type": "execute_result"
    }
   ],
   "source": [
    "typhon_df"
   ]
  },
  {
   "cell_type": "code",
   "execution_count": null,
   "id": "8f979461",
   "metadata": {},
   "outputs": [],
   "source": []
  },
  {
   "cell_type": "markdown",
   "id": "78e14936",
   "metadata": {},
   "source": [
    "## Vector average"
   ]
  },
  {
   "cell_type": "code",
   "execution_count": 65,
   "id": "ecf8bfb1",
   "metadata": {},
   "outputs": [],
   "source": [
    "def vector_mean(keys):\n",
    "    \n",
    "    sum_vec = np.zeros(100,)\n",
    "    for key in keys:\n",
    "        if model.has_index_for(key):\n",
    "            sum_vec += model.get_vector(key)\n",
    "        \n",
    "    mean_vec = sum_vec/len(keys)\n",
    "        \n",
    "    #print(model.most_similar(mean_vec))\n",
    "    return mean_vec"
   ]
  },
  {
   "cell_type": "code",
   "execution_count": 142,
   "id": "0d5d690f",
   "metadata": {},
   "outputs": [],
   "source": [
    "def create_heading_vectors(df):\n",
    "    \n",
    "    vectors = []\n",
    "    \n",
    "    for heading in tqdm(df.heading):\n",
    "        heading_vec = list(vector_mean(heading.strip('.').split()))\n",
    "        heading_vec.insert(0, heading.strip('.'))\n",
    "        vectors.append(heading_vec)\n",
    "        \n",
    "    return pd.DataFrame(vectors, columns=(['heading']+list(range(100)))).set_index('heading')"
   ]
  },
  {
   "cell_type": "code",
   "execution_count": 204,
   "id": "0bc8b321",
   "metadata": {},
   "outputs": [],
   "source": [
    "def create_heading_vectors_str(df):\n",
    "    \n",
    "    vectors = ''\n",
    "    vectors += (str(len(df.heading2.unique()))) + ' 100\\n' #write meteadata\n",
    "    \n",
    "    for heading in tqdm(df.heading2.unique()):\n",
    "        try:\n",
    "            heading_vec = vector_mean(heading.strip('.').split())\n",
    "            line = heading.replace(' ', '_') + ' ' + ' '.join([str(num) for num in heading_vec])\n",
    "            vectors += line\n",
    "            vectors += '\\n'\n",
    "        except:\n",
    "            pass\n",
    "        \n",
    "    return vectors"
   ]
  },
  {
   "cell_type": "code",
   "execution_count": 8,
   "id": "95e2c428",
   "metadata": {},
   "outputs": [],
   "source": [
    "def format_heading(heading):\n",
    "    return heading.strip('.').replace(' ', '_')"
   ]
  },
  {
   "cell_type": "code",
   "execution_count": 205,
   "id": "5347717f",
   "metadata": {},
   "outputs": [
    {
     "name": "stderr",
     "output_type": "stream",
     "text": [
      " 61%|█████████████████████████████████████████████▏                            | 52951/86598 [51:11<1:07:15,  8.34it/s]C:\\Users\\krister\\AppData\\Local\\Temp/ipykernel_27420/3645892505.py:8: RuntimeWarning: invalid value encountered in true_divide\n",
      "  mean_vec = sum_vec/len(keys)\n",
      "100%|██████████████████████████████████████████████████████████████████████████| 86598/86598 [2:11:33<00:00, 10.97it/s]\n"
     ]
    }
   ],
   "source": [
    "vectors = create_heading_vectors_str(df)"
   ]
  },
  {
   "cell_type": "code",
   "execution_count": null,
   "id": "f3577beb",
   "metadata": {},
   "outputs": [],
   "source": [
    "with open('../temp/heading_vectors.txt', 'w', encoding='utf8') as f:\n",
    "    f.write(vectors)"
   ]
  },
  {
   "cell_type": "code",
   "execution_count": 2,
   "id": "b3a323df",
   "metadata": {},
   "outputs": [],
   "source": [
    "heading_model = gensim.models.word2vec.KeyedVectors.load_word2vec_format('../temp/heading_vectors.txt')"
   ]
  },
  {
   "cell_type": "code",
   "execution_count": 9,
   "id": "4ea78b1e",
   "metadata": {
    "scrolled": true
   },
   "outputs": [
    {
     "name": "stdout",
     "output_type": "stream",
     "text": [
      "Oesterreich\n",
      "[('Oesterreich_–_Ungarn', 0.946531355381012), ('Oesterreich_Ungarn', 0.946531355381012), ('Oesterreich-Ungarn', 0.8309103846549988), ('Preußen', 0.811760663986206), ('Ungarn', 0.7910464406013489), ('Socialpädagogisches_aus_Deutschland', 0.7641233205795288), ('Deutschland', 0.7641233205795288), ('—_Zwischen_den_Höfen_von_Dänemark_und_Preußen_ist', 0.7450395226478577), ('Italien', 0.737226128578186), ('Frankreich', 0.6938095688819885)]\n",
      "\n",
      "\n",
      "\n",
      "Waaren-Preise in Silber-Rubeln\n"
     ]
    },
    {
     "ename": "KeyError",
     "evalue": "\"Key 'Waaren-Preise_in_Silber-Rubeln' not present\"",
     "output_type": "error",
     "traceback": [
      "\u001b[1;31m---------------------------------------------------------------------------\u001b[0m",
      "\u001b[1;31mKeyError\u001b[0m                                  Traceback (most recent call last)",
      "\u001b[1;32m~\\AppData\\Local\\Temp/ipykernel_19140/253192218.py\u001b[0m in \u001b[0;36m<module>\u001b[1;34m\u001b[0m\n\u001b[0;32m      1\u001b[0m \u001b[1;32mfor\u001b[0m \u001b[0mheading\u001b[0m \u001b[1;32min\u001b[0m \u001b[0mdf\u001b[0m\u001b[1;33m.\u001b[0m\u001b[0mheading2\u001b[0m\u001b[1;33m.\u001b[0m\u001b[0msample\u001b[0m\u001b[1;33m(\u001b[0m\u001b[1;36m10\u001b[0m\u001b[1;33m)\u001b[0m\u001b[1;33m:\u001b[0m\u001b[1;33m\u001b[0m\u001b[1;33m\u001b[0m\u001b[0m\n\u001b[0;32m      2\u001b[0m     \u001b[0mprint\u001b[0m\u001b[1;33m(\u001b[0m\u001b[0mheading\u001b[0m\u001b[1;33m)\u001b[0m\u001b[1;33m\u001b[0m\u001b[1;33m\u001b[0m\u001b[0m\n\u001b[1;32m----> 3\u001b[1;33m     \u001b[0mprint\u001b[0m\u001b[1;33m(\u001b[0m\u001b[0mheading_model\u001b[0m\u001b[1;33m.\u001b[0m\u001b[0mmost_similar\u001b[0m\u001b[1;33m(\u001b[0m\u001b[0mformat_heading\u001b[0m\u001b[1;33m(\u001b[0m\u001b[0mheading\u001b[0m\u001b[1;33m)\u001b[0m\u001b[1;33m)\u001b[0m\u001b[1;33m)\u001b[0m\u001b[1;33m\u001b[0m\u001b[1;33m\u001b[0m\u001b[0m\n\u001b[0m\u001b[0;32m      4\u001b[0m     \u001b[0mprint\u001b[0m\u001b[1;33m(\u001b[0m\u001b[1;34m'\\n\\n'\u001b[0m\u001b[1;33m)\u001b[0m\u001b[1;33m\u001b[0m\u001b[1;33m\u001b[0m\u001b[0m\n",
      "\u001b[1;32mc:\\users\\krister\\climdist\\v_env\\lib\\site-packages\\gensim\\models\\keyedvectors.py\u001b[0m in \u001b[0;36mmost_similar\u001b[1;34m(self, positive, negative, topn, clip_start, clip_end, restrict_vocab, indexer)\u001b[0m\n\u001b[0;32m    771\u001b[0m                 \u001b[0mmean\u001b[0m\u001b[1;33m.\u001b[0m\u001b[0mappend\u001b[0m\u001b[1;33m(\u001b[0m\u001b[0mweight\u001b[0m \u001b[1;33m*\u001b[0m \u001b[0mkey\u001b[0m\u001b[1;33m)\u001b[0m\u001b[1;33m\u001b[0m\u001b[1;33m\u001b[0m\u001b[0m\n\u001b[0;32m    772\u001b[0m             \u001b[1;32melse\u001b[0m\u001b[1;33m:\u001b[0m\u001b[1;33m\u001b[0m\u001b[1;33m\u001b[0m\u001b[0m\n\u001b[1;32m--> 773\u001b[1;33m                 \u001b[0mmean\u001b[0m\u001b[1;33m.\u001b[0m\u001b[0mappend\u001b[0m\u001b[1;33m(\u001b[0m\u001b[0mweight\u001b[0m \u001b[1;33m*\u001b[0m \u001b[0mself\u001b[0m\u001b[1;33m.\u001b[0m\u001b[0mget_vector\u001b[0m\u001b[1;33m(\u001b[0m\u001b[0mkey\u001b[0m\u001b[1;33m,\u001b[0m \u001b[0mnorm\u001b[0m\u001b[1;33m=\u001b[0m\u001b[1;32mTrue\u001b[0m\u001b[1;33m)\u001b[0m\u001b[1;33m)\u001b[0m\u001b[1;33m\u001b[0m\u001b[1;33m\u001b[0m\u001b[0m\n\u001b[0m\u001b[0;32m    774\u001b[0m                 \u001b[1;32mif\u001b[0m \u001b[0mself\u001b[0m\u001b[1;33m.\u001b[0m\u001b[0mhas_index_for\u001b[0m\u001b[1;33m(\u001b[0m\u001b[0mkey\u001b[0m\u001b[1;33m)\u001b[0m\u001b[1;33m:\u001b[0m\u001b[1;33m\u001b[0m\u001b[1;33m\u001b[0m\u001b[0m\n\u001b[0;32m    775\u001b[0m                     \u001b[0mall_keys\u001b[0m\u001b[1;33m.\u001b[0m\u001b[0madd\u001b[0m\u001b[1;33m(\u001b[0m\u001b[0mself\u001b[0m\u001b[1;33m.\u001b[0m\u001b[0mget_index\u001b[0m\u001b[1;33m(\u001b[0m\u001b[0mkey\u001b[0m\u001b[1;33m)\u001b[0m\u001b[1;33m)\u001b[0m\u001b[1;33m\u001b[0m\u001b[1;33m\u001b[0m\u001b[0m\n",
      "\u001b[1;32mc:\\users\\krister\\climdist\\v_env\\lib\\site-packages\\gensim\\models\\keyedvectors.py\u001b[0m in \u001b[0;36mget_vector\u001b[1;34m(self, key, norm)\u001b[0m\n\u001b[0;32m    436\u001b[0m \u001b[1;33m\u001b[0m\u001b[0m\n\u001b[0;32m    437\u001b[0m         \"\"\"\n\u001b[1;32m--> 438\u001b[1;33m         \u001b[0mindex\u001b[0m \u001b[1;33m=\u001b[0m \u001b[0mself\u001b[0m\u001b[1;33m.\u001b[0m\u001b[0mget_index\u001b[0m\u001b[1;33m(\u001b[0m\u001b[0mkey\u001b[0m\u001b[1;33m)\u001b[0m\u001b[1;33m\u001b[0m\u001b[1;33m\u001b[0m\u001b[0m\n\u001b[0m\u001b[0;32m    439\u001b[0m         \u001b[1;32mif\u001b[0m \u001b[0mnorm\u001b[0m\u001b[1;33m:\u001b[0m\u001b[1;33m\u001b[0m\u001b[1;33m\u001b[0m\u001b[0m\n\u001b[0;32m    440\u001b[0m             \u001b[0mself\u001b[0m\u001b[1;33m.\u001b[0m\u001b[0mfill_norms\u001b[0m\u001b[1;33m(\u001b[0m\u001b[1;33m)\u001b[0m\u001b[1;33m\u001b[0m\u001b[1;33m\u001b[0m\u001b[0m\n",
      "\u001b[1;32mc:\\users\\krister\\climdist\\v_env\\lib\\site-packages\\gensim\\models\\keyedvectors.py\u001b[0m in \u001b[0;36mget_index\u001b[1;34m(self, key, default)\u001b[0m\n\u001b[0;32m    410\u001b[0m             \u001b[1;32mreturn\u001b[0m \u001b[0mdefault\u001b[0m\u001b[1;33m\u001b[0m\u001b[1;33m\u001b[0m\u001b[0m\n\u001b[0;32m    411\u001b[0m         \u001b[1;32melse\u001b[0m\u001b[1;33m:\u001b[0m\u001b[1;33m\u001b[0m\u001b[1;33m\u001b[0m\u001b[0m\n\u001b[1;32m--> 412\u001b[1;33m             \u001b[1;32mraise\u001b[0m \u001b[0mKeyError\u001b[0m\u001b[1;33m(\u001b[0m\u001b[1;34mf\"Key '{key}' not present\"\u001b[0m\u001b[1;33m)\u001b[0m\u001b[1;33m\u001b[0m\u001b[1;33m\u001b[0m\u001b[0m\n\u001b[0m\u001b[0;32m    413\u001b[0m \u001b[1;33m\u001b[0m\u001b[0m\n\u001b[0;32m    414\u001b[0m     \u001b[1;32mdef\u001b[0m \u001b[0mget_vector\u001b[0m\u001b[1;33m(\u001b[0m\u001b[0mself\u001b[0m\u001b[1;33m,\u001b[0m \u001b[0mkey\u001b[0m\u001b[1;33m,\u001b[0m \u001b[0mnorm\u001b[0m\u001b[1;33m=\u001b[0m\u001b[1;32mFalse\u001b[0m\u001b[1;33m)\u001b[0m\u001b[1;33m:\u001b[0m\u001b[1;33m\u001b[0m\u001b[1;33m\u001b[0m\u001b[0m\n",
      "\u001b[1;31mKeyError\u001b[0m: \"Key 'Waaren-Preise_in_Silber-Rubeln' not present\""
     ]
    }
   ],
   "source": [
    "for heading in df.heading2.sample(10):\n",
    "    print(heading) \n",
    "    print(heading_model.most_similar(format_heading(heading)))\n",
    "    print('\\n\\n')"
   ]
  },
  {
   "cell_type": "markdown",
   "id": "0ac5a679",
   "metadata": {},
   "source": [
    "## doc2vec"
   ]
  },
  {
   "cell_type": "code",
   "execution_count": 16,
   "id": "56c048f1",
   "metadata": {},
   "outputs": [],
   "source": [
    "nlp = spacy.load('de_core_news_md')"
   ]
  },
  {
   "cell_type": "code",
   "execution_count": 21,
   "id": "c89b0282",
   "metadata": {},
   "outputs": [],
   "source": [
    "def token_is_garbage(token, treshold=0.3):\n",
    "    \n",
    "    allowed_symbols = string.ascii_letters + '0123456789.äüö'\n",
    "    \n",
    "    non_alphabetical = 0\n",
    "    for symbol in token.text:\n",
    "        if symbol not in allowed_symbols:\n",
    "            non_alphabetical += 1\n",
    "            \n",
    "    if non_alphabetical/len(token.text) >= treshold:\n",
    "        return True\n",
    "    else:\n",
    "        return False\n",
    "    \n",
    "\n",
    "def cleanup_heading(heading, nlp):\n",
    "    \n",
    "    doc = nlp(heading)\n",
    "    word_list = []\n",
    "    for token in doc:\n",
    "        if not token.is_stop and token.pos_ not in ['PUNCT', 'SPACE', 'NUM']:\n",
    "            if token_is_garbage(token) == False:\n",
    "                word_list.append(token.text)\n",
    "\n",
    "    return word_list"
   ]
  },
  {
   "cell_type": "code",
   "execution_count": 22,
   "id": "250eaab6",
   "metadata": {},
   "outputs": [
    {
     "data": {
      "text/plain": [
       "78984                  [bcrclls, besprochene, dramamme]\n",
       "98604                                     [Deutschland]\n",
       "73697                                 [St., Petersburg]\n",
       "18525                                        [Verlören]\n",
       "86660                                      [Frankreich]\n",
       "                              ...                      \n",
       "49898                                 [St., Petersburg]\n",
       "224388        [Riga, 2., August, fahren, iv, Reproduct]\n",
       "70958                               [Bayerisches, Bier]\n",
       "260010    [Riga, 27., Juli, Ueber, Reise, Kaiserlichen]\n",
       "82646       [u, drucken, erlaubt, Namen, General-Gouve]\n",
       "Name: heading2, Length: 100, dtype: object"
      ]
     },
     "execution_count": 22,
     "metadata": {},
     "output_type": "execute_result"
    }
   ],
   "source": [
    "df.heading2.sample(100).apply(lambda x: cleanup_heading(x, nlp))"
   ]
  },
  {
   "cell_type": "code",
   "execution_count": 39,
   "id": "16af8832",
   "metadata": {},
   "outputs": [],
   "source": [
    "def create_corpus(df):\n",
    "    for i, heading in tqdm(df.heading2.iteritems()):\n",
    "        if heading != None:\n",
    "            yield gensim.models.doc2vec.TaggedDocument(cleanup_heading(heading, nlp), [i])"
   ]
  },
  {
   "cell_type": "code",
   "execution_count": 45,
   "id": "fcdcf845",
   "metadata": {},
   "outputs": [
    {
     "name": "stderr",
     "output_type": "stream",
     "text": [
      "50000it [08:44, 95.34it/s] \n"
     ]
    }
   ],
   "source": [
    "train_corpus = list(create_corpus(df.sample(50000)))"
   ]
  },
  {
   "cell_type": "code",
   "execution_count": 46,
   "id": "b664df6b",
   "metadata": {},
   "outputs": [],
   "source": [
    "d2v = gensim.models.doc2vec.Doc2Vec(vector_size=50, min_count=2, epochs=30)"
   ]
  },
  {
   "cell_type": "code",
   "execution_count": 47,
   "id": "3f0df39d",
   "metadata": {},
   "outputs": [],
   "source": [
    "d2v.build_vocab(train_corpus)"
   ]
  },
  {
   "cell_type": "code",
   "execution_count": 48,
   "id": "23a2b503",
   "metadata": {},
   "outputs": [],
   "source": [
    "d2v.train(train_corpus, total_examples=d2v.corpus_count, epochs=d2v.epochs)"
   ]
  },
  {
   "cell_type": "code",
   "execution_count": 59,
   "id": "8b1eb083",
   "metadata": {},
   "outputs": [],
   "source": [
    "def similarity_examples(n):\n",
    "    \n",
    "    for i in np.random.randint(0, len(train_corpus), n):\n",
    "        print(df.loc[i, 'heading2'], '\\n')\n",
    "        for sim in d2v.dv.most_similar(train_corpus[100][1]):\n",
    "            print(df.loc[sim[0], 'heading2'])\n",
    "        print('\\n\\n')"
   ]
  },
  {
   "cell_type": "code",
   "execution_count": 62,
   "id": "9fd5521a",
   "metadata": {
    "scrolled": false
   },
   "outputs": [
    {
     "name": "stdout",
     "output_type": "stream",
     "text": [
      "Paris \n",
      "\n",
      "Berlin. 17. (5 ) März. In der alten Hanse« und Haf\n",
      "PariS 5. Juni (24. Mai). Der Baron Lareinty. Deleg\n",
      "Riga. Im Monat März dieses Jahres ist zu Lande und\n",
      "Wien, 7. Januar. Die „Preise\" enlbäll ans Paris di\n",
      "Madrid, 27. October. AuS Lissabon wird mitgetheilt\n",
      "Riga, 19. Juli. In der letzten Börsen- und Hantels\n",
      "Riga 16. October. Vorgestern Mittag um 2 Uhr fand\n",
      "Riga, 22. December. St. Petersburg, 21. December\n",
      "P. G Konstantinopel, 4. Januar (23. December). Bek\n",
      "PairSkammer. 3. April. Verhandlungen über einen Ge\n",
      "\n",
      "\n",
      "\n",
      "Bekanntmachungen \n",
      "\n",
      "Berlin. 17. (5 ) März. In der alten Hanse« und Haf\n",
      "PariS 5. Juni (24. Mai). Der Baron Lareinty. Deleg\n",
      "Riga. Im Monat März dieses Jahres ist zu Lande und\n",
      "Wien, 7. Januar. Die „Preise\" enlbäll ans Paris di\n",
      "Madrid, 27. October. AuS Lissabon wird mitgetheilt\n",
      "Riga, 19. Juli. In der letzten Börsen- und Hantels\n",
      "Riga 16. October. Vorgestern Mittag um 2 Uhr fand\n",
      "Riga, 22. December. St. Petersburg, 21. December\n",
      "P. G Konstantinopel, 4. Januar (23. December). Bek\n",
      "PairSkammer. 3. April. Verhandlungen über einen Ge\n",
      "\n",
      "\n",
      "\n",
      "Witterungs-Beobachtungen \n",
      "\n",
      "Berlin. 17. (5 ) März. In der alten Hanse« und Haf\n",
      "PariS 5. Juni (24. Mai). Der Baron Lareinty. Deleg\n",
      "Riga. Im Monat März dieses Jahres ist zu Lande und\n",
      "Wien, 7. Januar. Die „Preise\" enlbäll ans Paris di\n",
      "Madrid, 27. October. AuS Lissabon wird mitgetheilt\n",
      "Riga, 19. Juli. In der letzten Börsen- und Hantels\n",
      "Riga 16. October. Vorgestern Mittag um 2 Uhr fand\n",
      "Riga, 22. December. St. Petersburg, 21. December\n",
      "P. G Konstantinopel, 4. Januar (23. December). Bek\n",
      "PairSkammer. 3. April. Verhandlungen über einen Ge\n",
      "\n",
      "\n",
      "\n",
      "Wien \n",
      "\n",
      "Berlin. 17. (5 ) März. In der alten Hanse« und Haf\n",
      "PariS 5. Juni (24. Mai). Der Baron Lareinty. Deleg\n",
      "Riga. Im Monat März dieses Jahres ist zu Lande und\n",
      "Wien, 7. Januar. Die „Preise\" enlbäll ans Paris di\n",
      "Madrid, 27. October. AuS Lissabon wird mitgetheilt\n",
      "Riga, 19. Juli. In der letzten Börsen- und Hantels\n",
      "Riga 16. October. Vorgestern Mittag um 2 Uhr fand\n",
      "Riga, 22. December. St. Petersburg, 21. December\n",
      "P. G Konstantinopel, 4. Januar (23. December). Bek\n",
      "PairSkammer. 3. April. Verhandlungen über einen Ge\n",
      "\n",
      "\n",
      "\n",
      "Karlsruhe \n",
      "\n",
      "Berlin. 17. (5 ) März. In der alten Hanse« und Haf\n",
      "PariS 5. Juni (24. Mai). Der Baron Lareinty. Deleg\n",
      "Riga. Im Monat März dieses Jahres ist zu Lande und\n",
      "Wien, 7. Januar. Die „Preise\" enlbäll ans Paris di\n",
      "Madrid, 27. October. AuS Lissabon wird mitgetheilt\n",
      "Riga, 19. Juli. In der letzten Börsen- und Hantels\n",
      "Riga 16. October. Vorgestern Mittag um 2 Uhr fand\n",
      "Riga, 22. December. St. Petersburg, 21. December\n",
      "P. G Konstantinopel, 4. Januar (23. December). Bek\n",
      "PairSkammer. 3. April. Verhandlungen über einen Ge\n",
      "\n",
      "\n",
      "\n",
      "Bekanntmachung \n",
      "\n",
      "Berlin. 17. (5 ) März. In der alten Hanse« und Haf\n",
      "PariS 5. Juni (24. Mai). Der Baron Lareinty. Deleg\n",
      "Riga. Im Monat März dieses Jahres ist zu Lande und\n",
      "Wien, 7. Januar. Die „Preise\" enlbäll ans Paris di\n",
      "Madrid, 27. October. AuS Lissabon wird mitgetheilt\n",
      "Riga, 19. Juli. In der letzten Börsen- und Hantels\n",
      "Riga 16. October. Vorgestern Mittag um 2 Uhr fand\n",
      "Riga, 22. December. St. Petersburg, 21. December\n",
      "P. G Konstantinopel, 4. Januar (23. December). Bek\n",
      "PairSkammer. 3. April. Verhandlungen über einen Ge\n",
      "\n",
      "\n",
      "\n",
      "Bekanntmachungen \n",
      "\n",
      "Berlin. 17. (5 ) März. In der alten Hanse« und Haf\n",
      "PariS 5. Juni (24. Mai). Der Baron Lareinty. Deleg\n",
      "Riga. Im Monat März dieses Jahres ist zu Lande und\n",
      "Wien, 7. Januar. Die „Preise\" enlbäll ans Paris di\n",
      "Madrid, 27. October. AuS Lissabon wird mitgetheilt\n",
      "Riga, 19. Juli. In der letzten Börsen- und Hantels\n",
      "Riga 16. October. Vorgestern Mittag um 2 Uhr fand\n",
      "Riga, 22. December. St. Petersburg, 21. December\n",
      "P. G Konstantinopel, 4. Januar (23. December). Bek\n",
      "PairSkammer. 3. April. Verhandlungen über einen Ge\n",
      "\n",
      "\n",
      "\n",
      "Inland \n",
      "\n",
      "Berlin. 17. (5 ) März. In der alten Hanse« und Haf\n",
      "PariS 5. Juni (24. Mai). Der Baron Lareinty. Deleg\n",
      "Riga. Im Monat März dieses Jahres ist zu Lande und\n",
      "Wien, 7. Januar. Die „Preise\" enlbäll ans Paris di\n",
      "Madrid, 27. October. AuS Lissabon wird mitgetheilt\n",
      "Riga, 19. Juli. In der letzten Börsen- und Hantels\n",
      "Riga 16. October. Vorgestern Mittag um 2 Uhr fand\n",
      "Riga, 22. December. St. Petersburg, 21. December\n",
      "P. G Konstantinopel, 4. Januar (23. December). Bek\n",
      "PairSkammer. 3. April. Verhandlungen über einen Ge\n",
      "\n",
      "\n",
      "\n",
      "Italien \n",
      "\n",
      "Berlin. 17. (5 ) März. In der alten Hanse« und Haf\n",
      "PariS 5. Juni (24. Mai). Der Baron Lareinty. Deleg\n",
      "Riga. Im Monat März dieses Jahres ist zu Lande und\n",
      "Wien, 7. Januar. Die „Preise\" enlbäll ans Paris di\n",
      "Madrid, 27. October. AuS Lissabon wird mitgetheilt\n",
      "Riga, 19. Juli. In der letzten Börsen- und Hantels\n",
      "Riga 16. October. Vorgestern Mittag um 2 Uhr fand\n",
      "Riga, 22. December. St. Petersburg, 21. December\n",
      "P. G Konstantinopel, 4. Januar (23. December). Bek\n",
      "PairSkammer. 3. April. Verhandlungen über einen Ge\n",
      "\n",
      "\n",
      "\n",
      "Todes-Anzeige \n",
      "\n",
      "Berlin. 17. (5 ) März. In der alten Hanse« und Haf\n",
      "PariS 5. Juni (24. Mai). Der Baron Lareinty. Deleg\n",
      "Riga. Im Monat März dieses Jahres ist zu Lande und\n",
      "Wien, 7. Januar. Die „Preise\" enlbäll ans Paris di\n",
      "Madrid, 27. October. AuS Lissabon wird mitgetheilt\n",
      "Riga, 19. Juli. In der letzten Börsen- und Hantels\n",
      "Riga 16. October. Vorgestern Mittag um 2 Uhr fand\n",
      "Riga, 22. December. St. Petersburg, 21. December\n",
      "P. G Konstantinopel, 4. Januar (23. December). Bek\n",
      "PairSkammer. 3. April. Verhandlungen über einen Ge\n",
      "\n",
      "\n",
      "\n"
     ]
    }
   ],
   "source": [
    "similarity_examples(10)"
   ]
  },
  {
   "cell_type": "code",
   "execution_count": null,
   "id": "1537a983",
   "metadata": {},
   "outputs": [],
   "source": []
  },
  {
   "cell_type": "code",
   "execution_count": null,
   "id": "f318856d",
   "metadata": {},
   "outputs": [],
   "source": []
  }
 ],
 "metadata": {
  "kernelspec": {
   "display_name": "Python 3 (ipykernel)",
   "language": "python",
   "name": "python3"
  },
  "language_info": {
   "codemirror_mode": {
    "name": "ipython",
    "version": 3
   },
   "file_extension": ".py",
   "mimetype": "text/x-python",
   "name": "python",
   "nbconvert_exporter": "python",
   "pygments_lexer": "ipython3",
   "version": "3.9.2"
  }
 },
 "nbformat": 4,
 "nbformat_minor": 5
}
