{
 "cells": [
  {
   "cell_type": "code",
   "execution_count": 1,
   "id": "9e02d59c",
   "metadata": {},
   "outputs": [],
   "source": [
    "import pandas as pd\n",
    "import numpy as np\n",
    "from tqdm import tqdm\n",
    "import spacy\n",
    "import json\n",
    "import gensim\n",
    "from climdist.data import load as cd_load"
   ]
  },
  {
   "cell_type": "code",
   "execution_count": 3,
   "id": "211191d9",
   "metadata": {},
   "outputs": [],
   "source": [
    "df = cd_load('main', readability=True, heading2=True)"
   ]
  },
  {
   "cell_type": "code",
   "execution_count": 9,
   "id": "e0712c86",
   "metadata": {},
   "outputs": [],
   "source": [
    "model = gensim.models.word2vec.KeyedVectors.load_word2vec_format('../data/models/word2vec_251021/w2v_model.txt')"
   ]
  },
  {
   "cell_type": "code",
   "execution_count": 65,
   "id": "ecf8bfb1",
   "metadata": {},
   "outputs": [],
   "source": [
    "def vector_mean(keys):\n",
    "    \n",
    "    sum_vec = np.zeros(100,)\n",
    "    for key in keys:\n",
    "        if model.has_index_for(key):\n",
    "            sum_vec += model.get_vector(key)\n",
    "        \n",
    "    mean_vec = sum_vec/len(keys)\n",
    "        \n",
    "    #print(model.most_similar(mean_vec))\n",
    "    return mean_vec"
   ]
  },
  {
   "cell_type": "code",
   "execution_count": 142,
   "id": "0d5d690f",
   "metadata": {},
   "outputs": [],
   "source": [
    "def create_heading_vectors(df):\n",
    "    \n",
    "    vectors = []\n",
    "    \n",
    "    for heading in tqdm(df.heading):\n",
    "        heading_vec = list(vector_mean(heading.strip('.').split()))\n",
    "        heading_vec.insert(0, heading.strip('.'))\n",
    "        vectors.append(heading_vec)\n",
    "        \n",
    "    return pd.DataFrame(vectors, columns=(['heading']+list(range(100)))).set_index('heading')"
   ]
  },
  {
   "cell_type": "code",
   "execution_count": 204,
   "id": "0bc8b321",
   "metadata": {},
   "outputs": [],
   "source": [
    "def create_heading_vectors_str(df):\n",
    "    \n",
    "    vectors = ''\n",
    "    vectors += (str(len(df.heading2.unique()))) + ' 100\\n' #write meteadata\n",
    "    \n",
    "    for heading in tqdm(df.heading2.unique()):\n",
    "        try:\n",
    "            heading_vec = vector_mean(heading.strip('.').split())\n",
    "            line = heading.replace(' ', '_') + ' ' + ' '.join([str(num) for num in heading_vec])\n",
    "            vectors += line\n",
    "            vectors += '\\n'\n",
    "        except:\n",
    "            pass\n",
    "        \n",
    "    return vectors"
   ]
  },
  {
   "cell_type": "code",
   "execution_count": 8,
   "id": "95e2c428",
   "metadata": {},
   "outputs": [],
   "source": [
    "def format_heading(heading):\n",
    "    return heading.strip('.').replace(' ', '_')"
   ]
  },
  {
   "cell_type": "code",
   "execution_count": 205,
   "id": "5347717f",
   "metadata": {},
   "outputs": [
    {
     "name": "stderr",
     "output_type": "stream",
     "text": [
      " 61%|█████████████████████████████████████████████▏                            | 52951/86598 [51:11<1:07:15,  8.34it/s]C:\\Users\\krister\\AppData\\Local\\Temp/ipykernel_27420/3645892505.py:8: RuntimeWarning: invalid value encountered in true_divide\n",
      "  mean_vec = sum_vec/len(keys)\n",
      "100%|██████████████████████████████████████████████████████████████████████████| 86598/86598 [2:11:33<00:00, 10.97it/s]\n"
     ]
    }
   ],
   "source": [
    "vectors = create_heading_vectors_str(df)"
   ]
  },
  {
   "cell_type": "code",
   "execution_count": null,
   "id": "f3577beb",
   "metadata": {},
   "outputs": [],
   "source": [
    "with open('../temp/heading_vectors.txt', 'w', encoding='utf8') as f:\n",
    "    f.write(vectors)"
   ]
  },
  {
   "cell_type": "code",
   "execution_count": 2,
   "id": "b3a323df",
   "metadata": {},
   "outputs": [],
   "source": [
    "heading_model = gensim.models.word2vec.KeyedVectors.load_word2vec_format('../temp/heading_vectors.txt')"
   ]
  },
  {
   "cell_type": "code",
   "execution_count": 9,
   "id": "4ea78b1e",
   "metadata": {},
   "outputs": [
    {
     "name": "stdout",
     "output_type": "stream",
     "text": [
      "Oesterreich\n",
      "[('Oesterreich_–_Ungarn', 0.946531355381012), ('Oesterreich_Ungarn', 0.946531355381012), ('Oesterreich-Ungarn', 0.8309103846549988), ('Preußen', 0.811760663986206), ('Ungarn', 0.7910464406013489), ('Socialpädagogisches_aus_Deutschland', 0.7641233205795288), ('Deutschland', 0.7641233205795288), ('—_Zwischen_den_Höfen_von_Dänemark_und_Preußen_ist', 0.7450395226478577), ('Italien', 0.737226128578186), ('Frankreich', 0.6938095688819885)]\n",
      "\n",
      "\n",
      "\n",
      "Waaren-Preise in Silber-Rubeln\n"
     ]
    },
    {
     "ename": "KeyError",
     "evalue": "\"Key 'Waaren-Preise_in_Silber-Rubeln' not present\"",
     "output_type": "error",
     "traceback": [
      "\u001b[1;31m---------------------------------------------------------------------------\u001b[0m",
      "\u001b[1;31mKeyError\u001b[0m                                  Traceback (most recent call last)",
      "\u001b[1;32m~\\AppData\\Local\\Temp/ipykernel_19140/253192218.py\u001b[0m in \u001b[0;36m<module>\u001b[1;34m\u001b[0m\n\u001b[0;32m      1\u001b[0m \u001b[1;32mfor\u001b[0m \u001b[0mheading\u001b[0m \u001b[1;32min\u001b[0m \u001b[0mdf\u001b[0m\u001b[1;33m.\u001b[0m\u001b[0mheading2\u001b[0m\u001b[1;33m.\u001b[0m\u001b[0msample\u001b[0m\u001b[1;33m(\u001b[0m\u001b[1;36m10\u001b[0m\u001b[1;33m)\u001b[0m\u001b[1;33m:\u001b[0m\u001b[1;33m\u001b[0m\u001b[1;33m\u001b[0m\u001b[0m\n\u001b[0;32m      2\u001b[0m     \u001b[0mprint\u001b[0m\u001b[1;33m(\u001b[0m\u001b[0mheading\u001b[0m\u001b[1;33m)\u001b[0m\u001b[1;33m\u001b[0m\u001b[1;33m\u001b[0m\u001b[0m\n\u001b[1;32m----> 3\u001b[1;33m     \u001b[0mprint\u001b[0m\u001b[1;33m(\u001b[0m\u001b[0mheading_model\u001b[0m\u001b[1;33m.\u001b[0m\u001b[0mmost_similar\u001b[0m\u001b[1;33m(\u001b[0m\u001b[0mformat_heading\u001b[0m\u001b[1;33m(\u001b[0m\u001b[0mheading\u001b[0m\u001b[1;33m)\u001b[0m\u001b[1;33m)\u001b[0m\u001b[1;33m)\u001b[0m\u001b[1;33m\u001b[0m\u001b[1;33m\u001b[0m\u001b[0m\n\u001b[0m\u001b[0;32m      4\u001b[0m     \u001b[0mprint\u001b[0m\u001b[1;33m(\u001b[0m\u001b[1;34m'\\n\\n'\u001b[0m\u001b[1;33m)\u001b[0m\u001b[1;33m\u001b[0m\u001b[1;33m\u001b[0m\u001b[0m\n",
      "\u001b[1;32mc:\\users\\krister\\climdist\\v_env\\lib\\site-packages\\gensim\\models\\keyedvectors.py\u001b[0m in \u001b[0;36mmost_similar\u001b[1;34m(self, positive, negative, topn, clip_start, clip_end, restrict_vocab, indexer)\u001b[0m\n\u001b[0;32m    771\u001b[0m                 \u001b[0mmean\u001b[0m\u001b[1;33m.\u001b[0m\u001b[0mappend\u001b[0m\u001b[1;33m(\u001b[0m\u001b[0mweight\u001b[0m \u001b[1;33m*\u001b[0m \u001b[0mkey\u001b[0m\u001b[1;33m)\u001b[0m\u001b[1;33m\u001b[0m\u001b[1;33m\u001b[0m\u001b[0m\n\u001b[0;32m    772\u001b[0m             \u001b[1;32melse\u001b[0m\u001b[1;33m:\u001b[0m\u001b[1;33m\u001b[0m\u001b[1;33m\u001b[0m\u001b[0m\n\u001b[1;32m--> 773\u001b[1;33m                 \u001b[0mmean\u001b[0m\u001b[1;33m.\u001b[0m\u001b[0mappend\u001b[0m\u001b[1;33m(\u001b[0m\u001b[0mweight\u001b[0m \u001b[1;33m*\u001b[0m \u001b[0mself\u001b[0m\u001b[1;33m.\u001b[0m\u001b[0mget_vector\u001b[0m\u001b[1;33m(\u001b[0m\u001b[0mkey\u001b[0m\u001b[1;33m,\u001b[0m \u001b[0mnorm\u001b[0m\u001b[1;33m=\u001b[0m\u001b[1;32mTrue\u001b[0m\u001b[1;33m)\u001b[0m\u001b[1;33m)\u001b[0m\u001b[1;33m\u001b[0m\u001b[1;33m\u001b[0m\u001b[0m\n\u001b[0m\u001b[0;32m    774\u001b[0m                 \u001b[1;32mif\u001b[0m \u001b[0mself\u001b[0m\u001b[1;33m.\u001b[0m\u001b[0mhas_index_for\u001b[0m\u001b[1;33m(\u001b[0m\u001b[0mkey\u001b[0m\u001b[1;33m)\u001b[0m\u001b[1;33m:\u001b[0m\u001b[1;33m\u001b[0m\u001b[1;33m\u001b[0m\u001b[0m\n\u001b[0;32m    775\u001b[0m                     \u001b[0mall_keys\u001b[0m\u001b[1;33m.\u001b[0m\u001b[0madd\u001b[0m\u001b[1;33m(\u001b[0m\u001b[0mself\u001b[0m\u001b[1;33m.\u001b[0m\u001b[0mget_index\u001b[0m\u001b[1;33m(\u001b[0m\u001b[0mkey\u001b[0m\u001b[1;33m)\u001b[0m\u001b[1;33m)\u001b[0m\u001b[1;33m\u001b[0m\u001b[1;33m\u001b[0m\u001b[0m\n",
      "\u001b[1;32mc:\\users\\krister\\climdist\\v_env\\lib\\site-packages\\gensim\\models\\keyedvectors.py\u001b[0m in \u001b[0;36mget_vector\u001b[1;34m(self, key, norm)\u001b[0m\n\u001b[0;32m    436\u001b[0m \u001b[1;33m\u001b[0m\u001b[0m\n\u001b[0;32m    437\u001b[0m         \"\"\"\n\u001b[1;32m--> 438\u001b[1;33m         \u001b[0mindex\u001b[0m \u001b[1;33m=\u001b[0m \u001b[0mself\u001b[0m\u001b[1;33m.\u001b[0m\u001b[0mget_index\u001b[0m\u001b[1;33m(\u001b[0m\u001b[0mkey\u001b[0m\u001b[1;33m)\u001b[0m\u001b[1;33m\u001b[0m\u001b[1;33m\u001b[0m\u001b[0m\n\u001b[0m\u001b[0;32m    439\u001b[0m         \u001b[1;32mif\u001b[0m \u001b[0mnorm\u001b[0m\u001b[1;33m:\u001b[0m\u001b[1;33m\u001b[0m\u001b[1;33m\u001b[0m\u001b[0m\n\u001b[0;32m    440\u001b[0m             \u001b[0mself\u001b[0m\u001b[1;33m.\u001b[0m\u001b[0mfill_norms\u001b[0m\u001b[1;33m(\u001b[0m\u001b[1;33m)\u001b[0m\u001b[1;33m\u001b[0m\u001b[1;33m\u001b[0m\u001b[0m\n",
      "\u001b[1;32mc:\\users\\krister\\climdist\\v_env\\lib\\site-packages\\gensim\\models\\keyedvectors.py\u001b[0m in \u001b[0;36mget_index\u001b[1;34m(self, key, default)\u001b[0m\n\u001b[0;32m    410\u001b[0m             \u001b[1;32mreturn\u001b[0m \u001b[0mdefault\u001b[0m\u001b[1;33m\u001b[0m\u001b[1;33m\u001b[0m\u001b[0m\n\u001b[0;32m    411\u001b[0m         \u001b[1;32melse\u001b[0m\u001b[1;33m:\u001b[0m\u001b[1;33m\u001b[0m\u001b[1;33m\u001b[0m\u001b[0m\n\u001b[1;32m--> 412\u001b[1;33m             \u001b[1;32mraise\u001b[0m \u001b[0mKeyError\u001b[0m\u001b[1;33m(\u001b[0m\u001b[1;34mf\"Key '{key}' not present\"\u001b[0m\u001b[1;33m)\u001b[0m\u001b[1;33m\u001b[0m\u001b[1;33m\u001b[0m\u001b[0m\n\u001b[0m\u001b[0;32m    413\u001b[0m \u001b[1;33m\u001b[0m\u001b[0m\n\u001b[0;32m    414\u001b[0m     \u001b[1;32mdef\u001b[0m \u001b[0mget_vector\u001b[0m\u001b[1;33m(\u001b[0m\u001b[0mself\u001b[0m\u001b[1;33m,\u001b[0m \u001b[0mkey\u001b[0m\u001b[1;33m,\u001b[0m \u001b[0mnorm\u001b[0m\u001b[1;33m=\u001b[0m\u001b[1;32mFalse\u001b[0m\u001b[1;33m)\u001b[0m\u001b[1;33m:\u001b[0m\u001b[1;33m\u001b[0m\u001b[1;33m\u001b[0m\u001b[0m\n",
      "\u001b[1;31mKeyError\u001b[0m: \"Key 'Waaren-Preise_in_Silber-Rubeln' not present\""
     ]
    }
   ],
   "source": [
    "for heading in df.heading2.sample(10):\n",
    "    print(heading) \n",
    "    print(heading_model.most_similar(format_heading(heading)))\n",
    "    print('\\n\\n')"
   ]
  },
  {
   "cell_type": "code",
   "execution_count": 181,
   "id": "581dc42a",
   "metadata": {},
   "outputs": [
    {
     "data": {
      "text/plain": [
       "50"
      ]
     },
     "execution_count": 181,
     "metadata": {},
     "output_type": "execute_result"
    }
   ],
   "source": [
    "len(format_heading(df.heading.iloc[0]))"
   ]
  },
  {
   "cell_type": "code",
   "execution_count": 183,
   "id": "5354bc42",
   "metadata": {},
   "outputs": [
    {
     "data": {
      "text/plain": [
       "\"Kopenhagen, *jcr. (Was.« 4tq.) 4n der gestrigen S'\""
      ]
     },
     "execution_count": 183,
     "metadata": {},
     "output_type": "execute_result"
    }
   ],
   "source": [
    "df.heading.iloc[0]"
   ]
  }
 ],
 "metadata": {
  "kernelspec": {
   "display_name": "Python 3 (ipykernel)",
   "language": "python",
   "name": "python3"
  },
  "language_info": {
   "codemirror_mode": {
    "name": "ipython",
    "version": 3
   },
   "file_extension": ".py",
   "mimetype": "text/x-python",
   "name": "python",
   "nbconvert_exporter": "python",
   "pygments_lexer": "ipython3",
   "version": "3.9.2"
  }
 },
 "nbformat": 4,
 "nbformat_minor": 5
}
