{
 "cells": [
  {
   "cell_type": "code",
   "execution_count": 62,
   "id": "occupational-aruba",
   "metadata": {},
   "outputs": [],
   "source": [
    "import pandas as pd\n",
    "import climdist.data\n",
    "import json\n",
    "import spacy\n",
    "from spacy import displacy\n",
    "from tqdm import tqdm\n",
    "import random"
   ]
  },
  {
   "cell_type": "code",
   "execution_count": 85,
   "id": "circular-mortgage",
   "metadata": {},
   "outputs": [],
   "source": [
    "nlp = spacy.load('de_core_news_md')"
   ]
  },
  {
   "cell_type": "code",
   "execution_count": 86,
   "id": "elegant-tuning",
   "metadata": {},
   "outputs": [],
   "source": [
    "nlp.disable_pipe('ner')\n",
    "nlp.add_pipe('entity_ruler')\n",
    "ruler = nlp.get_pipe('entity_ruler')\n",
    "ruler.from_dist('../data/models/entity_ruler_121021')"
   ]
  },
  {
   "cell_type": "code",
   "execution_count": 89,
   "id": "cultural-notification",
   "metadata": {},
   "outputs": [],
   "source": [
    "ruler.to_disk('../data/models/entity_ruler_121021')"
   ]
  },
  {
   "cell_type": "code",
   "execution_count": 47,
   "id": "palestinian-eleven",
   "metadata": {},
   "outputs": [],
   "source": [
    "df = climdist.data.load('main', readability=True, heading2=False)"
   ]
  },
  {
   "cell_type": "code",
   "execution_count": 115,
   "id": "prepared-stationery",
   "metadata": {},
   "outputs": [],
   "source": [
    "def choose_annotation_data(df, n=100, max_len=5000):\n",
    "    \n",
    "    results = []\n",
    "    \n",
    "    while len(results) < n:\n",
    "        \n",
    "        sample = df[(df.readability==True) & (df.text_len < max_len)].sample(n)\n",
    "        \n",
    "        for i in tqdm(sample.index):\n",
    "            doc = nlp(df.loc[i, 'full_text'])\n",
    "            if len(doc.ents) > 0:\n",
    "                results.append(i)\n",
    "                \n",
    "        for i in results:\n",
    "            if results.count(i) > 1:\n",
    "                results.pop(i)\n",
    "                \n",
    "        print(f'{len(results)} results so far')\n",
    "                \n",
    "    results = results[:n+1]\n",
    "                \n",
    "    print('Finished')\n",
    "    \n",
    "    return results"
   ]
  },
  {
   "cell_type": "code",
   "execution_count": 116,
   "id": "authorized-montreal",
   "metadata": {},
   "outputs": [
    {
     "name": "stderr",
     "output_type": "stream",
     "text": [
      "100%|████████████████████████████████████████████████████████████████████████████████| 100/100 [00:06<00:00, 14.40it/s]\n",
      "  5%|████                                                                              | 5/100 [00:00<00:02, 45.78it/s]"
     ]
    },
    {
     "name": "stdout",
     "output_type": "stream",
     "text": [
      "8 results so far\n"
     ]
    },
    {
     "name": "stderr",
     "output_type": "stream",
     "text": [
      "100%|████████████████████████████████████████████████████████████████████████████████| 100/100 [00:06<00:00, 15.18it/s]\n",
      "  0%|                                                                                          | 0/100 [00:00<?, ?it/s]"
     ]
    },
    {
     "name": "stdout",
     "output_type": "stream",
     "text": [
      "13 results so far\n"
     ]
    },
    {
     "name": "stderr",
     "output_type": "stream",
     "text": [
      "100%|████████████████████████████████████████████████████████████████████████████████| 100/100 [00:07<00:00, 13.03it/s]\n",
      "  3%|██▍                                                                               | 3/100 [00:00<00:03, 28.57it/s]"
     ]
    },
    {
     "name": "stdout",
     "output_type": "stream",
     "text": [
      "23 results so far\n"
     ]
    },
    {
     "name": "stderr",
     "output_type": "stream",
     "text": [
      "100%|████████████████████████████████████████████████████████████████████████████████| 100/100 [00:06<00:00, 15.01it/s]\n",
      "  0%|                                                                                          | 0/100 [00:00<?, ?it/s]"
     ]
    },
    {
     "name": "stdout",
     "output_type": "stream",
     "text": [
      "29 results so far\n"
     ]
    },
    {
     "name": "stderr",
     "output_type": "stream",
     "text": [
      "100%|████████████████████████████████████████████████████████████████████████████████| 100/100 [00:06<00:00, 15.14it/s]\n",
      "  0%|                                                                                          | 0/100 [00:00<?, ?it/s]"
     ]
    },
    {
     "name": "stdout",
     "output_type": "stream",
     "text": [
      "37 results so far\n"
     ]
    },
    {
     "name": "stderr",
     "output_type": "stream",
     "text": [
      "100%|████████████████████████████████████████████████████████████████████████████████| 100/100 [00:07<00:00, 14.26it/s]\n",
      "  0%|                                                                                          | 0/100 [00:00<?, ?it/s]"
     ]
    },
    {
     "name": "stdout",
     "output_type": "stream",
     "text": [
      "43 results so far\n"
     ]
    },
    {
     "name": "stderr",
     "output_type": "stream",
     "text": [
      "100%|████████████████████████████████████████████████████████████████████████████████| 100/100 [00:07<00:00, 14.18it/s]\n",
      "  0%|                                                                                          | 0/100 [00:00<?, ?it/s]"
     ]
    },
    {
     "name": "stdout",
     "output_type": "stream",
     "text": [
      "52 results so far\n"
     ]
    },
    {
     "name": "stderr",
     "output_type": "stream",
     "text": [
      "100%|████████████████████████████████████████████████████████████████████████████████| 100/100 [00:06<00:00, 14.68it/s]\n",
      "  2%|█▋                                                                                | 2/100 [00:00<00:05, 19.22it/s]"
     ]
    },
    {
     "name": "stdout",
     "output_type": "stream",
     "text": [
      "64 results so far\n"
     ]
    },
    {
     "name": "stderr",
     "output_type": "stream",
     "text": [
      "100%|████████████████████████████████████████████████████████████████████████████████| 100/100 [00:07<00:00, 13.46it/s]\n",
      "  0%|                                                                                          | 0/100 [00:00<?, ?it/s]"
     ]
    },
    {
     "name": "stdout",
     "output_type": "stream",
     "text": [
      "79 results so far\n"
     ]
    },
    {
     "name": "stderr",
     "output_type": "stream",
     "text": [
      "100%|████████████████████████████████████████████████████████████████████████████████| 100/100 [00:07<00:00, 13.26it/s]\n",
      "  2%|█▋                                                                                | 2/100 [00:00<00:04, 19.97it/s]"
     ]
    },
    {
     "name": "stdout",
     "output_type": "stream",
     "text": [
      "87 results so far\n"
     ]
    },
    {
     "name": "stderr",
     "output_type": "stream",
     "text": [
      "100%|████████████████████████████████████████████████████████████████████████████████| 100/100 [00:07<00:00, 13.73it/s]\n",
      "  0%|                                                                                          | 0/100 [00:00<?, ?it/s]"
     ]
    },
    {
     "name": "stdout",
     "output_type": "stream",
     "text": [
      "94 results so far\n"
     ]
    },
    {
     "name": "stderr",
     "output_type": "stream",
     "text": [
      "100%|████████████████████████████████████████████████████████████████████████████████| 100/100 [00:08<00:00, 11.45it/s]"
     ]
    },
    {
     "name": "stdout",
     "output_type": "stream",
     "text": [
      "103 results so far\n",
      "Finished\n"
     ]
    },
    {
     "name": "stderr",
     "output_type": "stream",
     "text": [
      "\n"
     ]
    }
   ],
   "source": [
    "choose_annotation_data(df)"
   ]
  },
  {
   "cell_type": "code",
   "execution_count": 117,
   "id": "australian-equipment",
   "metadata": {},
   "outputs": [],
   "source": [
    "def explore_results():\n",
    "    i = random.choice(results)\n",
    "    doc = nlp(df.loc[i, 'full_text'])\n",
    "    print(df.loc[i, 'text_len'])\n",
    "    displacy.render(doc, style='ent', jupyter=True)"
   ]
  },
  {
   "cell_type": "code",
   "execution_count": 106,
   "id": "supposed-signal",
   "metadata": {
    "scrolled": false
   },
   "outputs": [
    {
     "name": "stdout",
     "output_type": "stream",
     "text": [
      "4152\n"
     ]
    },
    {
     "data": {
      "text/html": [
       "<span class=\"tex2jax_ignore\"><div class=\"entities\" style=\"line-height: 2.5; direction: ltr\">Neueste Nachrichten</br></br></br>\tCharkow, 30. Januar. Mit Beziehung aui da« neuerdings colportirte Gerücht, wonach Osman Pascha vor ein Kriegsgericht gestellt werden solle, wird dem .GoloS&quot; von hier Folgendes telegraphirt: Soeben war ich bei OSman Pascha, welcher selbst von den gegen ihn erhobenen Beschuldigungen. als habe er 150 russische Gefangene lebend verscharren lassen, zu sprechen anfing. Er versichert, daß überhaupt nur 30 russische Gefangene bei ihm gewesen, welche sämmtlich  Sofia befördert worden seien. Bei dem Sturm vom 30. August find nach OSman'S Worten türkischerseitS überhaupt leine Gesangene gemacht worden.</br>Wien, 11. Febr. (30. Jan.) Von bestint'rrichter Seite werden alle Nochrichten über angeblich beabfich« tigte Mobilifirung österreichischer Truppen als völlig unbegründet bezeichnet ; ebenso ist die von auswärtigen Blättern gebrachte Nachricht, daß bereits Ordre zur Absendung eines österreichischen Geschwaders nach Konpantinopel ertheilt sei, unrichtig und dürfte diese Nach, rieht wohl aus die bereits vor mehreren Tagen gemel. dete Ausrüstung zweier Kriegsschiffe in Pola zurückzu« führen sein. (W. T.-B.)</br>Rom, 11. Februar (30. Januar). Die neuesten Nachrichten über den Beschluß hinsichtlich des Ortes deS Conclave lauten widersprechend. Dem .Diritto' zufolge bestätigt fich die Nachricht, daß bereitS beschlossen sei, das Conclave in Rom abzuhalten, nicht. (W. T..8.)</br>Paris, 10. Februar (29. Januar). Die von auswältigen Blättern gebrachte Nachricht, daß zwei sran« zösische Panzerschiffe Befehl erhalten hätten, nach Konstantinopel zu gehen, wird von der .Agence HavaS&quot; für unbegründet erklärt. (W. T.-B.)</br>Konstantinopel, 8. Februar (27. Jan.). Gemäß den Bestimmungen des Waffenstillstandes räumten die</br></br>\tTürken heute Widdin. Rustschuk. Silistria. Belgradschik und Erzerum. Die Truppen auS Rasgrad und die Behörden von Rustschuk zogen sich nach Schumla zurück. Ebenso haben die Türken die Denfenfivlinien von Konstantinopel, von Bujukstchckmedze und Hastemkoler bis DerfoS geräumt, da diese Positionen in die 12 Meilen breite neutrale Zone fallen, welche von Kuschuktschemedje bis Akbunar reicht. Die Russen halten Tschataldja besetzt; fie sichern ihre Verpflegung über Bourgas und Midia. Die Eröffnung der Schifffahrt auf der Donau wird demnächst erwartet. Die Pfote notificirte den Botschaftern der fremden Mächte die Aushebung der Blockade im Schwarzen Meere. Französische Packetboote werden unverweilt die Fahrten nach Konstantinopel und Odessa ausnehmen. — Zwei höhere russische Offiziere sind gestern hier eingetroffen und vom Sultan empfangen worden. Dieselben gehen heute nach Montenegro, um den zwischen den montenegrinischen und türkischen Offizieren zu führenden Verhandlungen bezüglich der Demarkationslinie beizuwohnen. Die Serben werden Waffenstillstandsbestimmungen zufolge USkup besetzen. (©. T.-B )</br>Konstantinopel, 8. Februar (27. lanuar). Die türkischen Bevollmächtigten Server Pascha und Namyk Pascha sind heute von Adrianopel hier eingetroffen. Server Pascha hat seine Dimission eingereicht. Wie verlautet, soll Savfet Pascha mit anderen Delegirten nach Adrianopel gehen zur Führung der VerHandlungen über den Präliminarfrieden und über den definitiven Friedensvertrag. Der Sultan hat den Großfürsten Nikolai eingeladen, einige Tage in Konstantinopel zu verweilen. Die Kammer hat die Regierung aufgefordert, Maßregeln gegen die Tscherkessen zu ergreifen, welche in Konstantinopel geraubte Gegenstande verkaufen. Die kriegsrechtliche Untersuchung gegen Mehmed Ali Pascha hat begonnen. (W. T.-B.)</br>Konstantinopel, 9. Februar (28. lanuar). Da in Folge des zwischen der Türkei und Rußland abgeschlossenen Waffenstillstandes die Feindseligkeiten sowohl zu Lande als auch zu Wasser eingestellt worden find, wird soeben durch einen kaiserlichen Irade die Aufhebung derßlockade desSchwarzen Meeres während der Dauer des Waffenstillstandes angeordnet. – (W. T.-B.)</br>Konstantinopel, 9. Februar (28. Januar). Im türkischen Parlament brachte der griechische Patriarch heftige Klagen über die Metzeleien vor, welche in 13 in der Nähe von Konstantinopel gelegenen Dörfern von Tscherkessen begangen worden find. (W.T.-B.)</div></span>"
      ],
      "text/plain": [
       "<IPython.core.display.HTML object>"
      ]
     },
     "metadata": {},
     "output_type": "display_data"
    }
   ],
   "source": [
    "explore_results()"
   ]
  },
  {
   "cell_type": "code",
   "execution_count": null,
   "id": "cognitive-lebanon",
   "metadata": {},
   "outputs": [],
   "source": []
  },
  {
   "cell_type": "code",
   "execution_count": null,
   "id": "synthetic-zealand",
   "metadata": {},
   "outputs": [],
   "source": []
  },
  {
   "cell_type": "code",
   "execution_count": null,
   "id": "assumed-arizona",
   "metadata": {},
   "outputs": [],
   "source": []
  },
  {
   "cell_type": "code",
   "execution_count": null,
   "id": "statistical-sleeve",
   "metadata": {},
   "outputs": [],
   "source": []
  },
  {
   "cell_type": "code",
   "execution_count": null,
   "id": "exposed-haven",
   "metadata": {},
   "outputs": [],
   "source": []
  },
  {
   "cell_type": "code",
   "execution_count": null,
   "id": "hazardous-portsmouth",
   "metadata": {},
   "outputs": [],
   "source": []
  },
  {
   "cell_type": "code",
   "execution_count": null,
   "id": "fifth-gasoline",
   "metadata": {},
   "outputs": [],
   "source": []
  },
  {
   "cell_type": "code",
   "execution_count": null,
   "id": "intensive-vitamin",
   "metadata": {},
   "outputs": [],
   "source": []
  },
  {
   "cell_type": "code",
   "execution_count": null,
   "id": "animated-genome",
   "metadata": {},
   "outputs": [],
   "source": []
  },
  {
   "cell_type": "code",
   "execution_count": null,
   "id": "printable-isaac",
   "metadata": {},
   "outputs": [],
   "source": []
  }
 ],
 "metadata": {
  "kernelspec": {
   "display_name": "Python 3",
   "language": "python",
   "name": "python3"
  },
  "language_info": {
   "codemirror_mode": {
    "name": "ipython",
    "version": 3
   },
   "file_extension": ".py",
   "mimetype": "text/x-python",
   "name": "python",
   "nbconvert_exporter": "python",
   "pygments_lexer": "ipython3",
   "version": "3.9.2"
  }
 },
 "nbformat": 4,
 "nbformat_minor": 5
}
