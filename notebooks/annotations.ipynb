{
 "cells": [
  {
   "cell_type": "code",
   "execution_count": 1,
   "id": "occupational-aruba",
   "metadata": {},
   "outputs": [],
   "source": [
    "import pandas as pd\n",
    "import climdist.data\n",
    "import json\n",
    "import spacy\n",
    "from spacy import displacy\n",
    "from tqdm import tqdm\n",
    "import random\n",
    "from climdist.doccano import Transformer\n",
    "import numpy as np\n",
    "import re"
   ]
  },
  {
   "cell_type": "code",
   "execution_count": 28,
   "id": "progressive-swimming",
   "metadata": {},
   "outputs": [],
   "source": [
    "df = 0"
   ]
  },
  {
   "cell_type": "code",
   "execution_count": 3,
   "id": "cross-rainbow",
   "metadata": {},
   "outputs": [
    {
     "data": {
      "text/html": [
       "<div>\n",
       "<style scoped>\n",
       "    .dataframe tbody tr th:only-of-type {\n",
       "        vertical-align: middle;\n",
       "    }\n",
       "\n",
       "    .dataframe tbody tr th {\n",
       "        vertical-align: top;\n",
       "    }\n",
       "\n",
       "    .dataframe thead th {\n",
       "        text-align: right;\n",
       "    }\n",
       "</style>\n",
       "<table border=\"1\" class=\"dataframe\">\n",
       "  <thead>\n",
       "    <tr style=\"text-align: right;\">\n",
       "      <th></th>\n",
       "      <th>date</th>\n",
       "      <th>year</th>\n",
       "      <th>month</th>\n",
       "      <th>day</th>\n",
       "      <th>pub</th>\n",
       "      <th>heading</th>\n",
       "      <th>full_text</th>\n",
       "      <th>href</th>\n",
       "      <th>text_len</th>\n",
       "      <th>readability</th>\n",
       "      <th>heading2</th>\n",
       "    </tr>\n",
       "  </thead>\n",
       "  <tbody>\n",
       "    <tr>\n",
       "      <th>0</th>\n",
       "      <td>1802-01-01</td>\n",
       "      <td>1802</td>\n",
       "      <td>1</td>\n",
       "      <td>1</td>\n",
       "      <td>Rigasche Zeitung</td>\n",
       "      <td>St. Petersburg, den 20. Decemb.</td>\n",
       "      <td>St. Petersburg, den 20. Decemb.\\n\\n\\tAuf Aller...</td>\n",
       "      <td>https://proc.dom.lndb.lv/file.axd?id=3377815&amp;a...</td>\n",
       "      <td>2067</td>\n",
       "      <td>1</td>\n",
       "      <td>St. Petersburg</td>\n",
       "    </tr>\n",
       "    <tr>\n",
       "      <th>1</th>\n",
       "      <td>1802-01-01</td>\n",
       "      <td>1802</td>\n",
       "      <td>1</td>\n",
       "      <td>1</td>\n",
       "      <td>Rigasche Zeitung</td>\n",
       "      <td>Paris, den 18ten December.</td>\n",
       "      <td>Paris, den 18ten December.\\n\\n\\tDer Oberconsu!...</td>\n",
       "      <td>https://proc.dom.lndb.lv/file.axd?id=3377818&amp;a...</td>\n",
       "      <td>3664</td>\n",
       "      <td>1</td>\n",
       "      <td>Paris</td>\n",
       "    </tr>\n",
       "    <tr>\n",
       "      <th>2</th>\n",
       "      <td>1802-01-01</td>\n",
       "      <td>1802</td>\n",
       "      <td>1</td>\n",
       "      <td>1</td>\n",
       "      <td>Rigasche Zeitung</td>\n",
       "      <td>Haag, den 22sten December.</td>\n",
       "      <td>Haag, den 22sten December.\\n\\n\\tIn kurzem erwa...</td>\n",
       "      <td>https://proc.dom.lndb.lv/file.axd?id=3377819&amp;a...</td>\n",
       "      <td>967</td>\n",
       "      <td>1</td>\n",
       "      <td>Haag</td>\n",
       "    </tr>\n",
       "    <tr>\n",
       "      <th>3</th>\n",
       "      <td>1802-01-01</td>\n",
       "      <td>1802</td>\n",
       "      <td>1</td>\n",
       "      <td>1</td>\n",
       "      <td>Rigasche Zeitung</td>\n",
       "      <td>Zürich, den 16ten December.</td>\n",
       "      <td>Zürich, den 16ten December.\\n\\n\\tDie durch die...</td>\n",
       "      <td>https://proc.dom.lndb.lv/file.axd?id=3377822&amp;a...</td>\n",
       "      <td>482</td>\n",
       "      <td>1</td>\n",
       "      <td>Zürich</td>\n",
       "    </tr>\n",
       "    <tr>\n",
       "      <th>4</th>\n",
       "      <td>1802-01-01</td>\n",
       "      <td>1802</td>\n",
       "      <td>1</td>\n",
       "      <td>1</td>\n",
       "      <td>Rigasche Zeitung</td>\n",
       "      <td>Wien, den 19ten December.</td>\n",
       "      <td>Wien, den 19ten December.\\n\\n\\tDie Malcheser-N...</td>\n",
       "      <td>https://proc.dom.lndb.lv/file.axd?id=3377823&amp;a...</td>\n",
       "      <td>1154</td>\n",
       "      <td>1</td>\n",
       "      <td>Wien</td>\n",
       "    </tr>\n",
       "  </tbody>\n",
       "</table>\n",
       "</div>"
      ],
      "text/plain": [
       "         date  year  month  day               pub  \\\n",
       "0  1802-01-01  1802      1    1  Rigasche Zeitung   \n",
       "1  1802-01-01  1802      1    1  Rigasche Zeitung   \n",
       "2  1802-01-01  1802      1    1  Rigasche Zeitung   \n",
       "3  1802-01-01  1802      1    1  Rigasche Zeitung   \n",
       "4  1802-01-01  1802      1    1  Rigasche Zeitung   \n",
       "\n",
       "                           heading  \\\n",
       "0  St. Petersburg, den 20. Decemb.   \n",
       "1       Paris, den 18ten December.   \n",
       "2       Haag, den 22sten December.   \n",
       "3      Zürich, den 16ten December.   \n",
       "4        Wien, den 19ten December.   \n",
       "\n",
       "                                           full_text  \\\n",
       "0  St. Petersburg, den 20. Decemb.\\n\\n\\tAuf Aller...   \n",
       "1  Paris, den 18ten December.\\n\\n\\tDer Oberconsu!...   \n",
       "2  Haag, den 22sten December.\\n\\n\\tIn kurzem erwa...   \n",
       "3  Zürich, den 16ten December.\\n\\n\\tDie durch die...   \n",
       "4  Wien, den 19ten December.\\n\\n\\tDie Malcheser-N...   \n",
       "\n",
       "                                                href  text_len  readability  \\\n",
       "0  https://proc.dom.lndb.lv/file.axd?id=3377815&a...      2067            1   \n",
       "1  https://proc.dom.lndb.lv/file.axd?id=3377818&a...      3664            1   \n",
       "2  https://proc.dom.lndb.lv/file.axd?id=3377819&a...       967            1   \n",
       "3  https://proc.dom.lndb.lv/file.axd?id=3377822&a...       482            1   \n",
       "4  https://proc.dom.lndb.lv/file.axd?id=3377823&a...      1154            1   \n",
       "\n",
       "         heading2  \n",
       "0  St. Petersburg  \n",
       "1           Paris  \n",
       "2            Haag  \n",
       "3          Zürich  \n",
       "4            Wien  "
      ]
     },
     "execution_count": 3,
     "metadata": {},
     "output_type": "execute_result"
    }
   ],
   "source": [
    "df.head()"
   ]
  },
  {
   "cell_type": "code",
   "execution_count": 36,
   "id": "formal-aberdeen",
   "metadata": {},
   "outputs": [],
   "source": [
    "precip = ['Regen',\n",
    "          'Regens',\n",
    "          'Regenfall',\n",
    "          'Niederschlag',\n",
    "          'Niederschlages',\n",
    "          'Guss',\n",
    "          'Regenschauer',\n",
    "          'Regenguss',\n",
    "          'Wolkenbruch',\n",
    "          'Regenguß',\n",
    "          'Schnee',\n",
    "          'Schneefall',\n",
    "          'Niederschlag',\n",
    "          'Schneebruch',\n",
    "          'Dürre',\n",
    "          'Dürres',\n",
    "          'Graupel',\n",
    "          'Hagel',\n",
    "          'Hagels',\n",
    "          'Hagelschlag',\n",
    "          'Gewitter',\n",
    "          'Gewitters',\n",
    "          'Tau',\n",
    "          'Thau',\n",
    "          'Tauwetter',\n",
    "          'Thauwetter',\n",
    "          'Nebel',\n",
    "          'Nebels']\n",
    "\n",
    "wind = ['Wind',\n",
    "        'Winde',\n",
    "        'Windes',\n",
    "        'Winden',\n",
    "        'Sturm',\n",
    "        'Stürme',\n",
    "        'Stürmen',\n",
    "        'Sturmes',\n",
    "        'Sturmwind',\n",
    "        'Tornado',\n",
    "        'Orkan',\n",
    "        'Wirbelwind',\n",
    "        'Wirbelsturm',\n",
    "        'Unwetter',\n",
    "        'Taifun',\n",
    "        'Südwind',\n",
    "        'Südwestwind',\n",
    "        'Westwind',\n",
    "        'Nordwestwind',\n",
    "        'Nordwind',\n",
    "        'Nordostwind',\n",
    "        'Ostwind',\n",
    "        'Südostwind',\n",
    "        'S. Wind',\n",
    "        'S.W. Wind',\n",
    "        'S. W. Wind',\n",
    "        'W. Wind',\n",
    "        'N.W. Wind',\n",
    "        'N. W. Wind',\n",
    "        'N. Wind',\n",
    "        'N.O. Wind',\n",
    "        'N. O. Wind',\n",
    "        'O. Wind',\n",
    "        'S.O. Wind',\n",
    "        'S. O. Wind']\n",
    "\n",
    "flood = ['Flut',\n",
    "         'Sutrmflut',\n",
    "         'Hochwasser',\n",
    "         'Hochflut',\n",
    "         'Überschwemmung',\n",
    "         'Überschweummungs',\n",
    "         'Überschwemmungen',\n",
    "         'Überflutung',\n",
    "         'Überflutungen']\n",
    "\n",
    "temperature = ['Kälte',\n",
    "               'Kältes',\n",
    "               'Wärme',\n",
    "               'Wärmes',\n",
    "               'Hitze',\n",
    "               'Hitzewelle',\n",
    "               'Kältewelle',\n",
    "               'Frost']\n",
    "\n",
    "general = ['Wetter',\n",
    "           'Wetters',\n",
    "           'Witterung',\n",
    "           'Witterungs',\n",
    "           'Klima',\n",
    "           'Klimas',\n",
    "           'Klimaereignis',\n",
    "           'Wetterereignis',\n",
    "           'Windstärke',\n",
    "           'Luftdruck']"
   ]
  },
  {
   "cell_type": "code",
   "execution_count": 37,
   "id": "attractive-techno",
   "metadata": {},
   "outputs": [],
   "source": [
    "weather_events = {'general': general,\n",
    "                  'temperature': temperature,\n",
    "                  'precipitations': precip,\n",
    "                  'wind': wind,\n",
    "                  'flood': flood}"
   ]
  },
  {
   "cell_type": "code",
   "execution_count": 127,
   "id": "heated-cedar",
   "metadata": {},
   "outputs": [],
   "source": [
    "# save the weather events for entity ruler\n",
    "\n",
    "with open('../pipeline/weather_events.json', 'w', encoding='utf8') as f:\n",
    "    json.dump(weather_events, f)"
   ]
  },
  {
   "cell_type": "code",
   "execution_count": 38,
   "id": "limited-module",
   "metadata": {},
   "outputs": [],
   "source": [
    "# create patterns for ruler (assign label by surface text)\n",
    "\n",
    "patterns = []\n",
    "\n",
    "for category in weather_events.values():\n",
    "    for phrase in category:\n",
    "        if ' ' in phrase:\n",
    "            patterns.append({\n",
    "                'label': 'WEA',\n",
    "                'pattern': [{'LOWER': piece} for piece in phrase.split(' ')]\n",
    "            })\n",
    "        else:\n",
    "            patterns.append({'label': 'WEA', 'pattern': phrase})"
   ]
  },
  {
   "cell_type": "code",
   "execution_count": 39,
   "id": "respiratory-nancy",
   "metadata": {
    "scrolled": true
   },
   "outputs": [
    {
     "data": {
      "text/plain": [
       "[{'label': 'WEA', 'pattern': 'Wetter'},\n",
       " {'label': 'WEA', 'pattern': 'Wetters'},\n",
       " {'label': 'WEA', 'pattern': 'Witterung'},\n",
       " {'label': 'WEA', 'pattern': 'Witterungs'},\n",
       " {'label': 'WEA', 'pattern': 'Klima'},\n",
       " {'label': 'WEA', 'pattern': 'Klimas'},\n",
       " {'label': 'WEA', 'pattern': 'Klimaereignis'},\n",
       " {'label': 'WEA', 'pattern': 'Wetterereignis'},\n",
       " {'label': 'WEA', 'pattern': 'Windstärke'},\n",
       " {'label': 'WEA', 'pattern': 'Luftdruck'},\n",
       " {'label': 'WEA', 'pattern': 'Kälte'},\n",
       " {'label': 'WEA', 'pattern': 'Kältes'},\n",
       " {'label': 'WEA', 'pattern': 'Wärme'},\n",
       " {'label': 'WEA', 'pattern': 'Wärmes'},\n",
       " {'label': 'WEA', 'pattern': 'Hitze'},\n",
       " {'label': 'WEA', 'pattern': 'Hitzewelle'},\n",
       " {'label': 'WEA', 'pattern': 'Kältewelle'},\n",
       " {'label': 'WEA', 'pattern': 'Frost'},\n",
       " {'label': 'WEA', 'pattern': 'Regen'},\n",
       " {'label': 'WEA', 'pattern': 'Regens'},\n",
       " {'label': 'WEA', 'pattern': 'Regenfall'},\n",
       " {'label': 'WEA', 'pattern': 'Niederschlag'},\n",
       " {'label': 'WEA', 'pattern': 'Niederschlages'},\n",
       " {'label': 'WEA', 'pattern': 'Guss'},\n",
       " {'label': 'WEA', 'pattern': 'Regenschauer'},\n",
       " {'label': 'WEA', 'pattern': 'Regenguss'},\n",
       " {'label': 'WEA', 'pattern': 'Wolkenbruch'},\n",
       " {'label': 'WEA', 'pattern': 'Regenguß'},\n",
       " {'label': 'WEA', 'pattern': 'Schnee'},\n",
       " {'label': 'WEA', 'pattern': 'Schneefall'},\n",
       " {'label': 'WEA', 'pattern': 'Niederschlag'},\n",
       " {'label': 'WEA', 'pattern': 'Schneebruch'},\n",
       " {'label': 'WEA', 'pattern': 'Dürre'},\n",
       " {'label': 'WEA', 'pattern': 'Dürres'},\n",
       " {'label': 'WEA', 'pattern': 'Graupel'},\n",
       " {'label': 'WEA', 'pattern': 'Hagel'},\n",
       " {'label': 'WEA', 'pattern': 'Hagels'},\n",
       " {'label': 'WEA', 'pattern': 'Hagelschlag'},\n",
       " {'label': 'WEA', 'pattern': 'Gewitter'},\n",
       " {'label': 'WEA', 'pattern': 'Gewitters'},\n",
       " {'label': 'WEA', 'pattern': 'Tau'},\n",
       " {'label': 'WEA', 'pattern': 'Thau'},\n",
       " {'label': 'WEA', 'pattern': 'Tauwetter'},\n",
       " {'label': 'WEA', 'pattern': 'Thauwetter'},\n",
       " {'label': 'WEA', 'pattern': 'Nebel'},\n",
       " {'label': 'WEA', 'pattern': 'Nebels'},\n",
       " {'label': 'WEA', 'pattern': 'Wind'},\n",
       " {'label': 'WEA', 'pattern': 'Winde'},\n",
       " {'label': 'WEA', 'pattern': 'Windes'},\n",
       " {'label': 'WEA', 'pattern': 'Winden'},\n",
       " {'label': 'WEA', 'pattern': 'Sturm'},\n",
       " {'label': 'WEA', 'pattern': 'Stürme'},\n",
       " {'label': 'WEA', 'pattern': 'Stürmen'},\n",
       " {'label': 'WEA', 'pattern': 'Sturmes'},\n",
       " {'label': 'WEA', 'pattern': 'Sturmwind'},\n",
       " {'label': 'WEA', 'pattern': 'Tornado'},\n",
       " {'label': 'WEA', 'pattern': 'Orkan'},\n",
       " {'label': 'WEA', 'pattern': 'Wirbelwind'},\n",
       " {'label': 'WEA', 'pattern': 'Wirbelsturm'},\n",
       " {'label': 'WEA', 'pattern': 'Unwetter'},\n",
       " {'label': 'WEA', 'pattern': 'Taifun'},\n",
       " {'label': 'WEA', 'pattern': 'Südwind'},\n",
       " {'label': 'WEA', 'pattern': 'Südwestwind'},\n",
       " {'label': 'WEA', 'pattern': 'Westwind'},\n",
       " {'label': 'WEA', 'pattern': 'Nordwestwind'},\n",
       " {'label': 'WEA', 'pattern': 'Nordwind'},\n",
       " {'label': 'WEA', 'pattern': 'Nordostwind'},\n",
       " {'label': 'WEA', 'pattern': 'Ostwind'},\n",
       " {'label': 'WEA', 'pattern': 'Südostwind'},\n",
       " {'label': 'WEA', 'pattern': [{'LOWER': 'S.'}, {'LOWER': 'Wind'}]},\n",
       " {'label': 'WEA', 'pattern': [{'LOWER': 'S.W.'}, {'LOWER': 'Wind'}]},\n",
       " {'label': 'WEA',\n",
       "  'pattern': [{'LOWER': 'S.'}, {'LOWER': 'W.'}, {'LOWER': 'Wind'}]},\n",
       " {'label': 'WEA', 'pattern': [{'LOWER': 'W.'}, {'LOWER': 'Wind'}]},\n",
       " {'label': 'WEA', 'pattern': [{'LOWER': 'N.W.'}, {'LOWER': 'Wind'}]},\n",
       " {'label': 'WEA',\n",
       "  'pattern': [{'LOWER': 'N.'}, {'LOWER': 'W.'}, {'LOWER': 'Wind'}]},\n",
       " {'label': 'WEA', 'pattern': [{'LOWER': 'N.'}, {'LOWER': 'Wind'}]},\n",
       " {'label': 'WEA', 'pattern': [{'LOWER': 'N.O.'}, {'LOWER': 'Wind'}]},\n",
       " {'label': 'WEA',\n",
       "  'pattern': [{'LOWER': 'N.'}, {'LOWER': 'O.'}, {'LOWER': 'Wind'}]},\n",
       " {'label': 'WEA', 'pattern': [{'LOWER': 'O.'}, {'LOWER': 'Wind'}]},\n",
       " {'label': 'WEA', 'pattern': [{'LOWER': 'S.O.'}, {'LOWER': 'Wind'}]},\n",
       " {'label': 'WEA',\n",
       "  'pattern': [{'LOWER': 'S.'}, {'LOWER': 'O.'}, {'LOWER': 'Wind'}]},\n",
       " {'label': 'WEA', 'pattern': 'Flut'},\n",
       " {'label': 'WEA', 'pattern': 'Sutrmflut'},\n",
       " {'label': 'WEA', 'pattern': 'Hochwasser'},\n",
       " {'label': 'WEA', 'pattern': 'Hochflut'},\n",
       " {'label': 'WEA', 'pattern': 'Überschwemmung'},\n",
       " {'label': 'WEA', 'pattern': 'Überschweummungs'},\n",
       " {'label': 'WEA', 'pattern': 'Überschwemmungen'},\n",
       " {'label': 'WEA', 'pattern': 'Überflutung'},\n",
       " {'label': 'WEA', 'pattern': 'Überflutungen'}]"
      ]
     },
     "execution_count": 39,
     "metadata": {},
     "output_type": "execute_result"
    }
   ],
   "source": [
    "patterns"
   ]
  },
  {
   "cell_type": "code",
   "execution_count": 48,
   "id": "engaging-equality",
   "metadata": {},
   "outputs": [],
   "source": [
    "nlp = spacy.load('de_core_news_md')\n",
    "nlp.disable_pipe('ner')\n",
    "nlp.add_pipe('entity_ruler')\n",
    "ruler = nlp.get_pipe('entity_ruler')\n",
    "ruler.add_patterns(patterns)\n",
    "ruler.to_disk('../data/models/entity_ruler_121021')"
   ]
  },
  {
   "cell_type": "markdown",
   "id": "f81e1d7f",
   "metadata": {},
   "source": [
    "## First annotation batch"
   ]
  },
  {
   "cell_type": "code",
   "execution_count": 17,
   "id": "coated-reggae",
   "metadata": {},
   "outputs": [],
   "source": [
    "with open('../pipeline/weather_events.json', 'r', encoding='utf8') as f:\n",
    "    dico = json.load(f)"
   ]
  },
  {
   "cell_type": "code",
   "execution_count": 53,
   "id": "sporting-rainbow",
   "metadata": {},
   "outputs": [],
   "source": [
    "# get df\n",
    "\n",
    "df = climdist.data.load('main', readability=True, heading2=False)"
   ]
  },
  {
   "cell_type": "code",
   "execution_count": 51,
   "id": "united-consequence",
   "metadata": {},
   "outputs": [],
   "source": [
    "def choose_annotation_data(df, n=100, max_len=5000):\n",
    "    \n",
    "    results = []\n",
    "    \n",
    "    while len(results) < n:\n",
    "        \n",
    "        sample = df[(df.readability==True) & (df.text_len < max_len)].sample(n)\n",
    "        \n",
    "        for i in tqdm(sample.index):\n",
    "            doc = nlp(df.loc[i, 'full_text'])\n",
    "            if len(doc.ents) > 0:\n",
    "                results.append(i)\n",
    "                \n",
    "        for i in results:\n",
    "            if results.count(i) > 1:\n",
    "                results.pop(i)\n",
    "                \n",
    "        print(f'{len(results)} results so far')\n",
    "                \n",
    "    results = results[:n+1]\n",
    "                \n",
    "    print('Finished')\n",
    "    \n",
    "    return results"
   ]
  },
  {
   "cell_type": "code",
   "execution_count": 118,
   "id": "known-musician",
   "metadata": {},
   "outputs": [
    {
     "name": "stderr",
     "output_type": "stream",
     "text": [
      "100%|████████████████████████████████████████████████████████████████████████████████| 100/100 [00:07<00:00, 13.61it/s]\n",
      "  0%|                                                                                          | 0/100 [00:00<?, ?it/s]"
     ]
    },
    {
     "name": "stdout",
     "output_type": "stream",
     "text": [
      "7 results so far\n"
     ]
    },
    {
     "name": "stderr",
     "output_type": "stream",
     "text": [
      "100%|████████████████████████████████████████████████████████████████████████████████| 100/100 [00:07<00:00, 14.04it/s]\n",
      "  2%|█▋                                                                                | 2/100 [00:00<00:05, 18.89it/s]"
     ]
    },
    {
     "name": "stdout",
     "output_type": "stream",
     "text": [
      "11 results so far\n"
     ]
    },
    {
     "name": "stderr",
     "output_type": "stream",
     "text": [
      "100%|████████████████████████████████████████████████████████████████████████████████| 100/100 [00:06<00:00, 15.25it/s]\n",
      "  3%|██▍                                                                               | 3/100 [00:00<00:03, 29.69it/s]"
     ]
    },
    {
     "name": "stdout",
     "output_type": "stream",
     "text": [
      "15 results so far\n"
     ]
    },
    {
     "name": "stderr",
     "output_type": "stream",
     "text": [
      "100%|████████████████████████████████████████████████████████████████████████████████| 100/100 [00:07<00:00, 13.75it/s]\n",
      "  1%|▊                                                                                 | 1/100 [00:00<00:10,  9.71it/s]"
     ]
    },
    {
     "name": "stdout",
     "output_type": "stream",
     "text": [
      "19 results so far\n"
     ]
    },
    {
     "name": "stderr",
     "output_type": "stream",
     "text": [
      "100%|████████████████████████████████████████████████████████████████████████████████| 100/100 [00:06<00:00, 14.94it/s]\n",
      "  0%|                                                                                          | 0/100 [00:00<?, ?it/s]"
     ]
    },
    {
     "name": "stdout",
     "output_type": "stream",
     "text": [
      "26 results so far\n"
     ]
    },
    {
     "name": "stderr",
     "output_type": "stream",
     "text": [
      "100%|████████████████████████████████████████████████████████████████████████████████| 100/100 [00:06<00:00, 14.40it/s]\n",
      "  0%|                                                                                          | 0/100 [00:00<?, ?it/s]"
     ]
    },
    {
     "name": "stdout",
     "output_type": "stream",
     "text": [
      "35 results so far\n"
     ]
    },
    {
     "name": "stderr",
     "output_type": "stream",
     "text": [
      "100%|████████████████████████████████████████████████████████████████████████████████| 100/100 [00:07<00:00, 13.43it/s]\n",
      "  0%|                                                                                          | 0/100 [00:00<?, ?it/s]"
     ]
    },
    {
     "name": "stdout",
     "output_type": "stream",
     "text": [
      "48 results so far\n"
     ]
    },
    {
     "name": "stderr",
     "output_type": "stream",
     "text": [
      "100%|████████████████████████████████████████████████████████████████████████████████| 100/100 [00:07<00:00, 13.96it/s]\n",
      "  2%|█▋                                                                                | 2/100 [00:00<00:05, 18.35it/s]"
     ]
    },
    {
     "name": "stdout",
     "output_type": "stream",
     "text": [
      "58 results so far\n"
     ]
    },
    {
     "name": "stderr",
     "output_type": "stream",
     "text": [
      "100%|████████████████████████████████████████████████████████████████████████████████| 100/100 [00:06<00:00, 14.49it/s]\n",
      "  0%|                                                                                          | 0/100 [00:00<?, ?it/s]"
     ]
    },
    {
     "name": "stdout",
     "output_type": "stream",
     "text": [
      "66 results so far\n"
     ]
    },
    {
     "name": "stderr",
     "output_type": "stream",
     "text": [
      "100%|████████████████████████████████████████████████████████████████████████████████| 100/100 [00:06<00:00, 14.32it/s]\n",
      "  0%|                                                                                          | 0/100 [00:00<?, ?it/s]"
     ]
    },
    {
     "name": "stdout",
     "output_type": "stream",
     "text": [
      "71 results so far\n"
     ]
    },
    {
     "name": "stderr",
     "output_type": "stream",
     "text": [
      "100%|████████████████████████████████████████████████████████████████████████████████| 100/100 [00:06<00:00, 15.27it/s]\n",
      "  0%|                                                                                          | 0/100 [00:00<?, ?it/s]"
     ]
    },
    {
     "name": "stdout",
     "output_type": "stream",
     "text": [
      "77 results so far\n"
     ]
    },
    {
     "name": "stderr",
     "output_type": "stream",
     "text": [
      "100%|████████████████████████████████████████████████████████████████████████████████| 100/100 [00:06<00:00, 14.82it/s]\n",
      "  0%|                                                                                          | 0/100 [00:00<?, ?it/s]"
     ]
    },
    {
     "name": "stdout",
     "output_type": "stream",
     "text": [
      "86 results so far\n"
     ]
    },
    {
     "name": "stderr",
     "output_type": "stream",
     "text": [
      "100%|████████████████████████████████████████████████████████████████████████████████| 100/100 [00:05<00:00, 17.67it/s]\n",
      "  0%|                                                                                          | 0/100 [00:00<?, ?it/s]"
     ]
    },
    {
     "name": "stdout",
     "output_type": "stream",
     "text": [
      "92 results so far\n"
     ]
    },
    {
     "name": "stderr",
     "output_type": "stream",
     "text": [
      "100%|████████████████████████████████████████████████████████████████████████████████| 100/100 [00:07<00:00, 13.25it/s]\n",
      "  0%|                                                                                          | 0/100 [00:00<?, ?it/s]"
     ]
    },
    {
     "name": "stdout",
     "output_type": "stream",
     "text": [
      "99 results so far\n"
     ]
    },
    {
     "name": "stderr",
     "output_type": "stream",
     "text": [
      "100%|████████████████████████████████████████████████████████████████████████████████| 100/100 [00:06<00:00, 15.64it/s]"
     ]
    },
    {
     "name": "stdout",
     "output_type": "stream",
     "text": [
      "106 results so far\n",
      "Finished\n"
     ]
    },
    {
     "name": "stderr",
     "output_type": "stream",
     "text": [
      "\n"
     ]
    }
   ],
   "source": [
    "choose_annotation_data(df)"
   ]
  },
  {
   "cell_type": "code",
   "execution_count": 71,
   "id": "behind-maine",
   "metadata": {},
   "outputs": [],
   "source": [
    "import json\n",
    "\n",
    "with open('../pipeline/ner/annotation_batch_index_121021.json') as f:\n",
    "    ix = json.load(f)"
   ]
  },
  {
   "cell_type": "code",
   "execution_count": 72,
   "id": "specific-camcorder",
   "metadata": {},
   "outputs": [],
   "source": [
    "# select the texts corepsonding to indices\n",
    "annotation_selection = df.iloc[ix]"
   ]
  },
  {
   "cell_type": "code",
   "execution_count": 73,
   "id": "minor-liverpool",
   "metadata": {},
   "outputs": [
    {
     "name": "stderr",
     "output_type": "stream",
     "text": [
      "c:\\users\\krister\\climdist\\v_env\\lib\\site-packages\\spacy\\util.py:758: UserWarning: [W095] Model 'de_core_news_md' (3.0.0) was trained with spaCy v3.0 and may not be 100% compatible with the current version (3.1.3). If you see errors or degraded performance, download a newer compatible model or retrain your custom model with the current spaCy version. For more details and available updates, run: python -m spacy validate\n",
      "  warnings.warn(warn_msg)\n"
     ]
    }
   ],
   "source": [
    "# grab the old model to assign entities as best as possible before starting annotation\n",
    "import spacy\n",
    "nlp = spacy.load('../data/archive/models/spacy_model_250421/')"
   ]
  },
  {
   "cell_type": "code",
   "execution_count": 74,
   "id": "binding-actor",
   "metadata": {},
   "outputs": [
    {
     "name": "stdout",
     "output_type": "stream",
     "text": [
      "File created!\n"
     ]
    }
   ],
   "source": [
    "# convert to doccano format\n",
    "dt = Transformer()\n",
    "dt.pandas_to_doccano(annotation_selection, nlp, '../pipeline/ner/annotation_batch_131021.jsonl')"
   ]
  },
  {
   "cell_type": "markdown",
   "id": "5d97833d",
   "metadata": {},
   "source": [
    "## Second annotation batch"
   ]
  },
  {
   "cell_type": "code",
   "execution_count": 54,
   "id": "5becad49",
   "metadata": {},
   "outputs": [
    {
     "name": "stderr",
     "output_type": "stream",
     "text": [
      "100%|████████████████████████████████████████████████████████████████████████████████| 100/100 [00:05<00:00, 16.91it/s]\n"
     ]
    },
    {
     "name": "stdout",
     "output_type": "stream",
     "text": [
      "5 results so far\n"
     ]
    },
    {
     "name": "stderr",
     "output_type": "stream",
     "text": [
      "100%|████████████████████████████████████████████████████████████████████████████████| 100/100 [00:07<00:00, 13.41it/s]\n"
     ]
    },
    {
     "name": "stdout",
     "output_type": "stream",
     "text": [
      "17 results so far\n"
     ]
    },
    {
     "name": "stderr",
     "output_type": "stream",
     "text": [
      "100%|████████████████████████████████████████████████████████████████████████████████| 100/100 [00:06<00:00, 15.61it/s]\n"
     ]
    },
    {
     "name": "stdout",
     "output_type": "stream",
     "text": [
      "25 results so far\n"
     ]
    },
    {
     "name": "stderr",
     "output_type": "stream",
     "text": [
      "100%|████████████████████████████████████████████████████████████████████████████████| 100/100 [00:06<00:00, 14.39it/s]\n"
     ]
    },
    {
     "name": "stdout",
     "output_type": "stream",
     "text": [
      "38 results so far\n"
     ]
    },
    {
     "name": "stderr",
     "output_type": "stream",
     "text": [
      "100%|████████████████████████████████████████████████████████████████████████████████| 100/100 [00:06<00:00, 14.86it/s]\n"
     ]
    },
    {
     "name": "stdout",
     "output_type": "stream",
     "text": [
      "48 results so far\n"
     ]
    },
    {
     "name": "stderr",
     "output_type": "stream",
     "text": [
      "100%|████████████████████████████████████████████████████████████████████████████████| 100/100 [00:05<00:00, 17.32it/s]\n"
     ]
    },
    {
     "name": "stdout",
     "output_type": "stream",
     "text": [
      "61 results so far\n"
     ]
    },
    {
     "name": "stderr",
     "output_type": "stream",
     "text": [
      "100%|████████████████████████████████████████████████████████████████████████████████| 100/100 [00:05<00:00, 18.73it/s]\n"
     ]
    },
    {
     "name": "stdout",
     "output_type": "stream",
     "text": [
      "72 results so far\n"
     ]
    },
    {
     "name": "stderr",
     "output_type": "stream",
     "text": [
      "100%|████████████████████████████████████████████████████████████████████████████████| 100/100 [00:06<00:00, 15.02it/s]\n"
     ]
    },
    {
     "name": "stdout",
     "output_type": "stream",
     "text": [
      "85 results so far\n"
     ]
    },
    {
     "name": "stderr",
     "output_type": "stream",
     "text": [
      "100%|████████████████████████████████████████████████████████████████████████████████| 100/100 [00:06<00:00, 15.47it/s]\n"
     ]
    },
    {
     "name": "stdout",
     "output_type": "stream",
     "text": [
      "97 results so far\n"
     ]
    },
    {
     "name": "stderr",
     "output_type": "stream",
     "text": [
      "100%|████████████████████████████████████████████████████████████████████████████████| 100/100 [00:05<00:00, 16.82it/s]"
     ]
    },
    {
     "name": "stdout",
     "output_type": "stream",
     "text": [
      "108 results so far\n",
      "Finished\n"
     ]
    },
    {
     "name": "stderr",
     "output_type": "stream",
     "text": [
      "\n"
     ]
    }
   ],
   "source": [
    "### create second annotation batch (13.11.21)\n",
    "\n",
    "new_batch_index = choose_annotation_data(df)"
   ]
  },
  {
   "cell_type": "code",
   "execution_count": 58,
   "id": "9552f7d9",
   "metadata": {},
   "outputs": [],
   "source": [
    "# load the old index to check against duplicate entries\n",
    "with open('../pipeline/ner/annotation_batch_index_121021.json', 'r', encoding='utf8') as f:\n",
    "    old_index = json.load(f)\n",
    "    \n",
    "for ix in new_batch_index:\n",
    "    if ix in old_index:\n",
    "        print(ix)"
   ]
  },
  {
   "cell_type": "code",
   "execution_count": 60,
   "id": "32de623e",
   "metadata": {},
   "outputs": [],
   "source": [
    "# save the new index\n",
    "with open('../pipeline/ner/annotation_batch_index_131121.json', 'w', encoding='utf8') as f:\n",
    "    json.dump(new_batch_index, f)"
   ]
  },
  {
   "cell_type": "code",
   "execution_count": 75,
   "id": "823ec370",
   "metadata": {},
   "outputs": [],
   "source": [
    "# create the new selection with the index\n",
    "new_annotation_selection = df.iloc[new_batch_index]"
   ]
  },
  {
   "cell_type": "code",
   "execution_count": 76,
   "id": "6e8d4b66",
   "metadata": {},
   "outputs": [],
   "source": [
    "# now grab the old model trained after the previous batch\n",
    "nlp = spacy.load('../data/models/main_2/model-best/')"
   ]
  },
  {
   "cell_type": "code",
   "execution_count": 77,
   "id": "c5740ea6",
   "metadata": {},
   "outputs": [
    {
     "name": "stdout",
     "output_type": "stream",
     "text": [
      "File created!\n"
     ]
    }
   ],
   "source": [
    "# convert to doccano format\n",
    "dt = Transformer()\n",
    "dt.pandas_to_doccano(new_annotation_selection, nlp, '../pipeline/ner/annotation_batch_131121.jsonl')"
   ]
  },
  {
   "cell_type": "markdown",
   "id": "eb85b854",
   "metadata": {},
   "source": [
    "## Prepare annotated data for training"
   ]
  },
  {
   "cell_type": "code",
   "execution_count": 135,
   "id": "roman-taylor",
   "metadata": {},
   "outputs": [],
   "source": [
    "annotated_data = []\n",
    "\n",
    "with open('../pipeline/ner/annotated_data_151121.jsonl', 'r', encoding='utf8') as f:\n",
    "    for line in list(f):\n",
    "        annotated_data.append(json.loads(line))"
   ]
  },
  {
   "cell_type": "code",
   "execution_count": 136,
   "id": "endless-bradford",
   "metadata": {},
   "outputs": [
    {
     "name": "stdout",
     "output_type": "stream",
     "text": [
      "Konstantinopel\n",
      "Tschatirdagh.\n",
      "Specify the label for this type of entity: LOC\n",
      "\n",
      "\n",
      "Allah Burgen\n",
      "Specify the label for this type of entity: PER\n",
      "\n",
      "\n",
      "Sturm\n",
      "Schnee\n",
      "Donner\n",
      "Specify the label for this type of entity: WEA\n",
      "\n",
      "\n",
      "И- August\n",
      "vom\n",
      "30. August\n",
      "vom 31. Juli\n",
      "Specify the label for this type of entity: DAT\n",
      "\n",
      "\n",
      "{24: 'LOC', 28: 'PER', 29: 'WEA', 23: 'DAT'}\n",
      "Doccano data imported\n"
     ]
    }
   ],
   "source": [
    "dt = Transformer()\n",
    "TRAIN_DATA = dt.doccano_to_spacy('../pipeline/ner/annotated_data_151121.jsonl')"
   ]
  },
  {
   "cell_type": "code",
   "execution_count": 131,
   "id": "4e6c1ba9",
   "metadata": {},
   "outputs": [
    {
     "data": {
      "text/plain": [
       "True"
      ]
     },
     "execution_count": 131,
     "metadata": {},
     "output_type": "execute_result"
    }
   ],
   "source": [
    "' ' in endchars"
   ]
  },
  {
   "cell_type": "code",
   "execution_count": 139,
   "id": "a9796b18",
   "metadata": {},
   "outputs": [],
   "source": [
    "# from: https://stackoverflow.com/questions/69646446/remove-whitespace-from-spacy-doc-ents\n",
    "\n",
    "def trim_entity_spans(data: list) -> list:\n",
    "    \"\"\"Removes leading and trailing white spaces from entity spans.\n",
    "\n",
    "    Args:\n",
    "        data (list): The data to be cleaned in spaCy JSON format.\n",
    "\n",
    "    Returns:\n",
    "        list: The cleaned data.\n",
    "    \"\"\"\n",
    "    invalid_span_tokens = re.compile(r'\\s')\n",
    "\n",
    "    cleaned_data = []\n",
    "    for text, annotations in data:\n",
    "        entities = annotations['entities']\n",
    "        valid_entities = []\n",
    "        for start, end, label in entities:\n",
    "            valid_start = start\n",
    "            valid_end = end\n",
    "            while valid_start < len(text) and invalid_span_tokens.match(\n",
    "                    text[valid_start]):\n",
    "                valid_start += 1\n",
    "            while valid_end > 1 and invalid_span_tokens.match(\n",
    "                    text[valid_end - 1]):\n",
    "                valid_end -= 1\n",
    "            valid_entities.append([valid_start, valid_end, label])\n",
    "        cleaned_data.append([text, {'entities': valid_entities}])\n",
    "\n",
    "    return cleaned_data"
   ]
  },
  {
   "cell_type": "code",
   "execution_count": 140,
   "id": "673cb7ea",
   "metadata": {},
   "outputs": [],
   "source": [
    "TRAIN_DATA_TRIMMED = trim_entity_spans(TRAIN_DATA)"
   ]
  },
  {
   "cell_type": "code",
   "execution_count": 141,
   "id": "9d2ca3a9",
   "metadata": {},
   "outputs": [
    {
     "name": "stdout",
     "output_type": "stream",
     "text": [
      "M a dri d\n",
      "Spanien und Portugal.\n",
      "\n",
      "Paris, 7. März- In einem Schreiben auS\n",
      "Barcelona wird der durch den fürchterlichen\n",
      "Sturm in der Nacht vom 9. Febr. im Hafen\n",
      "angerichtete Schade auf 2,500,000 Fr. berech.\n",
      "nct; wiewohl es sich bestätigt, daß kein Mensch\n",
      "ums Leben gekommeü »st.\n",
      "M a dri d, 27. Febr. Es heißt, mehr aIS\n",
      "3000 der portugieflschen Ueberläuser seyen aber»\n",
      "mals, nicht ohne in Spanien dazu Unterstüz»\n",
      "jung gefunden zu haben, nach Tras, of- inov«\n",
      "tes zurück, um sich dort mit der Bande unter\n",
      "einem Obersten zu vereinigen und\n",
      "dieses habe eine heftige Streitigkeit zwischen\n",
      "dem Marq. Angeja und dem General-Kapi»\n",
      "tain Eguia zur Folge gehabt. Die Zahl der\n",
      "entwaffneten Ueberläufer komme dagegen gar\n",
      "nicht in Betracht. (Börsen.Halle.)\n",
      "M a d r i d\n",
      "Telegramme.\n",
      "\n",
      "\tBerlin, 17. (5.) Juli. (Origivaltelegramm der  Der deutsche veröffentlicht das Reichsmünzgesetz. — Die Ernennuna Balan's zum StaatSsecretair wird jetzt bestätigt. — Die Regierung soll eine Steuer auf den Gatconsum in Vorschlag bringen wollen.\n",
      "In der gestrigen Sitzung der Versailler Nationalversammtung betonte der Kriegsminister die friedliche Politik der Regierung.\n",
      "Z« M a d r i d ist Kriegsbereitschaft beschlossen worden. Die Ministerkrists dauert fort; em Cabinet Salmeron wird erwartet. Die Carlisten haben Berga eingenommen.\n",
      "Zm Ha a g ist die Fortsetzung des Krieges gegen die Atschinesen beschlossen worden.\n",
      "DomesneeS, 4. Juli. 8 Uhr Morgen«. Starker Südostwind, Barometer am 3. Juli. 8 Uhr Abends, 29—23. am 4. Zuli, 8 Uhr Morgens, 29—23. Thermometer 13 Grad Warme; bewölkter Himmel.\n",
      "Petersburg, 4. Zuli. (Telegramm des Physika, lischen CentralobservatoriumS an die meteorologische Station deS Naturforschervereins zu Riga.) Em ba« rometrischeS Minimum nähert sich in Begleitung von stürmischem Wetter den Ufern deS Baltischen MeereS, wo heftiger West- und Eüdwestwind herrscht. In den baltischen GouvernenrentS regnet eS. Ein zweites Minimum des LmtdruckeS äußert sich über dem Schwarzen Meere. Im Kaukasus ist wahrscheinlich Gewitter und Regen. Im östlichen Rußland klärt sich die Witterung bei herrschendem Westwinde auf.\n",
      "\n",
      "\tBarometer Tbermornetrr um 7 Uhr Morgen«.\n",
      "Archangel — Mill. — Grad C,\n",
      "Uleaborg 756 . -f 18\n",
      "Kuopio .. 749 „ +20\n",
      "Petersburg 757 . +20\n",
      "Reval 751 . +22 .\n",
      "Dorpat ...... 749 . +20\n",
      "Wilna 746 . +20\n",
      "Kiew 743 . +23 .\n",
      "Moskau 747 „ +19\n",
      "Charkow 745 . +26 .\n",
      "Kasan ' 745 „ +17\n",
      "Orenburg 749 „ +14\n",
      "(Riga) 755 „ +15 .\n",
      "Petersburg, 4. Juli. (Rig. T.-A.) 1. sproc. ruff. Prämienanleihe 156'/, Br.. 156 G., — gem.; 2. sproc. ruff. Prämienanleihe 157'/, Br., 157 G..\n",
      "— gem.; Actlen der StigaerCommerzbank 140'/, Br., 139 G.. —gem.; Actien der Riga-Dünaburger Bahn 135 Br.. 134'/, G. — gem.; Actien der Dünaburg-WitebSker Bahn 134 Br.. 133 S., — gem.; Acrien der RybinSk-Balogower Bahn 62'/, Br., 62 G., 62'/, gem.; Actien der Warschau-TereSp. Bahn 114'/« Br., 114«.; Actien der großen ruff. Bahn 142 Br., 141'/4 Actien der Balt. Bahn 80 Br.. 79'/, G; Actien der Warsch.-Wicner Bahn\n",
      "— Br.. 93% G.: sproc. Inscript. 5. Anleihe — B?.. — gem.; sproc. BankbilletS U Emiff. 96'/, Br., 96/4 G.; Actien der Revaler Handelsbank 120 Br.. 117 G.: RybinSk-Balogower Eiseubahnobligationen 2. Emission 83'/« Br.. 82V, G.\n",
      "Berlin, 16. (4.) Juli. lßig. T.-A.) 3W. auf Petersburg 88%; 3 M. auf Petersburg 88'/.; 8 T. auf Warschau lpro 90 Rbl.) 80'/.: russ. CreditbilletS (pro 90 Rbl.) 80%; 1. sproc. ruff. Prämienanl. 129'/,: 2. sproc. russisch. Prämienanleihe 130»/,: sproc. Inscriptioru:n 5. Anleihe 78; Actien der großen ruff. Bahn 94/4; Actien der Baltischporter Bahn 52%; Actien der Warschau-Wiener Bahn 82'/,: spr. RvbinSk-Balogower Oblig. 1. Emission 76»/,: sproc. RybinSk-Balogower Oblig. 2. ljmisfion—; Obligationen der Warschau-TereSpoler Bahn 92; sproc. Baltischporter Eisenbahnobligationen 86: sproc. rumän. Eisenbahnactien 40'/,; 1872 er französische sproc. Anleihe 89; österr. Creditactien 184'/,: oVcrschl. Cisenbahnbedarfactien 116'/,; Lombarden N2'/,: Franzosen 203.\n",
      "— Tendenz: Anfangs flau, Schluß fest.\n",
      "N e w y o r k\n",
      "Telegramme.\n",
      "\n",
      "\tBerlin, 22. (10.) September. (Originaltelegramm der .Rig. Zta/) (sine kaiserliche Ordre enthält die Anerkennung Reintens' als katholischen Bischof.\n",
      "General Manteuffel ist zum Generalfeldmarschall ernannt.\n",
      "Heute treffen Fürst Bismarck nnd am Nachmittag Victor Emanuel hier ein. Hu seinem Empfange werden massenhafte Kuiidaebungen als zugleich zu dem Jahrestage der Besetzung\n",
      "Roms erwartet.\n",
      "Egyp tische Truppen haben Berber« (am Meerbusen von Aden) besetzt.\n",
      "Zn Newyork mehren sich die Fallissements. Die Regierung trifft Maßregeln zur Abhilfe. Die Panik an den Börsen dauert fort.\n",
      "N e w y o r k, 20. (8.) September. (Rig. T A.) Die Bestürmung der Banken dauert fort; die Aufregung ist noch immer sehr groß; weitere\n",
      "\n",
      "\tBanken haben ihre Zahlungen tingestellt. Das Clearinghouse ist ausier Stande, die Mitgliedsonds zu ordnen, und hat die eigenen Checks und Anweisungen zurückgeschickt.\n",
      "Domcsnees, 9. Septbr. 8 Uhr Morg. Mäßiger Südwind. Barometer am 8. Septbr.. 8 Uhr Abends. 29—15, am 9 Septbr.. 8 Uhr Morgens. 29—44, Thermometer 7 Grad Wärme; bewölkter' Himmel.\n",
      "Petersburg, 8. Septbr. (Telegramm deS Physikatischen CentralobservatoriumS an tie meteorologische Station des RaturforschervereinS zu Riga.) DaS Barometer ist im nordwestlichen Europa um 8 bis 14 Millimeter gestiegen. Ein unbedeutendes Minimum des Luftdruckes befindet sich auf dem Baltische» Meere. In Schweden weht Nordwest- und Nordwind, in den ballischen Gouvernements schwacher Südwind. Im Süden Rußlands befindet fich ein anderes barometrisches Minimum, begleitet von schlechtem Wetter. An den nördlichen Ufern deS Schwarzen Meeres herrscht ziemlich heftiger kalter Nordwestwind. Im Osten ist der Luftdruck ein hoher uud die Witterung sehr kalt. Gestern siel im Umkreise deS Ural Schnee.\n",
      "Barometer Thermometer um 7 Uhr Morgen«.\n",
      "Archangel 756 Mill. + 8 Grad E.\n",
      "Uleaborg 753 . +8\n",
      "Petersburg 755 . + 11\n",
      "Windau 752 . + 7 .\n",
      "Wilna 742 (?)„ -f 6 .\n",
      "Warschau 750 . +9\n",
      "Kiew 740 . +7\n",
      "Odessa 756 . + 11\n",
      "Moskau 747 . +6\n",
      "Kasan 766 . — 1\n",
      "lekaterinenbnrg 748 . — 1\n",
      "ißiga) 753 . +4\n",
      "Petersburg, 7. Septbr. (Rig. T.-A.) 1. sproc. russ. Prämienanl. 158 Br.. 1571 G.. — gem.; 2. sproc. russ. Prämienanleihe 156 Br.. 154'/, G.,\n",
      "— gem.; Actlen der Rig. Commerzdank — Br..\n",
      "— G.. — gem.; Actien der Riga-Dünaburger Bahn 138 Br.. 137/2 G.. —gem.; Actien der Dünaburg-WitebSker Bahn 134% Br.. 134 G.. — gem.: Actien der RybinSk-Balogower Bahn 56% Br., 56 G., — gem.; Actien der Warschau-TereSpoler Bahn 114 Br.. 113 G.: Actien der großen russ. Bahn 141% Br.. 141% Actien der Balt. Bahn 79 Vi Br., 78% G.: Actien der Warfchau-Wiener Bahn\n",
      "— Dr.. — G.i sproc. luscript. 5. Anleihe — Br. — G.; sproc. BankbilletS l. Ern. 96% Br., 96 G; Actien der Revaler Handelsbank 116 Br..\n",
      "— G.: RybinSk. Balogower Eisenbahnobligationen 2. Emission — Br., — G.; LoSkausscheine -— Br.. 95% G.\n",
      "Berlin, 30. (8.) September. (Rig. T.-A.) 3 M. aus Loudon 6. 20%; 2 M. auf Hamburg —; 10 T. aus PanS 79%; 2 M. auf belgische Plätze 79; 2 M. auf Amsterdam 139%; 8 T. auf Wien 89.\n",
      "Berlin, 20. (8.) September. lßig. T.-A.) 3 W. aus Petersburg 90%; 3 M. auf Petersburg 89%; 8 T. (auf Warschau (pro 90 Rbl.) 81%; russ. CreditbilletS spro 90 Rbl.) 81V«: 1. sproc. russ. Prämienanleihe 132%; 2. sproc. russische Prämienanleihe 130%; spr.\n",
      "\n",
      "\tJnscriptioncn 5. Anleihe 80/2; Actien der großen russ. Bahn 9G1/*; Actien der Baltischporter Bahn 53'/«! Aclien der Warschau-Wiener Bahn 82'/z;spr. Rybinsk-Balogower Oblig. 1. Emission 78; sproc. Rybinsk-Balogower Oblig. 2. Emission 74 '/2; Obligationen der Warschau-TereSpoler Bahn 92%; öproc. Baltischporter Eisenbahnoblig. 89; sproc. ungarant. Koslow-Woron. EisenbahnobligationenBs'/4: sproc Orel-Gräsier Eisenbahnobligationen &amp;5 '/4 i Sproc. rumän. Eisenbabnactien\n",
      "  französische sproc. Auleibe 90^4: öfterr.\n",
      "üreditactien 135: oberschl. Eisenbahnbedarsactien 119 '/2; Lombarden 1013/* i Franzosen 20 РД. — Tendenz: flau.\n",
      "m 2. Januar\n",
      "Telegraphische Witterungsberichte.\n",
      "\n",
      "\tDomeSneeS, 2. Januar, S Uhr Äorg. Mäßiger Südostwind.' Barometer am I. Januar, 8 Uhr Abend«,\n",
      "m 2. Januar, 8 Uhr Morgen», 29—16, Zher« molneter 12 Ära» Kälte, HeitererHjmmtZ»\n",
      "Tie Passage ist t-tal gesperrt.\n",
      "t  2l. November\n",
      "Börsen- und Handels-Nachrichten.\n",
      "\n",
      "\tBslderaa, 5. December,  Heute sieht J man sowohl daS Fahrwasser der Düna', wie auch die Mündung derselben bIS über das Seegatt hinaus mit bün- '\n",
      "\n",
      "\tlt I mm scharfem Treibeise bedeckt, welches sich während der\n",
      "Nacht bei der eingetretenen Kälte von 13 Grad gebildet hat; it die von gestern noch zurückgebliebenen Schiffe machen sich d alle unter Segel und beeilen sich nunmehr, die hohe See t zu gewinnen. Der Horizont ist dicht mit Wasserdünste»\n",
      "&gt; angefüllt, die nur einen kleinen Gesichtskreis gewähren; t es ist anzunehmen, daß bei der seit .-.'stern andauernd« – Windstille sich auch in der See schon etwas Treibeis gebildet ' bat. Ein Schiff ist im Ansegeln, wahrscheinlich der hiesige t Schoner „Carl\", Capt. Hagenberg, t  2l. November. Den .Riq. Sta-tblättern-1 entnehmen rrir: Man vermuthet, daß vor l ingerer tyit ein ' aroßcs Dampfschiff oberhalb Filsand, .TcufelSgrund- gei nannt, bei einem sehr nebligen Tage auf Grund gerathen\n",
      "und mit Mann und Maus untergegangen ist. Einige an&gt; geschwemmte Effecten und Planken, die nächsten? besichtigt werden sollen, haben zn dieser Vermuthung Anlaß gegeben, sowie auch der Umstand, daß man s. Z. ein großes Dampfschiff „anßer Cours\" in der Nähe dieier Gegend einen kurzen Augenblick festsitzen gesehen, das indessen bald darauf wieder aus Sicht verschwunden war. — Den 24. ?covember. Gestern wahrend des ganzen TaqeS hatten wir anhaltenden Sturm. In Folge desselben gerieth Nachmittags 3'/» Uht unter Ficbts an der Halbinsel Sworbe, da wo vor Kurzem der Finnländer „Hilda\" verloren ging, ein Holländischer Zweimaster auf den Strand. Mann und Ladung sind zur Zeit noch unbekannt. — An der Livländischen Küste in der. Nähe des Gute» Haynasch strandete am 5. November da« mit einer Ladung, bestehend aus 32 Kisten leeren Flaschen, 58 Faß Eisenvitriol, 50 Kisten Schwefel, 1 Faß Lack und 100 leeren Fässern von St. Petersburg nach Riga bestimmte TranSportboot .Polka\", Führer A. Krenz; die Mannschaft, sowie von der Ladung 28 Kisten Flaschen, 33 Faß Eisen-Vitriol. 42 Kisten Schwefel und 89 leere Fässer, desgleichen ein Theil der Takelage wurden geborgen.\n",
      "St. Petersburger Marktbericht vom 2. Dec. Hanf ohne Umsatz; Preise unverändert. Von Getreide wurde nur Haser gelaust, und zwar pro Juni circa 20.000Tschetwert a 3 Ш\\. 90 Kop. bis 4 Rbl. 5 Kop. nach Qualität. Lichttalg 1. Sorte wurden pro August 800 Fässer zu 50'/- Rbl. und 200 Fässer zu 51 Rbl. per Berkowez und Sibiriicher Talg 100 Fässer ebenfalls zu 51 Rbl. per Berk, mit Vorschuß gekauft. Alle anderen Producte blieben geschäftsloS.\n",
      "2 October (20. September)\n",
      "Pans. 2 October (20. September). Sin hiesiger Correspondent der .Köln. Ztg' berichtet Folgendes: Die Nachrichten, welche auS den Departements von dem größten Theil der Präfecteu einlaufen, tragen nicht dazu bei. die in den officielle» Regionen seit der Niederlage deS  in Anjou herrschende Verwirrung zu vermindern. Einstimmig wird der tiefe Eindruck geschildert, den der von allen kleinen republikanischen Provinzialblättern abgedruckte Brief Gambetta'S auf die große Masse der Wähler hervorbrachte. Alle jene Maires und Beigeordneten, die nach ihrer AmtSentsetzung durch die Regierung der moralischen Ordnung zu eben so vielen Partei-Häuptern der Opposition wurden, haben das gegebene Losungswort nur zu gut verstanden. Sie haben mit einem Elfer wie niemals früher eine republikanische Kundgebung für den 4. October ins Werk gesetzt (es ist der Tag der Gcneralrathswahlen. welche nach einem Telegramm .konservativ' ausgefallen sind. Red. der ~Rig. Ztg.4). und daS Austreten der Präfecten und Maires des SeptcnniumS hat Mißtrauen und Mißvergnügen in Ueberfluß gesäet, um ter Opposition den Weg im Voraus zu ebnen. Diese Bewegung, wie jung sie ist. hat doch in einigen Departements solche Verhältnisse angenommen, daß viele monarchische Candldaten eingeschüchtert vom Wahlplntze zuiückcraten. In den Vogesen beispielsweise wurde« aileron* die Verhältnisse sondirt. um ein günstiges Terrain für di. Wahl deS Herrn Buffet ausfindig zu macheu. eine Arbeit, deren Resultat so ungünstig ausfiel, daß der Präfcet erklärte, in keinem Canton für den Erfolg gaiantiren zu können. Und doch behauptet Herr Buffet eine der angesehensten Stellungen m den Vogesen. und doch ist er Präsident der Nanonal-Versammlung; aber gerade dieser letztere Umstand scheint vor dem Tribunal deS allgemeinen Stimmrechts sein ToocsuNhcil gewesen zu sein Aehnliche Beispiele könnte ich in Menge anführen Näcdft Gambetta's Brief war es besonders die Rede deS\n",
      "\n",
      "\tFrankreich.\n",
      "\n",
      "\tfiítm Thiers weiche die  AU Regierung vermehrte mid dieselbe veranlaßte, persönlich ia die Arena hinabzusteigeo, seit fie sah. daß ihr am 4. October ebenso wie am 27 September der Sieg ans den Händen entgleiten würde Sie begnügte fich nicht mit der Benutzung jener officiösen Presse, welche Hand ia Hand mit den Bonapartisten dea Kcldzug gegen die republikanischen Candidate» eröffnete 3m .Bulletin Français4 veröffentlichte fie einen Artikel, der einen Sturm der Entrüstung hervorrief. Es ist stark m der That, ein Blatt, welches auf Staatsnukosten erhalten wird, zu Reklamen für die Kandidaten einer einzelnen Partei zu mißbrauchen. 3n Lot nnd in einigen anderen Departements geht die Polizei so weit, jede Zusammenkunft, jede Gesellschaft bei den Notabeln der Ortschaften zu verbieten. Die Prüfectev denken durch alle diese kleinen Gewaltmaßregeln die Wähler einzuschüchtern, nnd befolgen mehr oder minder die Handlungsweise ihres College« Merlet im Departement Maine-er-Loire, welche der Kandidatur des Herrn Bru as ein so klägliches Fiasco bereitete. Man will seit Kurzem bemerkt haben, daß viele Legi» nmisteu künftighin das voa ihrer Partei bei der jüngstverflosseneu Wahl in Anjou ausgeführte Mauöver nicht beizubehalten gedenken. Sie wölkn fich am 4. October nicht mehr der Abstimmung enthalten, selbst wenn der annrepnblikcmische Kandidat ein Bonapartist sein sollte. Zum Ersatz dafür sollen die legi« tiwistischen Kandidaten iv den Kantonen, wo es nur venige Bonapartisten giebt, von den letzteren unterstützt werden- Man steht, daß die Hitze des Kampfes die Légitimiste» auf demselben Wege wie die Orleauisten weiter treibt, d. h. i» die Arme des Bouaparrismus.\n",
      "— Der .Patriote de la Corse', welcher die Candidalur des Prinzen Napoleon für den dortigev Generalrath vertrat, veröffentlicht in semer letzten Nummer zwei Briefe, welche der entthronte Napoleon HI. im Mai uud September 1872 an seinen Better, dm Prinzen Napoleon, gerichtet hat Der letztere hatte damals die Abficht, gleichzeitig iv Corfica und iv mehreren anderen Departements als Candidat für die Nationalversammlung auszutreten. Der Erkaiser gab ihm aus seiner Berdauuuug den Rath, hierzu nue günstigere Gelegenheit abzuwarten uud das Project biS dahin sorgfältig geheim zu halten, weil fich mau sonst leicht eine Menge von Hindernissen und Feindseligkeilen auf den Hals laden könnte; aach solle er die Departements, iv denen er triftigere Aussichten hätte zu ermitteln suchen und jedes Departement glauben machen, daß es allem berufen sei, ihn zum Abgeord« nete» zu ernennen. Der Prinz Napoleon will mit dieser Publication beweisen, daß der Exkaiser zu jeuer Zeit lebhaft gewünscht hat. ihn mit Vortheil auf der politischeu Schaubühne wieder erscheinen zn sehen.\n",
      "3 M.d\n",
      "Riga. 23. Mai. Die Witterung ist seit gestern wärmer. 15 bis 19 Grad im Schatten, auch hatte kurze Zeit wehender Westwind den Himmel bewölkt, doch kam es leider nicht zum Regen, den die Landleute unserer Provinz von Tag zu Tag sehnlicher erWünschen, sind doch schon wegen der anhaltenden Trockenheit an einigen Orten die Winterkornfelder umpepstügt worden, um Sommerkorn aufzunehmen. Die letztberichtete, wenig erfreuliche Situation unseres Productenmarktes hat fich fast gar nicht ver» ändert; für einzelne Artikel, namentlich für Hafer, ist die Stimmung noch flauer geworden, indem Durchschnittsqualität zu 95 Kop. pro Pud angeboten wird, ohne Nehmer zu finden. Die geringen Vorräthe von Roggen liegen in festen Händen. Inhaber fordern 27 bis 28 Kop. über das Pfund, während Käufer in Betracht der ausländischen Notirungen kaum 24 bis 25 Kop. bewilligen können. Hanss amen von Seiten der Verkäufer ebenfalls sest, 124 bis 125 Kop. pro Pud gefordert. Von Umsätzen ist nichts bekannt geworden. Schiffe find im Ganzen 526, davon 494 auS ausländischen Häfen, angekommen und 313 ausgegangen.\n",
      "Wechsel-Course.\n",
      "Riga, 23. Mai.\n",
      "London 3 M.d. . . 24?, i« 8., 24»,, G. Hamburg 3 M. à. . 208»/. 8.. 209 G.\n",
      "\n",
      "\tHandel und Verkehr.\n",
      "B e r l i n\n",
      "Telegramme.\n",
      "\n",
      "\tB e r l i n, 24. (12.) Juli. (Originaltelegramm der ,Rig. Ztg.') Heute hat Se. Majestät der\n",
      "\n",
      "\tKaiser von Rußland Berlin passirt und die Reise nach Warschau fortgesetzt.\n",
      "Die Kirchengesetze kommen nun auch in den hohenzollernschen Landen iur Ausführung.\n",
      "Zn Berlin sind einzelne Cholerafälle vorgekommen.\n",
      "Der Kronprinz von Sachsen ist iv (sms eingetroyen.\n",
      "Die Weihung des vr. Reinkens zum altkatbotischen Bischof hat einen Aufschub erlitten. Der Prittt Napoleon ist in Paris angelangt. Der Papst hat den Empfang des Pfarrers von Santa Cruz abgelehnt.\n",
      "Domesnees, 11. Juli, 8 Uhr Morgens. Starker Nordwind. Barometer am 10. Juli, 8 Uhr Abends, 29—42. am 11. Zuli. 8 Uhr Morgens, 29—44, Thermometer 14 Grad Warme; bewölkter Himmel.\n",
      "Petersburg, 11. Zuli. (Telegramm des physikalischen CentralobservatoriumS an die meteorologische Station deS Natnrforschervereins zu Riga.) DaS Minimum deS Luftdrucks hat sich nacb dem südlichen Rußland gewendet; zu gleicher Zeit verbreitet sick durch den nordwestlichen Theil deS Reiches bei heiterer Witterung ein hoher Luftdruck in Begleitung von ziemlich heftigem Nordostwinde. Zn Polen und in Centralntßland regnet eS. Zm Osten Rußlands herrscht schwacher Wind bei bewölktem Himmel.\n",
      "Barometer Thermometer um 7 Uhr Morgen!.\n",
      "Archangel — Mill. —Vtad C.\n",
      "Uleaborg 766 . +16\n",
      "Petersburg 759 . + 16\n",
      "Windau 759 . +17\n",
      "Wilna 747 . +14 .\n",
      "Warschau 749 . +14\n",
      "Kiew 738 . +16\n",
      "Odessa 750 . +19\n",
      "Moskau 743 . +17\n",
      "Kasan 752 .. +14\n",
      "Orenburg 747 . +17\n",
      "Itkaterinenburg 729 , +12\n",
      "tßiga) 758 . + 11\n",
      "Petersburg, 11. Juli. (Rig. T.-A.) l. sproc. russ. Prämienanleihe 156% Br.. 155% G., 156 gem.; 2. sproc. russ. Prämienanleihe 157% Dr.. 157 ©~ 157 % gem.; Actien der Rigaer Commerzbank 147 Br., 145 G., 147 gem.; Actien der Riga-Dnnaburger Bahn 135 Br.. 134/4 G.. — gem.; Actien der Dünabnrg-WitebSkerßahn 133/2 Br., 133 G., — gem.; Actien der RybinSk-Balogower Bahn 62 Br.. — G.. — gem.; Actien der Warschau-TereSp. Bahn 114% Br., 114 G.; Actien der großen russ. Dahn 142 Br.. 141% G.; Actien der Balt. Bahn 80 Sr., 79% G.: Actien der Warsch.-Wiener Bahn 94 Br.. 93% G.; sproc. Znscript. 5. Anleihe 94% gem.; sproc. BankbilletS l.Emiss. 96'/» G.; Actien der Revaler Handelsbant — Br.. 116% G.; RybinSk – Balogower Eisenbahnobligationen 2. Emission — Br., — G.\n",
      "Berlin, 23. (li.) Zuli. fßig. T.-A.) 3 W. aus Petersburg 88V»: 3 M. auf Petersburg 88%; 8 T. auf Warschau (pro 90 Rbl.) 80'/«; russ. CreditbilletS (pro 90 Rbl.) 80'/»; 1. sproc.russ. Prämienanl. 129% ;\n",
      "\n",
      "\t2. sproc. russische Prämienanleihe 130'/,; sproc. Znscriptionen b. Anleihe 77-/4: Actien der großen russ. Bahn 94% ; Actien der Baltischporler Bahn 53%; Actien der Warschau-Wieucr Bahn 82%; spr. Rybinsk-Balogower Oblig. 1. Emission 76; sproc. Щ\\ШЬ Balogower Oblig. 2. Emission 73; Obligationen der Warschau-Terespoler Bahn 92: sproc. Baltischporter Eisendabnobligationen 86%; sproc. rumän. Eisenbahnactien 40; 1872 er französische sproc. Anleihe 89% ; österr. Creditactien 139%; oberschl. Tisenbahnbedarfactien 118 V«: Lombarden 112: Franzosen 201%. — Tendenz: Anfangs fest. Schluß matt.\n",
      "T hüm mcl\n",
      "D i e lustigen Weiber von Windsor.\n",
      "Zu dem Vergnügen, da» die vorgestern stattgehabte Wiederholung der neu einstudirten Nicolai'schen Oper dem zahlreichen Publicum abermalt bereitete, haben, neben der unverwüstlichen Liebenswürdigkeit de« Werke« selbst, unstreitig die beiden »lustigen Weiber. Frl. X r elschy und Frl. B o n t e m p « , ganz besonder« beigetragen. Die weitaus umfangreichere und durch ihre Coioraturen. sowie durch ihre Ansprüche an die Darstellung schwierigere Partie der Frau Fluth schien dem Frl. Krerchy nur «in leichte« Spiel zu sein. Sie sang, al« seien diese kecken, geschwätzigen Rhythmen, diese in komischer Entrüstung hinau«gel»leud,rten Tonverzierurigen die Sprache, in der fie zu reden gewohnt ist. Wa« man mit einer klnnen. gut au«, gebildeten Stimme ausrichten kann, wenn ber künstlerische Funke darin glüht, da« zeigte diese Frau Fluth. Hier blitzte dreier Funke ba d aid komische Entrüstung, bald al« Schalk, bald al« übermüthiger Kobold hervor. — Die viel weniger dankbare Partie der Frau Reich wird gewöhnlich durch die der Frau Fluth in Schatten gestellt ; man bekommt meisten« nur e i n .lustige« Weib\" zu sehen. Da« war in dieser Vorstellung nicht der Fall. Frl. Bon temps bot durch ihre ganz ander« geartete Lustigkeit eine hübsche Ergänzung. Sie war, wie da« durch da« musikalische Wesen der Partie bedingt ist. die ruhigere, die mehr überlegende, eine von jenen Naturen, die einen Streich, wenn fie einmal den wohlerwogenen Entschluß zu einem solchen gefaßt haben, mit heimlicher Freude, mit einer gefährlichen liebevollen Sorgfalt durchführen. Beide Künstlerinnen »area »on einer so fröhlichen Sicherheit, daß c« wohl kaum einem Zuschauer eingefallen ist. bei dem vorzüglich wiedergegeben?» großen Duett de« ersten Acte« und den weiteren duellirmden Stelle» an deren schwierige« Studium zu denken. — Frl. Jona hatte eine für fie ganz besonder« schw,,. rige Aufgabe: Sie, deren Fachbereich die Piquanterieen, der Uebermnth. die .Blitzmädel' de« modernen Sou. brettenthum« in Mädchen.. Pagen, oder Eadettenkleidn» find, fie wußte die .süße Anna' geben, und fie zeigle dabei einen anertennenSwerthen Grad von Entäußerung aller Fachgewchnheiten. fie sang ruhig und wirkte gut durch die Wärme ihre« Gesänge«. — Herr T hüm mcl (Falpaff) und Herr Z ö П e r Muth), denen durch die beiden lustigen Weider scharf zugesetzt wurde, zogen fich gut au« der Affaire. Falstaff war sowohl in seiner komischen Grandezza, al« auch in seinem Zorn über erlittene Unbill sehr amüsant, vnd Herr-Fluth spielte seine Eifersucht, seine bald mühsam verhaltene, bald wild ausbrechend« Wuth sehr überzeugend. Weniger überzeugend war die Flasche Madeira, welche beiden Herren in einer ganz regelrecht gebauten Rheinweinflalche mit grünen Rheivweingläsern vorgesetzt wurde. — Herr Mark. » or d t. al« Junker Spärlich. erregte wieder viel\n",
      "\n",
      "\tOper.\n",
      "\n",
      "\tHeiterkeit. —ß Herrn Lahr, der den Finton hübsch sang, hätten wir etwa« mehr jugendliche Lebendigkeit im Spi,l gewünscht — Die phantastischen Scenen de« letzten Act,« hätten wohl in Decoraiion. Costümen un» Spukerscheinungen etwa« reichlicher ausgestaltet sein können. Da« war ein Rückschlag nach der vorangegangenen vortrefflichen Durchsührung der Oper\n",
      "\n",
      "\tFr. Р.\n",
      "H elene Gorrliebe Nabel, geb. Grortky\n",
      "Todes-Anzeige.\n",
      "\n",
      "\tAm 12. d. M., um 4 Uhr Morgens, starb nack langen Leiden meine theuere Gattin H elene Gorrliebe Nabel, geb. Grortky, im 64. Jahre ihres Alters und im 43. unserer glücklichen Ehe. Tbeilnehmende Verwandle und freunde, welche die Entschlafene l'annten, werden mir den Stroit ihrer Theilnahme bei der Bestattung, welche am Montag den 17. d., um 3 Uhr Nachmittags, von der Dom-Kirche aus stattfinden wird, nicht versagen.\n",
      "iL. (p. Nabel.\n",
      "\n",
      "\tVekK lntmsehunsen.\n",
      "Mit Genehmigung des resp. Vorstadt-Anlagen – Comite's und mit Hoch – Obrigkeitlicher Bewilligung wird im\n",
      "WiHirmannMcßieii .Parle\n",
      "am 18. August 1842 brillante\n",
      "MUumination und Wauachult\n",
      "arrangirt.\n",
      "Die Eintritts – Karte kostet für die Person 20 Кор., für Kinder 10 Kop. S. Billette werden verkauft an drei Park-Eingängen, in der Stadt in den Caviezelschen Conditoreien und in der Vorstadt in der Tho ms о n schen Conditorei.\n",
      "Die bei der ersten, grossen Illumination am 24. Juli gemachte Erfahrung und gewonnene Kenntniss setzt Unterzeichneten in den Stand, mit Hilfe des Herrn Bräutigam (Decorateur) die zweite Garten-Beleuchtung glänzender auszurichten. — Für die möglichste Bequemlichkeit des resp. Publicums wird eifrigst Sorge tragen, und ladet zu diesem Abend ergebenst ein der Pachter des Parks\n",
      "Th. Thomson.\n",
      "Sollte die Witterung am 18. August der Illumination ungünstig seyn, so wird dieselbe auf einen andern Abend verschoben. 1\n",
      "Ein in Aberdeen gebautes hölzernes Dampfboot mit einer Maschine von 50 Pferdekraft, und beladen 5 Fuss tief gehend, zum Bugsiren von Schiffen und Transport von Passagieren eingerichtet, gegenwärtig in Aberdeen befindlich, wird hiemit zum Verkauf aUsgeboten, und sind fernere Nachweisungen zu erhalten bei\n",
      "G. P. Moller &amp; Co. 1.\n",
      "Eine auf dem 6 Werft von der Stadt Riga entfernten Gütchen Champetre belegene Tretmühle, welche sich insbesondere zur Anlegung eines Fabrik-Gebaudes eignet, wird zum Verkauf aus freier Hand ausgeboten, und werden etwanige Kaufliebhaber ersucht, sich dieserhalb direct an den Besitzer obgenannten Gütchens daselbst zu wenden. 3\n",
      "Auf dem 6 Werst von Riga unweit der  belegenen Gütchen Annenhof ist das vor einigen Jahren als Gasthaus vermiethet gewesene Wohnhaus wiederum zur Miethe zu haben, und ertheilt nähere Auskunft über die Bedingungen der Miethe der Besitzer des 6 Werst von der Stadt Riga entfernten Gütchens Champetre. 3\n",
      "200 Stück gebrauchte Fliese,; sind in der Schwan-Apotheke zu verkaufen..\n",
      "\n",
      "\tSonntag den 16. August die zweite  Unterhaltung w\n",
      "Mim Bauche des Walllisehes; M Щ£ am Abend findet eine brillante ße-jäte leuchlung statt. dfe Ж Unterzeichneter hat zugleich die Jff\n",
      "Ehre Einem hochverehrten Publi- W W cum anzuzeigen, dass in der Condi- W |§£ torei des Herrn Lutze zur Aus-Ц| Stellung des Walisisches für 1 Rbl. ggi Silber 5 Billets zum ersten Platz zu  haben sind. J. Lesire.\n",
      "\n",
      "\tV Es wird ein Haus in der Stadt für circa 10- bis 15,000 Rbl. S. zu Kauf gesucht durch das Erkundigungs-Büreau. 2\n",
      "Eine Reisegelegeuheit nach Mohilew wird gesucht. — Von wem? erfahrt man im Erkundigungs^Vüreau.\n",
      "Der Wittwenschein der Marianne Girjatowitfch, geb. Mankowsky, ist verloren gegangen und vom etwanigen Finder bei der Be-Hörde einzuliefern.\n",
      "M Rudolph\n",
      "* «Theater.) Gestern wurde e;ne Novität: .Der Blitzableiter '. Lustspiel m 1 Act von O. F. G e n s i eh e n . aufgeführt. DaS finnig erdachte Stück führt uns in ein ländlich-pastorale» Stillleben, in welchem zwei Menschen sich zum Bunde für» Leben finden. Diese beiden Hauptfiguren deS Stücke», der geistvolle, aber in den Künsten der Unterhaltung mit einer Dame wenig erfahrene Philologe, und daS muntere, naive Landkind. daS in heiliger Scheu vor der Gelehrsamkeit ihre« Partner» anfänglich nur über daS Wetter zu sprechen weiß und sich den Faden der Unterhaltung alle Augenblicke entschlüpfen läßt, sind etil fast rührender Treue dem Leben abgelauscht und wurden von Herrn G 5 b e l und Frl. S eh a f f c r trefflich wiedergegeben Der letzteren, in den verschiedensten Modulationen niederholte» .Cr hat mich geküßt' war allein eine« Besuches dcê Theater« werth. Der Blitzableiter, ein kleiner Knabe, den beide in ihre Milte nehmen, um ihre Verlegenheit durch ihn ablenken zu lasten, den beide hätscheln und küssen, wurde von Elise L и k a и friich und derb wiedergegeben Die kleine und recht undankbare Rolle des RcctorS schien uns durch Herrn Busse nicht ganz so glücklich besetzt zu sein. Das Spiel deS letzteren schien dem Referenten ju jugendlich und zu wenig abgerundet. Die Würde des Alters muß darunter leiden. Herr Kleiner! und Frau v. Wafowicz gaben ihr alteS pastoraleS Ehepaar ganz prächtig. UcbrigenS dürste das Stück, das besonders zu Ansang an ganz unerlaubter Dehnung laborirt. durch zweckentsprechende Anwendung v i StifteS noch sehr gewinnen können. — Die neunttstudirte Operette .Flotte Bursche' von Suppê war in den Hauptrollen ebenso, wie früher ldurch Frl. Cichbrrgcr, Herrn Butterweck und Herrn Markwordt.) und selbstverständlich gu,t besetzt. Frl. F и x brachte für ihre Rolle zu wenig Humor mit. Frl Saro. als Burgermädel. zeigte sich im Besitz einer recht ansprechenden Stimme und lieb sogar einige Coloraturen hören. Sollte aber der Handwerksbursche nicht einen mehr gesangeskundigen Darsteller, als Herrn Dreß ler. finden können? Trotz deS unglaublichen, stark in daS Gebiet deS Slrafcoder hineinfallenden G-balren» nud de» kindischen Geplaudcr» dieser .flotten Burschen' ist da« Stück, um der geschickt hineinverwebten und eben nicht ищиbringenden Burschenmelodien willen eine freundliche Zugabe deS Repertoirs.\n",
      "— iChorgesangSinstitut ) AuS den Inseraten unserer Zeitung ersehen wir. daß Herr Mufiklehrer M Rudolph in seinem Chorgesangsinstitut zu Anfang des nächsten MonalS eine neue Abtheilung und zwar für junge Mädchen (»etwa von, 11 oder 12 Jahre an\") eröffnen wird. Wie wir erfahren haben, erfreuen sich die für die reifere weibliche und männl&gt;cheJugend bereits bestehenden beiden Abtheilungen deS Instituts einer recht zahlreichen Betheiligung. Hoffentlich wird auS unserem Publicum der neuen Abtheilung dasselbe Interesse entgegengebracht werden. Ein pädagogisch und musikalisch gediegen geleiteter Chorgesangsunterricht ist eine Vervollständigung unserer erzieherischen Mittel, welche eigentlich keinem Mädchen, keinem Knaben vorenthalten werden sollte Es wird denselben dadurch, außer oer persönlichen gesanglichen oertigtcit, — eine Entwickelung deS wahren Interesses\n",
      "\n",
      "\tLokales.\n",
      "\n",
      "\tund Verständnisse« für die Tonkunst verliehen, welche al« Bildungselement nicht hoch genug veranschlagt\n",
      "werden kann.\n",
      "— (Unserem geehrten Himmelskund i g en) in Nr. 222 der .Rig. Ztg ' ist c« schlimmer gegangen, al« dem weisen Thale«. der vor fast rund 2484 Jahren den Milesieru eine Sonnenfinsternis ankundctc. Diese ward gesehen und de« Weisen Ruhm flog durch alle Lande: uà Himmel aber halte sich bewölkt, von der Sonncnfinsterniß war nichts wählzunehineu, als daß das Licht um ein wcuig gedämpft erschien.\n",
      "à Der am 25. September c. mit drei vom Dünaufer gestohlenen Gewichten angehaltene Mensch, dessen Ergreifung wir neulich meldeten, ist al« ein au« der pstowschen Arrestantencoinpagnic entwichener Sträs« ling. Namens Jahn Tunmermann erkannt worden.\n",
      "X Der Arrcndalor von ScheunannShos. Karl Weidemann, machte der Landpolizei die Anzeige, daß er am 26. d. MtS , Morgens, einen bei ihm als Tagelöhner gedient habenden Soldaten, welcher sich Mittd Lapping genannt, mit einem Fahrzeug (eine mit einer großen, hellbraunen Stute bespannte Rospuske) und 7Vi Lof Kartoffeln zur Stadt geschickt habe, damit er letztere verkaufe. Der Lapping habe sich jedoch mit dem Fahrzeug nicht wieder blicken lassen. Der Werth des Pferde« und Wagen«, sowi- einiger anderer von dem Lapping gestohlener Sachen beträgt 115 Rbl. Zur Ermittelung de« Diebes werden polizeiliche Nachforschungen angestellt.\n"
     ]
    }
   ],
   "source": [
    "def find_whitespace(TRAIN_DATA):\n",
    "    \n",
    "    whitespace = re.compile(r'\\s')\n",
    "    nlp = spacy.blank('de')\n",
    "    \n",
    "    faulty_texts = []\n",
    "    \n",
    "    startchars = []\n",
    "    endchars = []\n",
    "    \n",
    "    for text, annotations in TRAIN_DATA:\n",
    "        entities = annotations['entities']\n",
    "        ent_texts = [text[start:end] for [start, end, label] in entities]\n",
    "        for ent in ent_texts:\n",
    "            startchars.append(ent[0])\n",
    "            endchars.append(ent[1])\n",
    "            \n",
    "            if ' ' in startchars[-1]:\n",
    "                print(ent)\n",
    "                print(text)\n",
    "            if ' ' in endchars[-1]:\n",
    "                print(ent)\n",
    "                print(text)\n",
    "           #if whitespace.findall(ent[0]) or whitespace.findall(ent[-1]):\n",
    "                #print(ent)\n",
    "            \n",
    "    return startchars, endchars\n",
    "\n",
    "startchars, endchars = find_whitespace(TRAIN_DATA_TRIMMED)"
   ]
  },
  {
   "cell_type": "code",
   "execution_count": 132,
   "id": "bbb905b1",
   "metadata": {},
   "outputs": [],
   "source": [
    "from spacy.tokens import DocBin\n",
    "\n",
    "def convert_to_spacy3x(TRAIN_DATA, output_path):\n",
    "    \n",
    "    nlp = spacy.blank(\"de\") # load a new spacy model\n",
    "    db = DocBin() # create a DocBin object\n",
    "\n",
    "    for text, annot in TRAIN_DATA: # data in previous format\n",
    "        doc = nlp.make_doc(text) # create doc object from text\n",
    "        ents = []\n",
    "        for start, end, label in annot[\"entities\"]: # add character indexes\n",
    "            span = doc.char_span(start, end, label=label, alignment_mode=\"contract\")\n",
    "            if span is None:\n",
    "                print(text[start:end])\n",
    "                print(\"Skipping entity\")\n",
    "            else:\n",
    "                ents.append(span)\n",
    "        doc.ents = ents # label the text with the ents\n",
    "        if len(ents) == 0:\n",
    "            print(text)\n",
    "        db.add(doc)\n",
    "\n",
    "    db.to_disk(output_path) # save the docbin object"
   ]
  },
  {
   "cell_type": "code",
   "execution_count": 133,
   "id": "977d119b",
   "metadata": {},
   "outputs": [],
   "source": [
    "# split into training and dev sets (85/15)\n",
    "\n",
    "np.random.shuffle(TRAIN_DATA_TRIMMED) # shuffle the data in-place\n",
    "train_set = TRAIN_DATA_TRIMMED[0:338]\n",
    "valid_set = TRAIN_DATA_TRIMMED[338:]"
   ]
  },
  {
   "cell_type": "code",
   "execution_count": 134,
   "id": "7ccc0ff0",
   "metadata": {
    "scrolled": true
   },
   "outputs": [
    {
     "name": "stdout",
     "output_type": "stream",
     "text": [
      "Wilna\n",
      "Skipping entity\n",
      "Mailand\n",
      "Skipping entity\n",
      "Warschan\n",
      "Skipping entity\n",
      "Wohlershof\n",
      "Skipping entity\n",
      "Lincoln'S\n",
      "Skipping entity\n",
      "Skassy\n",
      "Skipping entity\n",
      "Diebitsch\n",
      "Skipping entity\n",
      "Schneegestöber\n",
      "Skipping entity\n",
      "Wisby\n",
      "Skipping entity\n",
      "Carysto\n",
      "Skipping entity\n",
      "LübeS\n",
      "Skipping entity\n",
      "Süd-Karolma\n",
      "Skipping entity\n",
      "Paris\n",
      "Skipping entity\n",
      "OeselS\n",
      "Skipping entity\n",
      "Schnee\n",
      "Skipping entity\n",
      "Spanien\n",
      "Skipping entity\n",
      "Sübfrankretch\n",
      "Skipping entity\n",
      "Baden\n",
      "Skipping entity\n",
      "Coblenz\n",
      "Skipping entity\n",
      "Riga\n",
      "Skipping entity\n",
      "W3!W\n",
      "Skipping entity\n",
      "Alexander\n",
      "Skipping entity\n",
      "Doßingen\n",
      "Skipping entity\n",
      "Praaa\n",
      "Skipping entity\n",
      "Goethe\n",
      "Skipping entity\n",
      "Zrankfurt\n",
      "Skipping entity\n",
      "Mitau\n",
      "Skipping entity\n",
      "Mikau\n",
      "Skipping entity\n",
      "Witterung\n",
      "Skipping entity\n",
      "Vacca\n",
      "Skipping entity\n",
      "Sturm\n",
      "Skipping entity\n"
     ]
    }
   ],
   "source": [
    "convert_to_spacy3x(train_set, '../pipeline/ner/train.spacy')\n",
    "convert_to_spacy3x(valid_set, '../pipeline/ner/valid.spacy')"
   ]
  },
  {
   "cell_type": "code",
   "execution_count": 104,
   "id": "b56f8464",
   "metadata": {},
   "outputs": [
    {
     "data": {
      "text/plain": [
       "True"
      ]
     },
     "execution_count": 104,
     "metadata": {},
     "output_type": "execute_result"
    }
   ],
   "source": [
    "' ' in startchars"
   ]
  },
  {
   "cell_type": "code",
   "execution_count": 95,
   "id": "17687b1c",
   "metadata": {},
   "outputs": [
    {
     "name": "stdout",
     "output_type": "stream",
     "text": [
      "len\n",
      "isdict\n",
      "ents len\n"
     ]
    }
   ],
   "source": [
    "def check_data_integrity(TRAIN_DATA):\n",
    "    \n",
    "    print('len')\n",
    "    for i, entry in enumerate(TRAIN_DATA):\n",
    "        if len(entry) != 2:\n",
    "            print(entry)\n",
    "            \n",
    "    print('isdict')\n",
    "    for i, entry in enumerate(TRAIN_DATA):\n",
    "        if type(entry[1]) != dict:\n",
    "            print(i, entry)\n",
    "    \n",
    "    print('ents len')\n",
    "    for entry in TRAIN_DATA:\n",
    "        if len(entry[1]['entities']) == 0:\n",
    "            print(entry)\n",
    "            \n",
    "    \n",
    "            \n",
    "check_data_integrity(TRAIN_DATA)"
   ]
  },
  {
   "cell_type": "code",
   "execution_count": 81,
   "id": "2f254811",
   "metadata": {},
   "outputs": [],
   "source": [
    "faulty = TRAIN_DATA[395]"
   ]
  },
  {
   "cell_type": "code",
   "execution_count": 85,
   "id": "blond-confusion",
   "metadata": {},
   "outputs": [
    {
     "data": {
      "text/plain": [
       "['Aus dem Haag, vom 24. Januar.\\n\\nSeine Majestät haben befohlen, das Linien»\\nschiff Waterloo von 74 Kanonen, unter Ka\\npitain Dibbetz, zwei Fregatten zu 44, eine\\nvon 32, eine Korvette von 28 und zwei Briggs\\nzu 13 Kanonen in dienstfertigen Stand zu\\nsetzen. sPr. St.-Ztg.l\\nNach Berichten aus Antwerpen herrscht dort\\neine eigenthümliche Stimmung. Die Belg.\\nTruppen scheinen die Holländer in der Cua\\nteile zu fürchten, denn sobald der Nebel ver\\nschwindet, sieht man, von der Citadelle aus,\\nauf der ganzen Belg. Linie die Artilleristen\\nbei den Kanonen stehn. Dagegen heißt es,\\ndie Bürger von Antwerpen und die Freikorps\\nhätten die Absicht, einen Sturm auf die Ci-\\nTadelle zu wagen. I» dieser i|f man daher\\nsehr wachsam. s.Brl. Nchr.)',\n",
       " [...]]"
      ]
     },
     "execution_count": 85,
     "metadata": {},
     "output_type": "execute_result"
    }
   ],
   "source": [
    "df."
   ]
  }
 ],
 "metadata": {
  "kernelspec": {
   "display_name": "Python 3 (ipykernel)",
   "language": "python",
   "name": "python3"
  },
  "language_info": {
   "codemirror_mode": {
    "name": "ipython",
    "version": 3
   },
   "file_extension": ".py",
   "mimetype": "text/x-python",
   "name": "python",
   "nbconvert_exporter": "python",
   "pygments_lexer": "ipython3",
   "version": "3.9.2"
  }
 },
 "nbformat": 4,
 "nbformat_minor": 5
}
