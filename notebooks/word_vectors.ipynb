{
 "cells": [
  {
   "cell_type": "code",
   "execution_count": 1,
   "id": "95ed74a5",
   "metadata": {},
   "outputs": [],
   "source": [
    "import spacy\n",
    "from spacy import displacy\n",
    "import pandas as pd\n",
    "import numpy as np"
   ]
  },
  {
   "cell_type": "code",
   "execution_count": 2,
   "id": "e71437b6",
   "metadata": {},
   "outputs": [],
   "source": [
    "# lisab NERi tõhjale 'de' mudelile, kuhu on juba cmd-ga vektorid lisatud\n",
    "\n",
    "# nlp = spacy.load('../data/models/main/')\n",
    "# nlp.add_pipe('ner')\n",
    "# nlp.to_disk('../data/models/main/')"
   ]
  },
  {
   "cell_type": "code",
   "execution_count": 70,
   "id": "3a4ed589",
   "metadata": {},
   "outputs": [],
   "source": [
    "nlp = spacy.load('../data/models/main_2/model-best/')"
   ]
  },
  {
   "cell_type": "code",
   "execution_count": 7,
   "id": "25197c15",
   "metadata": {},
   "outputs": [
    {
     "data": {
      "text/plain": [
       "[('ner', <spacy.pipeline.ner.EntityRecognizer at 0x1fd8fc58fa0>)]"
      ]
     },
     "execution_count": 7,
     "metadata": {},
     "output_type": "execute_result"
    }
   ],
   "source": [
    "nlp.pipeline"
   ]
  },
  {
   "cell_type": "code",
   "execution_count": 59,
   "id": "32142995",
   "metadata": {},
   "outputs": [],
   "source": [
    "de_core_news = spacy.load('de_core_news_md')"
   ]
  },
  {
   "cell_type": "code",
   "execution_count": 9,
   "id": "df4db5f1",
   "metadata": {},
   "outputs": [],
   "source": [
    "df = pd.read_parquet('../data/processed/RZ_sample.parquet')"
   ]
  },
  {
   "cell_type": "code",
   "execution_count": 65,
   "id": "9ed940a9",
   "metadata": {},
   "outputs": [],
   "source": [
    "displacy_color_code = {'WEA': '#4cafd9',\n",
    "                  'PER': '#ffb366',\n",
    "                  'DAT': '#bf80ff',\n",
    "                  'LOC': '#a88676'}\n",
    "\n",
    "displacy_options = {'ents': ['WEA', 'PER', 'DAT', 'LOC'], 'colors': displacy_color_code}\n",
    "\n",
    "def example():\n",
    "    \n",
    "    wea = 0\n",
    "    \n",
    "    while wea == 0:\n",
    "        i = np.random.randint(len(df))\n",
    "        text = df.full_text.iloc[i]\n",
    "        year = df.year.iloc[i]\n",
    "        doc = nlp(text)\n",
    "        if 'WEA' in set([ent.label_ for ent in doc.ents]):\n",
    "            wea = 1\n",
    "        \n",
    "    print(year, '\\n')\n",
    "    displacy.render(doc, style='ent', jupyter=True, options=displacy_options)"
   ]
  },
  {
   "cell_type": "code",
   "execution_count": 81,
   "id": "acb64011",
   "metadata": {
    "scrolled": true
   },
   "outputs": [
    {
     "name": "stdout",
     "output_type": "stream",
     "text": [
      "1830 \n",
      "\n"
     ]
    },
    {
     "data": {
      "text/html": [
       "<span class=\"tex2jax_ignore\"><div class=\"entities\" style=\"line-height: 2.5; direction: ltr\">\n",
       "<mark class=\"entity\" style=\"background: #a88676; padding: 0.45em 0.6em; margin: 0 0.25em; line-height: 1; border-radius: 0.35em;\">\n",
       "    Madrid\n",
       "    <span style=\"font-size: 0.8em; font-weight: bold; line-height: 1; border-radius: 0.35em; vertical-align: middle; margin-left: 0.5rem\">LOC</span>\n",
       "</mark>\n",
       ", \n",
       "<mark class=\"entity\" style=\"background: #bf80ff; padding: 0.45em 0.6em; margin: 0 0.25em; line-height: 1; border-radius: 0.35em;\">\n",
       "    den 22. März\n",
       "    <span style=\"font-size: 0.8em; font-weight: bold; line-height: 1; border-radius: 0.35em; vertical-align: middle; margin-left: 0.5rem\">DAT</span>\n",
       "</mark>\n",
       ".</br></br>\tBis jetzt ist zwar noch nichts Offtien*?* darüber bekannt gemacht worden, daß Ihre Maiestat die Königin sich in gesegneten LcibeSumständcn befind«; man ist jedoch darüber im Publikum außer Zweifel, und, wie es verlautet, wird eine amtliche Kundmachung über diese« in jeder Beziehung für \n",
       "<mark class=\"entity\" style=\"background: #a88676; padding: 0.45em 0.6em; margin: 0 0.25em; line-height: 1; border-radius: 0.35em;\">\n",
       "    Spanien\n",
       "    <span style=\"font-size: 0.8em; font-weight: bold; line-height: 1; border-radius: 0.35em; vertical-align: middle; margin-left: 0.5rem\">LOC</span>\n",
       "</mark>\n",
       " höchst glücklich« Ereigniß in der ersten Hälfte des künftigen Monats staufinden. — Die Kaiserin von \n",
       "<mark class=\"entity\" style=\"background: #a88676; padding: 0.45em 0.6em; margin: 0 0.25em; line-height: 1; border-radius: 0.35em;\">\n",
       "    Oesterreich\n",
       "    <span style=\"font-size: 0.8em; font-weight: bold; line-height: 1; border-radius: 0.35em; vertical-align: middle; margin-left: 0.5rem\">LOC</span>\n",
       "</mark>\n",
       " hat der Königin den Stern-Kreuz-Orden verliehen, und dem hiesigew Oesterreicdiscden Gesandten, \n",
       "<mark class=\"entity\" style=\"background: #ffb366; padding: 0.45em 0.6em; margin: 0 0.25em; line-height: 1; border-radius: 0.35em;\">\n",
       "    Grafen Brunetti\n",
       "    <span style=\"font-size: 0.8em; font-weight: bold; line-height: 1; border-radius: 0.35em; vertical-align: middle; margin-left: 0.5rem\">PER</span>\n",
       "</mark>\n",
       ", ist die Ehre zu Theil geworden, Ihrer Majestät die Jnsignien deS gedachten Ordens zu überreichen. (Pr.Lt.-A.)</br>Der strenge Winter, welcher dieses Jahr \n",
       "<mark class=\"entity\" style=\"background: #a88676; padding: 0.45em 0.6em; margin: 0 0.25em; line-height: 1; border-radius: 0.35em;\">\n",
       "    Spanien\n",
       "    <span style=\"font-size: 0.8em; font-weight: bold; line-height: 1; border-radius: 0.35em; vertical-align: middle; margin-left: 0.5rem\">LOC</span>\n",
       "</mark>\n",
       " heimsuchte, har auch im südlichsten Theile, nämlich an der Küste von Granada, viel Unheil angerichtete Be» richre der Marinebehörden in \n",
       "<mark class=\"entity\" style=\"background: #a88676; padding: 0.45em 0.6em; margin: 0 0.25em; line-height: 1; border-radius: 0.35em;\">\n",
       "    Mahon\n",
       "    <span style=\"font-size: 0.8em; font-weight: bold; line-height: 1; border-radius: 0.35em; vertical-align: middle; margin-left: 0.5rem\">LOC</span>\n",
       "</mark>\n",
       " (Minork») melden, daß durch den strengen Winter, vielen \n",
       "<mark class=\"entity\" style=\"background: #4cafd9; padding: 0.45em 0.6em; margin: 0 0.25em; line-height: 1; border-radius: 0.35em;\">\n",
       "    Schnee «nv die\n",
       "    <span style=\"font-size: 0.8em; font-weight: bold; line-height: 1; border-radius: 0.35em; vertical-align: middle; margin-left: 0.5rem\">WEA</span>\n",
       "</mark>\n",
       " großen Srürme sich der obere Theil eines am Eingang des HafenS gelegenen, ziemlich bedeutenden FelfenstückcS abgelöst und vielen Schaden in den unter demselben befindliehen Waarenmagvzinen und Quais veranlaßt habe. Der in das Meer gestürzte obere Theil hatte 9620 Kubikfuß. \n",
       "<mark class=\"entity\" style=\"background: #ffb366; padding: 0.45em 0.6em; margin: 0 0.25em; line-height: 1; border-radius: 0.35em;\">\n",
       "    Aehn Magazine\n",
       "    <span style=\"font-size: 0.8em; font-weight: bold; line-height: 1; border-radius: 0.35em; vertical-align: middle; margin-left: 0.5rem\">PER</span>\n",
       "</mark>\n",
       " find zertrümmert und eine Strecke deö HasendanuncS von 44 Span. Ellen ift ebenfalls ganz zu Grunde gerichtet werden. (Brl. Nchr.)</div></span>"
      ],
      "text/plain": [
       "<IPython.core.display.HTML object>"
      ]
     },
     "metadata": {},
     "output_type": "display_data"
    }
   ],
   "source": [
    "example()"
   ]
  },
  {
   "cell_type": "code",
   "execution_count": 46,
   "id": "4a5222c0",
   "metadata": {},
   "outputs": [],
   "source": [
    "import gensim\n",
    "import pandas as pd\n",
    "import json\n",
    "import itertools"
   ]
  },
  {
   "cell_type": "code",
   "execution_count": 3,
   "id": "5b65e68f",
   "metadata": {},
   "outputs": [],
   "source": [
    "model = gensim.models.keyedvectors.KeyedVectors.load_word2vec_format('../data/models/word2vec_251021/w2v_model.txt')"
   ]
  },
  {
   "cell_type": "code",
   "execution_count": 14,
   "id": "a80c97c0",
   "metadata": {},
   "outputs": [],
   "source": [
    "def create_similarity_df(words, model):\n",
    "    data = {}\n",
    "    for word in words:\n",
    "        similars = model.most_similar(word, topn=10)\n",
    "        data[word] = [word for (word, num) in similars]\n",
    "        data[word+' sim'] = [round(num, 3) for (word, num) in similars]\n",
    "        \n",
    "    return pd.DataFrame(data)"
   ]
  },
  {
   "cell_type": "code",
   "execution_count": 27,
   "id": "8f382ac4",
   "metadata": {},
   "outputs": [
    {
     "name": "stdout",
     "output_type": "stream",
     "text": [
      "\\begin{tabular}{llrlrlrlr}\n",
      "\\toprule\n",
      "{} &       Amerika &  Amerika sim &              Krieg &  Krieg sim &    schnell &  schnell sim &     nehmen &  nehmen sim \\\\\n",
      "\\midrule\n",
      "0 &   Nordamerika &        0.845 &             Kriege &      0.839 &      rasch &        0.938 &     nebmen &       0.929 \\\\\n",
      "1 &    Australien &        0.779 &            Krieges &      0.740 &    langsam &        0.758 &     uehmen &       0.907 \\\\\n",
      "2 &    Südamerika &        0.777 &       Bürgerkriege &      0.735 &  schneller &        0.749 &   genommen &       0.893 \\\\\n",
      "3 &        Canada &        0.755 &        Bürgerkrieg &      0.721 &    rascher &        0.743 &     nähmen &       0.882 \\\\\n",
      "4 &   Kalifornien &        0.743 &      Angriffskrieg &      0.710 &    alsbald &        0.658 &      nehme &       0.871 \\\\\n",
      "5 &  Nord-Amerika &        0.731 &  Vernichtungskrieg &      0.675 &      eilig &        0.655 &  nehmenden &       0.852 \\\\\n",
      "6 &       England &        0.730 &            Feldzug &      0.671 &   sogleich &        0.653 &   nehmende &       0.806 \\\\\n",
      "7 &   Californien &        0.726 &            Frieden &      0.671 &     sobald &        0.652 &      nimmt &       0.801 \\\\\n",
      "8 &          rika &        0.722 &              Kampf &      0.656 &     sosort &        0.640 &      ehmen &       0.783 \\\\\n",
      "9 &           Ame &        0.710 &              Kamps &      0.656 &     sofort &        0.640 &     nedmen &       0.778 \\\\\n",
      "\\bottomrule\n",
      "\\end{tabular}\n",
      "\n"
     ]
    }
   ],
   "source": [
    "print(create_similarity_df(['Amerika', 'Krieg', 'schnell', 'nehmen'], model).to_latex())"
   ]
  },
  {
   "cell_type": "code",
   "execution_count": 29,
   "id": "74bfdc54",
   "metadata": {},
   "outputs": [],
   "source": [
    "with open('../pipeline/weather_events.json', 'r', encoding='utf8') as f:\n",
    "    events = json.load(f)"
   ]
  },
  {
   "cell_type": "code",
   "execution_count": 44,
   "id": "7d7f5e44",
   "metadata": {},
   "outputs": [],
   "source": [
    "for cat, words in events.items():\n",
    "    events[cat] = [word for word in words if model.has_index_for(word)]"
   ]
  },
  {
   "cell_type": "code",
   "execution_count": 53,
   "id": "12f5c633",
   "metadata": {},
   "outputs": [
    {
     "data": {
      "text/plain": [
       "62"
      ]
     },
     "execution_count": 53,
     "metadata": {},
     "output_type": "execute_result"
    }
   ],
   "source": [
    "len(list(itertools.chain.from_iterable(events.values())))"
   ]
  },
  {
   "cell_type": "code",
   "execution_count": 43,
   "id": "7753d929",
   "metadata": {},
   "outputs": [
    {
     "data": {
      "text/plain": [
       "False"
      ]
     },
     "execution_count": 43,
     "metadata": {},
     "output_type": "execute_result"
    }
   ],
   "source": [
    "model.has_index_for('Kältewelle')"
   ]
  },
  {
   "cell_type": "code",
   "execution_count": 81,
   "id": "93f52117",
   "metadata": {},
   "outputs": [],
   "source": [
    "ensemble = pd.DataFrame.from_dict(events, orient='index').transpose().fillna('')\n",
    "ensemble = ensemble[['precipitations', 'wind', 'flood', 'temperature', 'temperature', 'general']]"
   ]
  },
  {
   "cell_type": "code",
   "execution_count": 96,
   "id": "d042beb3",
   "metadata": {},
   "outputs": [
    {
     "name": "stdout",
     "output_type": "stream",
     "text": [
      "\\begin{tabular}{llll}\n",
      "\\toprule\n",
      "        col1 &        col2 &           col3 &       col4 \\\\\n",
      "\\midrule\n",
      "       Regen &    Gewitter &        Südwind &       Thau \\\\\n",
      "   Regenfall &       Nebel &    Südwestwind & Thauwetter \\\\\n",
      "Niederschlag &        Wind &       Westwind &      Kälte \\\\\n",
      "Regenschauer &       Sturm &   Nordwestwind &      Wärme \\\\\n",
      " Wolkenbruch &   Sturmwind &       Nordwind &      Hitze \\\\\n",
      "   Regenguss &     Tornado &    Nordostwind &      Frost \\\\\n",
      "      Schnee &       Orkan &        Ostwind &     Wetter \\\\\n",
      "  Schneefall &  Wirbelwind &     Südostwind &  Witterung \\\\\n",
      "       Dürre & Wirbelsturm &           Flut &      Klima \\\\\n",
      "       Hagel &    Unwetter &     Hochwasser & Windstärke \\\\\n",
      " Hagelschlag &      Taifun & Überschwemmung &  Luftdruck \\\\\n",
      "\\bottomrule\n",
      "\\end{tabular}\n",
      "\n"
     ]
    }
   ],
   "source": [
    "clean_events = [\n",
    "    'Regen',\n",
    "    'Regenfall',\n",
    "    'Niederschlag',\n",
    "    'Regenschauer',\n",
    "    'Wolkenbruch',\n",
    "    'Regenguss',\n",
    "    'Schnee',\n",
    "    'Schneefall',\n",
    "    'Dürre',\n",
    "    'Hagel',\n",
    "    'Hagelschlag',\n",
    "    'Gewitter',\n",
    "    'Nebel',\n",
    "    'Wind',\n",
    "    'Sturm',\n",
    "    'Sturmwind',\n",
    "    'Tornado',\n",
    "    'Orkan',\n",
    "    'Wirbelwind',\n",
    "    'Wirbelsturm',\n",
    "    'Unwetter',\n",
    "    'Taifun',\n",
    "    'Südwind',\n",
    "    'Südwestwind',\n",
    "    'Westwind',\n",
    "    'Nordwestwind',\n",
    "    'Nordwind',\n",
    "    'Nordostwind',\n",
    "    'Ostwind',\n",
    "    'Südostwind',\n",
    "    'Flut',\n",
    "    'Hochwasser',\n",
    "    'Überschwemmung',\n",
    "    'Thau',\n",
    "    'Thauwetter',\n",
    "    'Kälte',\n",
    "    'Wärme',\n",
    "    'Hitze',\n",
    "    'Frost',\n",
    "    'Wetter',\n",
    "    'Witterung',\n",
    "    'Klima',\n",
    "    'Windstärke',\n",
    "    'Luftdruck']\n",
    "\n",
    "clean_events_dict ={'col1': clean_events[:11],\n",
    "                   'col2': clean_events[11:22],\n",
    "                   'col3': clean_events[22:33],\n",
    "                   'col4': clean_events[33:]}\n",
    "\n",
    "print(pd.DataFrame.from_dict(clean_events_dict, orient='index').transpose().fillna('').to_latex(index=False))"
   ]
  },
  {
   "cell_type": "code",
   "execution_count": 95,
   "id": "bc92ac44",
   "metadata": {},
   "outputs": [
    {
     "data": {
      "text/plain": [
       "44"
      ]
     },
     "execution_count": 95,
     "metadata": {},
     "output_type": "execute_result"
    }
   ],
   "source": [
    "ensemble.to_latex()"
   ]
  },
  {
   "cell_type": "code",
   "execution_count": 6,
   "id": "9f3cb241",
   "metadata": {},
   "outputs": [
    {
     "data": {
      "text/plain": [
       "['Warme',\n",
       " 'wärmer',\n",
       " 'Temperatnr',\n",
       " 'ausstrahlende',\n",
       " 'Wirme',\n",
       " 'Gefrierpunkt',\n",
       " 'Wärm',\n",
       " 'Kälte',\n",
       " 'kälter',\n",
       " 'Sonnenwärme',\n",
       " 'Reaumur',\n",
       " 'wärmere',\n",
       " 'Kühle',\n",
       " 'Ausstrahlung',\n",
       " 'Temperatur',\n",
       " 'intensiv',\n",
       " 'erwärmte',\n",
       " 'erwärmt',\n",
       " 'wärme',\n",
       " 'intensiver',\n",
       " 'Fahrenheit',\n",
       " 'kälteren',\n",
       " 'Külte',\n",
       " 'feuchter',\n",
       " 'Thermometers',\n",
       " 'erwärmende',\n",
       " 'kühlerer',\n",
       " 'Rêaumur',\n",
       " 'eisiger',\n",
       " 'Innigkeit']"
      ]
     },
     "execution_count": 6,
     "metadata": {},
     "output_type": "execute_result"
    }
   ],
   "source": [
    "[word for (word, num) in similars]"
   ]
  },
  {
   "cell_type": "code",
   "execution_count": 82,
   "id": "1269d682",
   "metadata": {},
   "outputs": [],
   "source": [
    "from spacy.pipeline.spancat import DEFAULT_SPANCAT_MODEL"
   ]
  },
  {
   "cell_type": "code",
   "execution_count": 84,
   "id": "a0e36bc7",
   "metadata": {},
   "outputs": [],
   "source": [
    "spancat = DEFAULT_SPANCAT_MODEL"
   ]
  },
  {
   "cell_type": "code",
   "execution_count": 86,
   "id": "ae62ec10",
   "metadata": {},
   "outputs": [
    {
     "data": {
      "text/plain": [
       "dict_items([('@architectures', 'spacy.SpanCategorizer.v1'), ('scorer', {'@layers': 'spacy.LinearLogistic.v1'}), ('reducer', {'@layers': 'spacy.mean_max_reducer.v1', 'hidden_size': 128}), ('tok2vec', {'@architectures': 'spacy.Tok2Vec.v1', 'embed': {'@architectures': 'spacy.MultiHashEmbed.v1', 'width': 96, 'rows': [5000, 2000, 1000, 1000], 'attrs': ['ORTH', 'PREFIX', 'SUFFIX', 'SHAPE'], 'include_static_vectors': False}, 'encode': {'@architectures': 'spacy.MaxoutWindowEncoder.v1', 'width': 96, 'window_size': 1, 'maxout_pieces': 3, 'depth': 4}})])"
      ]
     },
     "execution_count": 86,
     "metadata": {},
     "output_type": "execute_result"
    }
   ],
   "source": [
    "spancat."
   ]
  },
  {
   "cell_type": "code",
   "execution_count": null,
   "id": "7704daf6",
   "metadata": {},
   "outputs": [],
   "source": []
  },
  {
   "cell_type": "code",
   "execution_count": null,
   "id": "1146e48b",
   "metadata": {},
   "outputs": [],
   "source": []
  }
 ],
 "metadata": {
  "kernelspec": {
   "display_name": "Python 3 (ipykernel)",
   "language": "python",
   "name": "python3"
  },
  "language_info": {
   "codemirror_mode": {
    "name": "ipython",
    "version": 3
   },
   "file_extension": ".py",
   "mimetype": "text/x-python",
   "name": "python",
   "nbconvert_exporter": "python",
   "pygments_lexer": "ipython3",
   "version": "3.9.2"
  }
 },
 "nbformat": 4,
 "nbformat_minor": 5
}
