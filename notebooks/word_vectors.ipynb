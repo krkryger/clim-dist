{
 "cells": [
  {
   "cell_type": "code",
   "execution_count": 1,
   "id": "95ed74a5",
   "metadata": {},
   "outputs": [],
   "source": [
    "import spacy\n",
    "from spacy import displacy\n",
    "import pandas as pd\n",
    "import numpy as np"
   ]
  },
  {
   "cell_type": "code",
   "execution_count": 2,
   "id": "e71437b6",
   "metadata": {},
   "outputs": [],
   "source": [
    "# lisab NERi tõhjale 'de' mudelile, kuhu on juba cmd-ga vektorid lisatud\n",
    "\n",
    "# nlp = spacy.load('../data/models/main/')\n",
    "# nlp.add_pipe('ner')\n",
    "# nlp.to_disk('../data/models/main/')"
   ]
  },
  {
   "cell_type": "code",
   "execution_count": 70,
   "id": "3a4ed589",
   "metadata": {},
   "outputs": [],
   "source": [
    "nlp = spacy.load('../data/models/main_2/model-best/')"
   ]
  },
  {
   "cell_type": "code",
   "execution_count": 7,
   "id": "25197c15",
   "metadata": {},
   "outputs": [
    {
     "data": {
      "text/plain": [
       "[('ner', <spacy.pipeline.ner.EntityRecognizer at 0x1fd8fc58fa0>)]"
      ]
     },
     "execution_count": 7,
     "metadata": {},
     "output_type": "execute_result"
    }
   ],
   "source": [
    "nlp.pipeline"
   ]
  },
  {
   "cell_type": "code",
   "execution_count": 59,
   "id": "32142995",
   "metadata": {},
   "outputs": [],
   "source": [
    "de_core_news = spacy.load('de_core_news_md')"
   ]
  },
  {
   "cell_type": "code",
   "execution_count": 9,
   "id": "df4db5f1",
   "metadata": {},
   "outputs": [],
   "source": [
    "df = pd.read_parquet('../data/processed/RZ_sample.parquet')"
   ]
  },
  {
   "cell_type": "code",
   "execution_count": 65,
   "id": "9ed940a9",
   "metadata": {},
   "outputs": [],
   "source": [
    "displacy_color_code = {'WEA': '#4cafd9',\n",
    "                  'PER': '#ffb366',\n",
    "                  'DAT': '#bf80ff',\n",
    "                  'LOC': '#a88676'}\n",
    "\n",
    "displacy_options = {'ents': ['WEA', 'PER', 'DAT', 'LOC'], 'colors': displacy_color_code}\n",
    "\n",
    "def example():\n",
    "    \n",
    "    wea = 0\n",
    "    \n",
    "    while wea == 0:\n",
    "        i = np.random.randint(len(df))\n",
    "        text = df.full_text.iloc[i]\n",
    "        year = df.year.iloc[i]\n",
    "        doc = nlp(text)\n",
    "        if 'WEA' in set([ent.label_ for ent in doc.ents]):\n",
    "            wea = 1\n",
    "        \n",
    "    print(year, '\\n')\n",
    "    displacy.render(doc, style='ent', jupyter=True, options=displacy_options)"
   ]
  },
  {
   "cell_type": "code",
   "execution_count": 81,
   "id": "acb64011",
   "metadata": {
    "scrolled": true
   },
   "outputs": [
    {
     "name": "stdout",
     "output_type": "stream",
     "text": [
      "1830 \n",
      "\n"
     ]
    },
    {
     "data": {
      "text/html": [
       "<span class=\"tex2jax_ignore\"><div class=\"entities\" style=\"line-height: 2.5; direction: ltr\">\n",
       "<mark class=\"entity\" style=\"background: #a88676; padding: 0.45em 0.6em; margin: 0 0.25em; line-height: 1; border-radius: 0.35em;\">\n",
       "    Madrid\n",
       "    <span style=\"font-size: 0.8em; font-weight: bold; line-height: 1; border-radius: 0.35em; vertical-align: middle; margin-left: 0.5rem\">LOC</span>\n",
       "</mark>\n",
       ", \n",
       "<mark class=\"entity\" style=\"background: #bf80ff; padding: 0.45em 0.6em; margin: 0 0.25em; line-height: 1; border-radius: 0.35em;\">\n",
       "    den 22. März\n",
       "    <span style=\"font-size: 0.8em; font-weight: bold; line-height: 1; border-radius: 0.35em; vertical-align: middle; margin-left: 0.5rem\">DAT</span>\n",
       "</mark>\n",
       ".</br></br>\tBis jetzt ist zwar noch nichts Offtien*?* darüber bekannt gemacht worden, daß Ihre Maiestat die Königin sich in gesegneten LcibeSumständcn befind«; man ist jedoch darüber im Publikum außer Zweifel, und, wie es verlautet, wird eine amtliche Kundmachung über diese« in jeder Beziehung für \n",
       "<mark class=\"entity\" style=\"background: #a88676; padding: 0.45em 0.6em; margin: 0 0.25em; line-height: 1; border-radius: 0.35em;\">\n",
       "    Spanien\n",
       "    <span style=\"font-size: 0.8em; font-weight: bold; line-height: 1; border-radius: 0.35em; vertical-align: middle; margin-left: 0.5rem\">LOC</span>\n",
       "</mark>\n",
       " höchst glücklich« Ereigniß in der ersten Hälfte des künftigen Monats staufinden. — Die Kaiserin von \n",
       "<mark class=\"entity\" style=\"background: #a88676; padding: 0.45em 0.6em; margin: 0 0.25em; line-height: 1; border-radius: 0.35em;\">\n",
       "    Oesterreich\n",
       "    <span style=\"font-size: 0.8em; font-weight: bold; line-height: 1; border-radius: 0.35em; vertical-align: middle; margin-left: 0.5rem\">LOC</span>\n",
       "</mark>\n",
       " hat der Königin den Stern-Kreuz-Orden verliehen, und dem hiesigew Oesterreicdiscden Gesandten, \n",
       "<mark class=\"entity\" style=\"background: #ffb366; padding: 0.45em 0.6em; margin: 0 0.25em; line-height: 1; border-radius: 0.35em;\">\n",
       "    Grafen Brunetti\n",
       "    <span style=\"font-size: 0.8em; font-weight: bold; line-height: 1; border-radius: 0.35em; vertical-align: middle; margin-left: 0.5rem\">PER</span>\n",
       "</mark>\n",
       ", ist die Ehre zu Theil geworden, Ihrer Majestät die Jnsignien deS gedachten Ordens zu überreichen. (Pr.Lt.-A.)</br>Der strenge Winter, welcher dieses Jahr \n",
       "<mark class=\"entity\" style=\"background: #a88676; padding: 0.45em 0.6em; margin: 0 0.25em; line-height: 1; border-radius: 0.35em;\">\n",
       "    Spanien\n",
       "    <span style=\"font-size: 0.8em; font-weight: bold; line-height: 1; border-radius: 0.35em; vertical-align: middle; margin-left: 0.5rem\">LOC</span>\n",
       "</mark>\n",
       " heimsuchte, har auch im südlichsten Theile, nämlich an der Küste von Granada, viel Unheil angerichtete Be» richre der Marinebehörden in \n",
       "<mark class=\"entity\" style=\"background: #a88676; padding: 0.45em 0.6em; margin: 0 0.25em; line-height: 1; border-radius: 0.35em;\">\n",
       "    Mahon\n",
       "    <span style=\"font-size: 0.8em; font-weight: bold; line-height: 1; border-radius: 0.35em; vertical-align: middle; margin-left: 0.5rem\">LOC</span>\n",
       "</mark>\n",
       " (Minork») melden, daß durch den strengen Winter, vielen \n",
       "<mark class=\"entity\" style=\"background: #4cafd9; padding: 0.45em 0.6em; margin: 0 0.25em; line-height: 1; border-radius: 0.35em;\">\n",
       "    Schnee «nv die\n",
       "    <span style=\"font-size: 0.8em; font-weight: bold; line-height: 1; border-radius: 0.35em; vertical-align: middle; margin-left: 0.5rem\">WEA</span>\n",
       "</mark>\n",
       " großen Srürme sich der obere Theil eines am Eingang des HafenS gelegenen, ziemlich bedeutenden FelfenstückcS abgelöst und vielen Schaden in den unter demselben befindliehen Waarenmagvzinen und Quais veranlaßt habe. Der in das Meer gestürzte obere Theil hatte 9620 Kubikfuß. \n",
       "<mark class=\"entity\" style=\"background: #ffb366; padding: 0.45em 0.6em; margin: 0 0.25em; line-height: 1; border-radius: 0.35em;\">\n",
       "    Aehn Magazine\n",
       "    <span style=\"font-size: 0.8em; font-weight: bold; line-height: 1; border-radius: 0.35em; vertical-align: middle; margin-left: 0.5rem\">PER</span>\n",
       "</mark>\n",
       " find zertrümmert und eine Strecke deö HasendanuncS von 44 Span. Ellen ift ebenfalls ganz zu Grunde gerichtet werden. (Brl. Nchr.)</div></span>"
      ],
      "text/plain": [
       "<IPython.core.display.HTML object>"
      ]
     },
     "metadata": {},
     "output_type": "display_data"
    }
   ],
   "source": [
    "example()"
   ]
  },
  {
   "cell_type": "code",
   "execution_count": 3,
   "id": "4a5222c0",
   "metadata": {},
   "outputs": [],
   "source": [
    "import gensim"
   ]
  },
  {
   "cell_type": "code",
   "execution_count": 4,
   "id": "5b65e68f",
   "metadata": {},
   "outputs": [],
   "source": [
    "model = gensim.models.keyedvectors.KeyedVectors.load_word2vec_format('../data/models/word2vec_251021/w2v_model.txt')"
   ]
  },
  {
   "cell_type": "code",
   "execution_count": 5,
   "id": "74bfdc54",
   "metadata": {},
   "outputs": [
    {
     "data": {
      "text/plain": [
       "[('Warme', 0.7943295240402222),\n",
       " ('wärmer', 0.6470202207565308),\n",
       " ('Temperatnr', 0.6255499124526978),\n",
       " ('ausstrahlende', 0.6227114200592041),\n",
       " ('Wirme', 0.6134321093559265),\n",
       " ('Gefrierpunkt', 0.6067052483558655),\n",
       " ('Wärm', 0.6052025556564331),\n",
       " ('Kälte', 0.6050214767456055),\n",
       " ('kälter', 0.5980657935142517),\n",
       " ('Sonnenwärme', 0.5904731750488281),\n",
       " ('Reaumur', 0.5872997045516968),\n",
       " ('wärmere', 0.5872786045074463),\n",
       " ('Kühle', 0.5867332816123962),\n",
       " ('Ausstrahlung', 0.5806692838668823),\n",
       " ('Temperatur', 0.5784103870391846),\n",
       " ('intensiv', 0.575846254825592),\n",
       " ('erwärmte', 0.564342200756073),\n",
       " ('erwärmt', 0.561190664768219),\n",
       " ('wärme', 0.561089277267456),\n",
       " ('intensiver', 0.559658944606781),\n",
       " ('Fahrenheit', 0.5547251105308533),\n",
       " ('kälteren', 0.5529605746269226),\n",
       " ('Külte', 0.5519946813583374),\n",
       " ('feuchter', 0.5495530962944031),\n",
       " ('Thermometers', 0.5482785105705261),\n",
       " ('erwärmende', 0.5480726361274719),\n",
       " ('kühlerer', 0.5478411912918091),\n",
       " ('Rêaumur', 0.5472375750541687),\n",
       " ('eisiger', 0.5452985763549805),\n",
       " ('Innigkeit', 0.5438998341560364)]"
      ]
     },
     "execution_count": 5,
     "metadata": {},
     "output_type": "execute_result"
    }
   ],
   "source": [
    "model.most_similar('Wärme',topn=30)"
   ]
  },
  {
   "cell_type": "code",
   "execution_count": 82,
   "id": "1269d682",
   "metadata": {},
   "outputs": [],
   "source": [
    "from spacy.pipeline.spancat import DEFAULT_SPANCAT_MODEL"
   ]
  },
  {
   "cell_type": "code",
   "execution_count": 84,
   "id": "a0e36bc7",
   "metadata": {},
   "outputs": [],
   "source": [
    "spancat = DEFAULT_SPANCAT_MODEL"
   ]
  },
  {
   "cell_type": "code",
   "execution_count": 86,
   "id": "ae62ec10",
   "metadata": {},
   "outputs": [
    {
     "data": {
      "text/plain": [
       "dict_items([('@architectures', 'spacy.SpanCategorizer.v1'), ('scorer', {'@layers': 'spacy.LinearLogistic.v1'}), ('reducer', {'@layers': 'spacy.mean_max_reducer.v1', 'hidden_size': 128}), ('tok2vec', {'@architectures': 'spacy.Tok2Vec.v1', 'embed': {'@architectures': 'spacy.MultiHashEmbed.v1', 'width': 96, 'rows': [5000, 2000, 1000, 1000], 'attrs': ['ORTH', 'PREFIX', 'SUFFIX', 'SHAPE'], 'include_static_vectors': False}, 'encode': {'@architectures': 'spacy.MaxoutWindowEncoder.v1', 'width': 96, 'window_size': 1, 'maxout_pieces': 3, 'depth': 4}})])"
      ]
     },
     "execution_count": 86,
     "metadata": {},
     "output_type": "execute_result"
    }
   ],
   "source": [
    "spancat."
   ]
  },
  {
   "cell_type": "code",
   "execution_count": null,
   "id": "7704daf6",
   "metadata": {},
   "outputs": [],
   "source": []
  },
  {
   "cell_type": "code",
   "execution_count": null,
   "id": "1146e48b",
   "metadata": {},
   "outputs": [],
   "source": []
  }
 ],
 "metadata": {
  "kernelspec": {
   "display_name": "Python 3 (ipykernel)",
   "language": "python",
   "name": "python3"
  },
  "language_info": {
   "codemirror_mode": {
    "name": "ipython",
    "version": 3
   },
   "file_extension": ".py",
   "mimetype": "text/x-python",
   "name": "python",
   "nbconvert_exporter": "python",
   "pygments_lexer": "ipython3",
   "version": "3.9.2"
  }
 },
 "nbformat": 4,
 "nbformat_minor": 5
}
