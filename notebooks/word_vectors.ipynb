{
 "cells": [
  {
   "cell_type": "code",
   "execution_count": 8,
   "id": "listed-tobacco",
   "metadata": {},
   "outputs": [],
   "source": [
    "import pandas as pd\n",
    "import json\n",
    "import spacy\n",
    "import concurrent.futures\n",
    "import multiprocessing\n",
    "import time"
   ]
  },
  {
   "cell_type": "code",
   "execution_count": 6,
   "id": "affected-apparatus",
   "metadata": {},
   "outputs": [],
   "source": [
    "nlp = spacy.load('de_core_news_md')"
   ]
  },
  {
   "cell_type": "code",
   "execution_count": 4,
   "id": "promising-surge",
   "metadata": {},
   "outputs": [
    {
     "data": {
      "text/plain": [
       "8"
      ]
     },
     "execution_count": 4,
     "metadata": {},
     "output_type": "execute_result"
    }
   ],
   "source": [
    "multiprocessing.cpu_count()"
   ]
  },
  {
   "cell_type": "code",
   "execution_count": null,
   "id": "electronic-sender",
   "metadata": {},
   "outputs": [],
   "source": [
    "def create_sentences_for_vec(df):\n",
    "\n",
    "    corpus = []\n",
    "\n",
    "    for i in tqdm(df.index):\n",
    "        text = df.loc[i, 'full_text']\n",
    "        doc = nlp(text)\n",
    "\n",
    "        for sent in doc.sents:\n",
    "            sent_list = []\n",
    "            for word in sent:\n",
    "                if not word.is_stop:\n",
    "                    sent_list.append(word.text)\n",
    "\n",
    "        corpus.append(sent_list)\n",
    "\n",
    "    return corpus\n",
    "\n",
    "\n",
    "if __name__ == '__main__':\n",
    "    \n",
    "    cpu_count = multiprocessing.cpu_count()\n",
    "    \n",
    "    all_sentences = []\n",
    "\n",
    "    print(f'Starting main')\n",
    "    start = time.perf_counter()\n",
    "\n",
    "    print('Importing df')\n",
    "    df = pd.read_parquet('../data/processed/RZ_sample.parquet')\n",
    "    \n",
    "    print('Processing')\n",
    "    with concurrent.futures.ProcessPoolExecutor(max_workers=cpu_count) as executor:\n",
    "        frames = cpu_count*[df.sample(100)]\n",
    "        results = [executor.submit(create_sentences_for_vec, df) for df in frames]\n",
    "\n",
    "        for f in concurrent.futures.as_completed(results):\n",
    "            print(len(f.result()))\n",
    "            print(type(f.result()))\n",
    "            all_sentences += f.result()\n",
    "            \n",
    "    with open('../temp/sentences_test.json', 'w', encoding='utf8') as f:\n",
    "        json.dump(all_sentences, f)\n",
    "            \n",
    "\n",
    "    stop = time.perf_counter()\n",
    "\n",
    "    print(f'Finished in {round(stop-start, 2)} seconds')"
   ]
  },
  {
   "cell_type": "code",
   "execution_count": 1,
   "id": "complex-orbit",
   "metadata": {},
   "outputs": [],
   "source": [
    "import json"
   ]
  },
  {
   "cell_type": "code",
   "execution_count": 2,
   "id": "defined-poker",
   "metadata": {},
   "outputs": [],
   "source": [
    "with open('../temp/sentences_test.json', 'r', encoding='utf8') as f:\n",
    "    sentences = json.load(f)"
   ]
  },
  {
   "cell_type": "code",
   "execution_count": 5,
   "id": "massive-possible",
   "metadata": {},
   "outputs": [
    {
     "name": "stdout",
     "output_type": "stream",
     "text": [
      "7992\n"
     ]
    }
   ],
   "source": [
    "phrases = 0\n",
    "\n",
    "for part in sentences:\n",
    "    phrases += len(part)\n",
    "    \n",
    "print(phrases)"
   ]
  },
  {
   "cell_type": "code",
   "execution_count": 6,
   "id": "separate-fantasy",
   "metadata": {},
   "outputs": [],
   "source": [
    "import numpy as np"
   ]
  },
  {
   "cell_type": "code",
   "execution_count": 39,
   "id": "caring-semester",
   "metadata": {},
   "outputs": [
    {
     "data": {
      "text/plain": [
       "['ae']"
      ]
     },
     "execution_count": 39,
     "metadata": {},
     "output_type": "execute_result"
    }
   ],
   "source": [
    "sentences[np.random.randint(800)]"
   ]
  },
  {
   "cell_type": "code",
   "execution_count": 8,
   "id": "quick-bottle",
   "metadata": {},
   "outputs": [
    {
     "data": {
      "text/plain": [
       "800"
      ]
     },
     "execution_count": 8,
     "metadata": {},
     "output_type": "execute_result"
    }
   ],
   "source": [
    "len(sentences)"
   ]
  },
  {
   "cell_type": "code",
   "execution_count": 10,
   "id": "capable-strategy",
   "metadata": {},
   "outputs": [
    {
     "data": {
      "text/plain": [
       "['—',\n",
       " 'd—',\n",
       " '\\n',\n",
       " 'b.',\n",
       " '(',\n",
       " 'Polizei',\n",
       " ')',\n",
       " 'eingeliefert',\n",
       " 'herre',\n",
       " '»',\n",
       " 'loser',\n",
       " 'Hund',\n",
       " '.']"
      ]
     },
     "execution_count": 10,
     "metadata": {},
     "output_type": "execute_result"
    }
   ],
   "source": [
    "sentences[2]"
   ]
  },
  {
   "cell_type": "code",
   "execution_count": null,
   "id": "foreign-victim",
   "metadata": {},
   "outputs": [],
   "source": []
  },
  {
   "cell_type": "code",
   "execution_count": null,
   "id": "under-winter",
   "metadata": {},
   "outputs": [],
   "source": []
  },
  {
   "cell_type": "code",
   "execution_count": null,
   "id": "dominant-assessment",
   "metadata": {},
   "outputs": [],
   "source": []
  },
  {
   "cell_type": "code",
   "execution_count": null,
   "id": "accepting-health",
   "metadata": {},
   "outputs": [],
   "source": []
  },
  {
   "cell_type": "code",
   "execution_count": null,
   "id": "champion-sauce",
   "metadata": {},
   "outputs": [],
   "source": []
  }
 ],
 "metadata": {
  "kernelspec": {
   "display_name": "Python 3",
   "language": "python",
   "name": "python3"
  },
  "language_info": {
   "codemirror_mode": {
    "name": "ipython",
    "version": 3
   },
   "file_extension": ".py",
   "mimetype": "text/x-python",
   "name": "python",
   "nbconvert_exporter": "python",
   "pygments_lexer": "ipython3",
   "version": "3.9.2"
  }
 },
 "nbformat": 4,
 "nbformat_minor": 5
}
