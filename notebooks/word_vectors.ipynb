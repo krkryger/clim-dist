{
 "cells": [
  {
   "cell_type": "code",
   "execution_count": null,
   "id": "65d6b063",
   "metadata": {},
   "outputs": [],
   "source": [
    "import os\n",
    "import pandas as pd\n",
    "import numpy as np\n",
    "import gensim\n",
    "import string\n",
    "import spacy\n",
    "from tqdm import tqdm\n",
    "from climdist.data import load as cd_load\n",
    "import multiprocessing\n",
    "import time\n",
    "import json\n",
    "import copy\n",
    "import matplotlib.pyplot as plt\n",
    "import string\n",
    "from gensim.models.phrases import Phrases"
   ]
  },
  {
   "cell_type": "code",
   "execution_count": null,
   "id": "ba0df27f",
   "metadata": {},
   "outputs": [],
   "source": [
    "def sentences():\n",
    "    with open('../data/processed/RZ_sentences.jsonl', 'r', encoding='utf8') as f:\n",
    "        for line in tqdm(f.readlines()):\n",
    "            sentence = json.loads(line)\n",
    "            for key, value in sentence.items():\n",
    "                yield value\n",
    "                \n",
    "def bigram_example(n):\n",
    "    \n",
    "    choices = [np.random.choice(256996) for i in range(n)]\n",
    "    \n",
    "    with open('../data/processed/RZ_sentences.jsonl', 'r', encoding='utf8') as f:\n",
    "        for ix, line in tqdm(enumerate(f.readlines())):\n",
    "            if ix in choices:\n",
    "                print('\\n\\n', ix)\n",
    "                sentence = json.loads(line)\n",
    "                for key, value in sentence.items():\n",
    "                    phrases = bigram_model[value]\n",
    "                    for word in set([word for word in phrases if '_' in word]):\n",
    "                        print(word)"
   ]
  },
  {
   "cell_type": "code",
   "execution_count": null,
   "id": "362f4106",
   "metadata": {},
   "outputs": [],
   "source": [
    "de_connector_words = ['von', 'vom', 'den', 'des', 'der', 'die', 'das', 'zu', 'ein',\n",
    "                      'eine', 'einem', 'eines', 'nach', 'ohne', 'in']"
   ]
  },
  {
   "cell_type": "code",
   "execution_count": null,
   "id": "0e62a142",
   "metadata": {},
   "outputs": [],
   "source": [
    "start = time.perf_counter()\n",
    "bigram_model = Phrases(sentences(), min_count=50, threshold=10, connector_words=de_connector_words)\n",
    "stop = time.perf_counter()\n",
    "print(f'Finished in {round(stop-start, 2)} seconds')"
   ]
  },
  {
   "cell_type": "code",
   "execution_count": null,
   "id": "80ac1e05",
   "metadata": {},
   "outputs": [],
   "source": [
    "bigram_example(10)"
   ]
  },
  {
   "cell_type": "code",
   "execution_count": null,
   "id": "b0829bd8",
   "metadata": {},
   "outputs": [],
   "source": [
    "phrase_scores = phrase_model.find_phrases(sentences())"
   ]
  },
  {
   "cell_type": "code",
   "execution_count": null,
   "id": "7919e1d9",
   "metadata": {},
   "outputs": [],
   "source": [
    "[item for item in sorted(phrase_scores.items(), key=lambda x: x[1], reverse=True) if 'regen' in item[0]]"
   ]
  },
  {
   "cell_type": "code",
   "execution_count": null,
   "id": "77bd184a",
   "metadata": {},
   "outputs": [],
   "source": [
    "class BigramIterator(): \n",
    "    def __iter__(self):\n",
    "        for sentence in sentences():\n",
    "            yield phrase_model[sentence]"
   ]
  },
  {
   "cell_type": "code",
   "execution_count": null,
   "id": "42e1b11c",
   "metadata": {},
   "outputs": [],
   "source": [
    "start = time.perf_counter()\n",
    "\n",
    "w2v = gensim.models.Word2Vec(sentences=BigramIterator(),\n",
    "                                    vector_size=100,\n",
    "                                    min_count=10,\n",
    "                                    workers=multiprocessing.cpu_count(),\n",
    "                                    epochs=10)\n",
    "\n",
    "print(f'Finished in {round(time.perf_counter()-start, 2)} seconds')"
   ]
  },
  {
   "cell_type": "code",
   "execution_count": null,
   "id": "d3d5a149",
   "metadata": {},
   "outputs": [],
   "source": []
  },
  {
   "cell_type": "code",
   "execution_count": null,
   "id": "8c68252b",
   "metadata": {},
   "outputs": [],
   "source": []
  },
  {
   "cell_type": "code",
   "execution_count": null,
   "id": "18198d52",
   "metadata": {},
   "outputs": [],
   "source": []
  },
  {
   "cell_type": "code",
   "execution_count": null,
   "id": "24e50d06",
   "metadata": {},
   "outputs": [],
   "source": []
  },
  {
   "cell_type": "code",
   "execution_count": null,
   "id": "fd91fc37",
   "metadata": {},
   "outputs": [],
   "source": []
  },
  {
   "cell_type": "code",
   "execution_count": null,
   "id": "1c5d0732",
   "metadata": {},
   "outputs": [],
   "source": []
  },
  {
   "cell_type": "code",
   "execution_count": null,
   "id": "4b287aa4",
   "metadata": {},
   "outputs": [],
   "source": []
  }
 ],
 "metadata": {
  "kernelspec": {
   "display_name": "Python 3 (ipykernel)",
   "language": "python",
   "name": "python3"
  },
  "language_info": {
   "codemirror_mode": {
    "name": "ipython",
    "version": 3
   },
   "file_extension": ".py",
   "mimetype": "text/x-python",
   "name": "python",
   "nbconvert_exporter": "python",
   "pygments_lexer": "ipython3",
   "version": "3.9.2"
  }
 },
 "nbformat": 4,
 "nbformat_minor": 5
}
