{
 "cells": [
  {
   "cell_type": "code",
   "execution_count": 8,
   "id": "listed-tobacco",
   "metadata": {},
   "outputs": [],
   "source": [
    "import pandas as pd\n",
    "import json\n",
    "import spacy\n",
    "import concurrent.futures\n",
    "import multiprocessing\n",
    "import time"
   ]
  },
  {
   "cell_type": "code",
   "execution_count": 6,
   "id": "affected-apparatus",
   "metadata": {},
   "outputs": [],
   "source": [
    "nlp = spacy.load('de_core_news_md')"
   ]
  },
  {
   "cell_type": "code",
   "execution_count": 4,
   "id": "promising-surge",
   "metadata": {},
   "outputs": [
    {
     "data": {
      "text/plain": [
       "8"
      ]
     },
     "execution_count": 4,
     "metadata": {},
     "output_type": "execute_result"
    }
   ],
   "source": [
    "multiprocessing.cpu_count()"
   ]
  },
  {
   "cell_type": "code",
   "execution_count": null,
   "id": "electronic-sender",
   "metadata": {},
   "outputs": [],
   "source": [
    "def create_sentences_for_vec(df):\n",
    "\n",
    "    corpus = []\n",
    "\n",
    "    for i in tqdm(df.index):\n",
    "        text = df.loc[i, 'full_text']\n",
    "        doc = nlp(text)\n",
    "\n",
    "        for sent in doc.sents:\n",
    "            sent_list = []\n",
    "            for word in sent:\n",
    "                if not word.is_stop:\n",
    "                    sent_list.append(word.text)\n",
    "\n",
    "        corpus.append(sent_list)\n",
    "\n",
    "    return corpus\n",
    "\n",
    "\n",
    "if __name__ == '__main__':\n",
    "    \n",
    "    cpu_count = multiprocessing.cpu_count()\n",
    "    \n",
    "    all_sentences = []\n",
    "\n",
    "    print(f'Starting main')\n",
    "    start = time.perf_counter()\n",
    "\n",
    "    print('Importing df')\n",
    "    df = pd.read_parquet('../data/processed/RZ_sample.parquet')\n",
    "    \n",
    "    print('Processing')\n",
    "    with concurrent.futures.ProcessPoolExecutor(max_workers=cpu_count) as executor:\n",
    "        frames = cpu_count*[df.sample(100)]\n",
    "        results = [executor.submit(create_sentences_for_vec, df) for df in frames]\n",
    "\n",
    "        for f in concurrent.futures.as_completed(results):\n",
    "            print(len(f.result()))\n",
    "            print(type(f.result()))\n",
    "            all_sentences += f.result()\n",
    "            \n",
    "    with open('../temp/sentences_test.json', 'w', encoding='utf8') as f:\n",
    "        json.dump(all_sentences, f)\n",
    "            \n",
    "\n",
    "    stop = time.perf_counter()\n",
    "\n",
    "    print(f'Finished in {round(stop-start, 2)} seconds')"
   ]
  },
  {
   "cell_type": "code",
   "execution_count": 1,
   "id": "complex-orbit",
   "metadata": {},
   "outputs": [],
   "source": [
    "import json"
   ]
  },
  {
   "cell_type": "code",
   "execution_count": 2,
   "id": "defined-poker",
   "metadata": {},
   "outputs": [],
   "source": [
    "with open('../temp/sentences_test.json', 'r', encoding='utf8') as f:\n",
    "    sentences = json.load(f)"
   ]
  },
  {
   "cell_type": "code",
   "execution_count": 5,
   "id": "massive-possible",
   "metadata": {},
   "outputs": [
    {
     "name": "stdout",
     "output_type": "stream",
     "text": [
      "7992\n"
     ]
    }
   ],
   "source": [
    "phrases = 0\n",
    "\n",
    "for part in sentences:\n",
    "    phrases += len(part)\n",
    "    \n",
    "print(phrases)"
   ]
  },
  {
   "cell_type": "code",
   "execution_count": 6,
   "id": "separate-fantasy",
   "metadata": {},
   "outputs": [],
   "source": [
    "import numpy as np"
   ]
  },
  {
   "cell_type": "code",
   "execution_count": 39,
   "id": "caring-semester",
   "metadata": {},
   "outputs": [
    {
     "data": {
      "text/plain": [
       "['ae']"
      ]
     },
     "execution_count": 39,
     "metadata": {},
     "output_type": "execute_result"
    }
   ],
   "source": [
    "sentences[np.random.randint(800)]"
   ]
  },
  {
   "cell_type": "code",
   "execution_count": 8,
   "id": "quick-bottle",
   "metadata": {},
   "outputs": [
    {
     "data": {
      "text/plain": [
       "800"
      ]
     },
     "execution_count": 8,
     "metadata": {},
     "output_type": "execute_result"
    }
   ],
   "source": [
    "len(sentences)"
   ]
  },
  {
   "cell_type": "code",
   "execution_count": 10,
   "id": "capable-strategy",
   "metadata": {},
   "outputs": [
    {
     "data": {
      "text/plain": [
       "['—',\n",
       " 'd—',\n",
       " '\\n',\n",
       " 'b.',\n",
       " '(',\n",
       " 'Polizei',\n",
       " ')',\n",
       " 'eingeliefert',\n",
       " 'herre',\n",
       " '»',\n",
       " 'loser',\n",
       " 'Hund',\n",
       " '.']"
      ]
     },
     "execution_count": 10,
     "metadata": {},
     "output_type": "execute_result"
    }
   ],
   "source": [
    "sentences[2]"
   ]
  },
  {
   "cell_type": "code",
   "execution_count": 45,
   "id": "foreign-victim",
   "metadata": {},
   "outputs": [],
   "source": [
    "def divide_df(df, n):\n",
    "    \n",
    "    part_len = round(len(df)/n)\n",
    "    \n",
    "    for i in range(n):\n",
    "        yield df.iloc[i*part_len:(i+1)*part_len]    "
   ]
  },
  {
   "cell_type": "code",
   "execution_count": 40,
   "id": "under-winter",
   "metadata": {},
   "outputs": [],
   "source": [
    "import pandas as pd"
   ]
  },
  {
   "cell_type": "code",
   "execution_count": 41,
   "id": "dominant-assessment",
   "metadata": {},
   "outputs": [],
   "source": [
    "df = pd.read_parquet('../data/processed/RZ_processed.parquet')"
   ]
  },
  {
   "cell_type": "code",
   "execution_count": 47,
   "id": "accepting-health",
   "metadata": {},
   "outputs": [],
   "source": [
    "parts = divide_df(df, 8)"
   ]
  },
  {
   "cell_type": "code",
   "execution_count": 44,
   "id": "norwegian-charleston",
   "metadata": {},
   "outputs": [
    {
     "data": {
      "text/plain": [
       "144852"
      ]
     },
     "execution_count": 44,
     "metadata": {},
     "output_type": "execute_result"
    }
   ],
   "source": [
    "round(len(df)/2)"
   ]
  },
  {
   "cell_type": "code",
   "execution_count": 58,
   "id": "growing-diana",
   "metadata": {},
   "outputs": [
    {
     "ename": "StopIteration",
     "evalue": "",
     "output_type": "error",
     "traceback": [
      "\u001b[1;31m---------------------------------------------------------------------------\u001b[0m",
      "\u001b[1;31mStopIteration\u001b[0m                             Traceback (most recent call last)",
      "\u001b[1;32m<ipython-input-58-92b02c711640>\u001b[0m in \u001b[0;36m<module>\u001b[1;34m\u001b[0m\n\u001b[1;32m----> 1\u001b[1;33m \u001b[0mnext\u001b[0m\u001b[1;33m(\u001b[0m\u001b[0mparts\u001b[0m\u001b[1;33m)\u001b[0m\u001b[1;33m\u001b[0m\u001b[1;33m\u001b[0m\u001b[0m\n\u001b[0m",
      "\u001b[1;31mStopIteration\u001b[0m: "
     ]
    }
   ],
   "source": [
    "next(parts)"
   ]
  },
  {
   "cell_type": "code",
   "execution_count": null,
   "id": "fossil-rainbow",
   "metadata": {},
   "outputs": [],
   "source": []
  },
  {
   "cell_type": "code",
   "execution_count": null,
   "id": "conditional-allergy",
   "metadata": {},
   "outputs": [],
   "source": []
  },
  {
   "cell_type": "code",
   "execution_count": null,
   "id": "celtic-generic",
   "metadata": {},
   "outputs": [],
   "source": []
  },
  {
   "cell_type": "code",
   "execution_count": null,
   "id": "premium-connectivity",
   "metadata": {},
   "outputs": [],
   "source": []
  },
  {
   "cell_type": "code",
   "execution_count": null,
   "id": "coordinated-model",
   "metadata": {},
   "outputs": [],
   "source": []
  },
  {
   "cell_type": "code",
   "execution_count": null,
   "id": "social-italy",
   "metadata": {},
   "outputs": [],
   "source": []
  },
  {
   "cell_type": "code",
   "execution_count": null,
   "id": "champion-sauce",
   "metadata": {},
   "outputs": [],
   "source": []
  }
 ],
 "metadata": {
  "kernelspec": {
   "display_name": "Python 3",
   "language": "python",
   "name": "python3"
  },
  "language_info": {
   "codemirror_mode": {
    "name": "ipython",
    "version": 3
   },
   "file_extension": ".py",
   "mimetype": "text/x-python",
   "name": "python",
   "nbconvert_exporter": "python",
   "pygments_lexer": "ipython3",
   "version": "3.9.2"
  }
 },
 "nbformat": 4,
 "nbformat_minor": 5
}
