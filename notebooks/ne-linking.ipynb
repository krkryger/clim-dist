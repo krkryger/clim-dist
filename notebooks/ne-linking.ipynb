{
 "cells": [
  {
   "cell_type": "code",
   "execution_count": 3,
   "id": "compatible-collar",
   "metadata": {
    "scrolled": true
   },
   "outputs": [],
   "source": [
    "import pandas as pd\n",
    "\n",
    "df = pd.read_excel('../data/processed/inland.xlsx')\n",
    "df.rename(columns = {'Unnamed: 0':'id'}, inplace = True)"
   ]
  },
  {
   "cell_type": "code",
   "execution_count": 4,
   "id": "mature-guide",
   "metadata": {},
   "outputs": [],
   "source": [
    "sample_data = df.sample(5)"
   ]
  },
  {
   "cell_type": "code",
   "execution_count": 5,
   "id": "wrong-documentation",
   "metadata": {},
   "outputs": [
    {
     "data": {
      "text/html": [
       "<div>\n",
       "<style scoped>\n",
       "    .dataframe tbody tr th:only-of-type {\n",
       "        vertical-align: middle;\n",
       "    }\n",
       "\n",
       "    .dataframe tbody tr th {\n",
       "        vertical-align: top;\n",
       "    }\n",
       "\n",
       "    .dataframe thead th {\n",
       "        text-align: right;\n",
       "    }\n",
       "</style>\n",
       "<table border=\"1\" class=\"dataframe\">\n",
       "  <thead>\n",
       "    <tr style=\"text-align: right;\">\n",
       "      <th></th>\n",
       "      <th>id</th>\n",
       "      <th>date</th>\n",
       "      <th>year</th>\n",
       "      <th>month</th>\n",
       "      <th>day</th>\n",
       "      <th>pub</th>\n",
       "      <th>head</th>\n",
       "      <th>full_text</th>\n",
       "      <th>href</th>\n",
       "      <th>text_len</th>\n",
       "      <th>w_count</th>\n",
       "      <th>sturm</th>\n",
       "      <th>hagel</th>\n",
       "      <th>überschwemmung</th>\n",
       "      <th>LOC</th>\n",
       "    </tr>\n",
       "  </thead>\n",
       "  <tbody>\n",
       "    <tr>\n",
       "      <th>1921</th>\n",
       "      <td>22773</td>\n",
       "      <td>1892.01.04</td>\n",
       "      <td>1892</td>\n",
       "      <td>1</td>\n",
       "      <td>4</td>\n",
       "      <td>Libausche Zeitung</td>\n",
       "      <td>Inland.</td>\n",
       "      <td>Inland.\\n\\nDie Post-Spartassen, mit deren Eröf...</td>\n",
       "      <td>http://periodika.lv/viewerOpener?issue=/p_003_...</td>\n",
       "      <td>10025</td>\n",
       "      <td>1311</td>\n",
       "      <td>True</td>\n",
       "      <td>False</td>\n",
       "      <td>False</td>\n",
       "      <td>False</td>\n",
       "    </tr>\n",
       "    <tr>\n",
       "      <th>3018</th>\n",
       "      <td>32718</td>\n",
       "      <td>1883.04.20</td>\n",
       "      <td>1883</td>\n",
       "      <td>4</td>\n",
       "      <td>20</td>\n",
       "      <td>Rigasche Zeitung</td>\n",
       "      <td>Inland.</td>\n",
       "      <td>Inland.\\n\\nRiga, 20. »pril.\\nNeue Bezugsquelle...</td>\n",
       "      <td>http://periodika.lv/viewerOpener?issue=/p_003_...</td>\n",
       "      <td>26027</td>\n",
       "      <td>3096</td>\n",
       "      <td>False</td>\n",
       "      <td>False</td>\n",
       "      <td>True</td>\n",
       "      <td>False</td>\n",
       "    </tr>\n",
       "    <tr>\n",
       "      <th>1658</th>\n",
       "      <td>20059</td>\n",
       "      <td>1887.03.27</td>\n",
       "      <td>1887</td>\n",
       "      <td>3</td>\n",
       "      <td>27</td>\n",
       "      <td>Rigasche Zeitung</td>\n",
       "      <td>Inland.</td>\n",
       "      <td>Inland.\\n\\nRiga, 27. März.\\n„Neue Steuern!«\\nU...</td>\n",
       "      <td>http://periodika.lv/viewerOpener?issue=/p_003_...</td>\n",
       "      <td>25459</td>\n",
       "      <td>3184</td>\n",
       "      <td>True</td>\n",
       "      <td>False</td>\n",
       "      <td>False</td>\n",
       "      <td>False</td>\n",
       "    </tr>\n",
       "    <tr>\n",
       "      <th>982</th>\n",
       "      <td>16031</td>\n",
       "      <td>1878.03.21</td>\n",
       "      <td>1878</td>\n",
       "      <td>3</td>\n",
       "      <td>21</td>\n",
       "      <td>Libausche Zeitung</td>\n",
       "      <td>Inland.</td>\n",
       "      <td>Inland.\\n\\nAm 10. gebr. c. schied auS dem Lebe...</td>\n",
       "      <td>http://periodika.lv/viewerOpener?issue=/p_003_...</td>\n",
       "      <td>17574</td>\n",
       "      <td>2317</td>\n",
       "      <td>True</td>\n",
       "      <td>False</td>\n",
       "      <td>False</td>\n",
       "      <td>False</td>\n",
       "    </tr>\n",
       "    <tr>\n",
       "      <th>298</th>\n",
       "      <td>11479</td>\n",
       "      <td>1864.09.08</td>\n",
       "      <td>1864</td>\n",
       "      <td>9</td>\n",
       "      <td>8</td>\n",
       "      <td>Rigasche Zeitung</td>\n",
       "      <td>Inland.</td>\n",
       "      <td>Inland.\\n\\nRiga, 8. September. Heute Vormittag...</td>\n",
       "      <td>http://periodika.lv/viewerOpener?issue=/p_003_...</td>\n",
       "      <td>16333</td>\n",
       "      <td>2068</td>\n",
       "      <td>True</td>\n",
       "      <td>False</td>\n",
       "      <td>False</td>\n",
       "      <td>False</td>\n",
       "    </tr>\n",
       "  </tbody>\n",
       "</table>\n",
       "</div>"
      ],
      "text/plain": [
       "         id        date  year  month  day                pub     head  \\\n",
       "1921  22773  1892.01.04  1892      1    4  Libausche Zeitung  Inland.   \n",
       "3018  32718  1883.04.20  1883      4   20   Rigasche Zeitung  Inland.   \n",
       "1658  20059  1887.03.27  1887      3   27   Rigasche Zeitung  Inland.   \n",
       "982   16031  1878.03.21  1878      3   21  Libausche Zeitung  Inland.   \n",
       "298   11479  1864.09.08  1864      9    8   Rigasche Zeitung  Inland.   \n",
       "\n",
       "                                              full_text  \\\n",
       "1921  Inland.\\n\\nDie Post-Spartassen, mit deren Eröf...   \n",
       "3018  Inland.\\n\\nRiga, 20. »pril.\\nNeue Bezugsquelle...   \n",
       "1658  Inland.\\n\\nRiga, 27. März.\\n„Neue Steuern!«\\nU...   \n",
       "982   Inland.\\n\\nAm 10. gebr. c. schied auS dem Lebe...   \n",
       "298   Inland.\\n\\nRiga, 8. September. Heute Vormittag...   \n",
       "\n",
       "                                                   href  text_len  w_count  \\\n",
       "1921  http://periodika.lv/viewerOpener?issue=/p_003_...     10025     1311   \n",
       "3018  http://periodika.lv/viewerOpener?issue=/p_003_...     26027     3096   \n",
       "1658  http://periodika.lv/viewerOpener?issue=/p_003_...     25459     3184   \n",
       "982   http://periodika.lv/viewerOpener?issue=/p_003_...     17574     2317   \n",
       "298   http://periodika.lv/viewerOpener?issue=/p_003_...     16333     2068   \n",
       "\n",
       "      sturm  hagel  überschwemmung    LOC  \n",
       "1921   True  False           False  False  \n",
       "3018  False  False            True  False  \n",
       "1658   True  False           False  False  \n",
       "982    True  False           False  False  \n",
       "298    True  False           False  False  "
      ]
     },
     "execution_count": 5,
     "metadata": {},
     "output_type": "execute_result"
    }
   ],
   "source": [
    "sample_data.head()"
   ]
  },
  {
   "cell_type": "code",
   "execution_count": 7,
   "id": "fatty-feeding",
   "metadata": {},
   "outputs": [
    {
     "name": "stdout",
     "output_type": "stream",
     "text": [
      "http://periodika.lv/viewerOpener?issue=/p_003_lzpo1892s01n003&article=DIVL20&query=Sturm\n"
     ]
    }
   ],
   "source": [
    "print(sample_data.iloc[0].href)"
   ]
  },
  {
   "cell_type": "code",
   "execution_count": 8,
   "id": "stock-indication",
   "metadata": {},
   "outputs": [],
   "source": [
    "import spacy\n",
    "nlp = spacy.load('../data/models/spacy_model_250421/')\n",
    "from spacy import displacy"
   ]
  },
  {
   "cell_type": "code",
   "execution_count": 9,
   "id": "varied-queensland",
   "metadata": {},
   "outputs": [],
   "source": [
    "from climdist.ner.ner_linker import NERlinker"
   ]
  },
  {
   "cell_type": "code",
   "execution_count": 10,
   "id": "divided-parcel",
   "metadata": {},
   "outputs": [],
   "source": [
    "linker = NERlinker(sample_data, nlp, placename_files=['../data/external/geonames/EE.tsv', '../data/external/geonames/LV.tsv'])"
   ]
  },
  {
   "cell_type": "code",
   "execution_count": 11,
   "id": "infrared-detail",
   "metadata": {
    "scrolled": true
   },
   "outputs": [
    {
     "name": "stdout",
     "output_type": "stream",
     "text": [
      "Starting entry 22773\n",
      "Libausche Zeitung 1892.01.04 \n",
      "\n",
      "Applying NLP\n",
      "Building concordance 1\n"
     ]
    },
    {
     "data": {
      "text/html": [
       "<span class=\"tex2jax_ignore\"><div class=\"entities\" style=\"line-height: 2.5; direction: ltr\">. \n",
       "<mark class=\"entity\" style=\"background: #ffb366; padding: 0.45em 0.6em; margin: 0 0.25em; line-height: 1; border-radius: 0.35em;\">\n",
       "    Gub.\n",
       "    <span style=\"font-size: 0.8em; font-weight: bold; line-height: 1; border-radius: 0.35em; vertical-align: middle; margin-left: 0.5rem\">PER</span>\n",
       "</mark>\n",
       " Wjed.&quot;</br>zufolge im \n",
       "<mark class=\"entity\" style=\"background: #a88676; padding: 0.45em 0.6em; margin: 0 0.25em; line-height: 1; border-radius: 0.35em;\">\n",
       "    Kurländischen Gouvernement\n",
       "    <span style=\"font-size: 0.8em; font-weight: bold; line-height: 1; border-radius: 0.35em; vertical-align: middle; margin-left: 0.5rem\">LOC</span>\n",
       "</mark>\n",
       " im Allgemei</br>nen ein guter, wobei die früher besäten Felder besser</br>in den Winter gelangten, als die später besäten, die</br>durch die ununterbrochene \n",
       "<mark class=\"entity\" style=\"background: #4cafd9; padding: 0.45em 0.6em; margin: 0 0.25em; line-height: 1; border-radius: 0.35em;\">\n",
       "    Dürre\n",
       "    <span style=\"font-size: 0.8em; font-weight: bold; line-height: 1; border-radius: 0.35em; vertical-align: middle; margin-left: 0.5rem\">WEA</span>\n",
       "</mark>\n",
       " im September im</br>Wachsthum aufgehalten worden sind. An einigen</br>Orten wurden unbedeutende Schädigungen durch den</br>\n",
       "<mark class=\"entity\" style=\"background: #4cafd9; padding: 0.45em 0.6em; margin: 0 0.25em; line-height: 1; border-radius: 0.35em;\">\n",
       "    Sturm\n",
       "    <span style=\"font-size: 0.8em; font-weight: bold; line-height: 1; border-radius: 0.35em; vertical-align: middle; margin-left: 0.5rem\">WEA</span>\n",
       "</mark>\n",
       " bemerkt</br>\n",
       "<mark class=\"entity\" style=\"background: #a88676; padding: 0.45em 0.6em; margin: 0 0.25em; line-height: 1; border-radius: 0.35em;\">\n",
       "    Mitau\n",
       "    <span style=\"font-size: 0.8em; font-weight: bold; line-height: 1; border-radius: 0.35em; vertical-align: middle; margin-left: 0.5rem\">LOC</span>\n",
       "</mark>\n",
       ". Dem seiner Bitte gemäß au» dem Dienste</br>entlassenen ehemaligen Lehrer der Mathematik und</br>Physik am Mitaver Gymnasium. \n",
       "<mark class=\"entity\" style=\"background: #ffb366; padding: 0.45em 0.6em; margin: 0 0.25em; line-height: 1; border-radius: 0.35em;\">\n",
       "    Hofrath Arthur\n",
       "\n",
       "    <span style=\"font-size: 0.8em; font-weight: bold; line-height: 1; border-radius: 0.35em; vertical-align: middle; margin-left: 0.5rem\">PER</span>\n",
       "</mark>\n",
       "Stöger ist für 12jährigen Dienst nach dem Pensi</br>onS-Reglements eine einmalige Beihilfe von 700 Rbl.</br>gewährt worden.</br>Aus \n",
       "<mark class=\"entity\" style=\"background: #a88676; padding: 0.45em 0.6em; margin: 0 0.25em; line-height: 1; border-radius: 0.35em;\">\n",
       "    Mitau\n",
       "    <span style=\"font-size: 0.8em; font-weight: bold; line-height: 1; border-radius: 0.35em; vertical-align: middle; margin-left: 0.5rem\">LOC</span>\n",
       "</mark>\n",
       " schreibt man dem \n",
       "<mark class=\"entity\" style=\"background: #5353c6; padding: 0.45em 0.6em; margin: 0 0.25em; line-height: 1; border-radius: 0.35em;\">\n",
       "    .Rig.\n",
       "    <span style=\"font-size: 0.8em; font-weight: bold; line-height: 1; border-radius: 0.35em; vertical-align: middle; margin-left: 0.5rem\">ORG</span>\n",
       "</mark>\n",
       " Tgbl.</div></span>"
      ],
      "text/plain": [
       "<IPython.core.display.HTML object>"
      ]
     },
     "metadata": {},
     "output_type": "display_data"
    },
    {
     "name": "stdout",
     "output_type": "stream",
     "text": [
      "LOC-s in concordance: {'Kurländischen Gouvernement', 'Mitau'}\n",
      "Searching for Kurländischen Gouvernement\n",
      "No match found \n",
      "\n",
      "Searching for Mitau\n",
      "Best match: Mitau \n",
      "\n",
      "{22773: {'Mitau': (459279, 56, 23)}} \n",
      "\n",
      "\n",
      "Starting entry 32718\n",
      "Rigasche Zeitung 1883.04.20 \n",
      "\n",
      "Applying NLP\n",
      "Building concordance 1\n"
     ]
    },
    {
     "data": {
      "text/html": [
       "<span class=\"tex2jax_ignore\"><div class=\"entities\" style=\"line-height: 2.5; direction: ltr\">fich daher im Zustand der V rmoorung</br>befand. Diese Wässer waren ansang» gelbbraun</br>gesärbt und wenn fie auch nach längerem Pumpen</br>\n",
       "<mark class=\"entity\" style=\"background: #4cafd9; padding: 0.45em 0.6em; margin: 0 0.25em; line-height: 1; border-radius: 0.35em;\">\n",
       "    klar\n",
       "    <span style=\"font-size: 0.8em; font-weight: bold; line-height: 1; border-radius: 0.35em; vertical-align: middle; margin-left: 0.5rem\">WEA</span>\n",
       "</mark>\n",
       " gefördert wurden, so trübten fie fich in Folge</br>ihre» Eisengehalt» doch sehr bald an ber Luft</br>und wurden erst nach Absetzung de» oxydirten</br>Eisen» wieder \n",
       "<mark class=\"entity\" style=\"background: #4cafd9; padding: 0.45em 0.6em; margin: 0 0.25em; line-height: 1; border-radius: 0.35em;\">\n",
       "    klar\n",
       "    <span style=\"font-size: 0.8em; font-weight: bold; line-height: 1; border-radius: 0.35em; vertical-align: middle; margin-left: 0.5rem\">WEA</span>\n",
       "</mark>\n",
       ". \n",
       "<mark class=\"entity\" style=\"background: #4cafd9; padding: 0.45em 0.6em; margin: 0 0.25em; line-height: 1; border-radius: 0.35em;\">\n",
       "    S»\n",
       "    <span style=\"font-size: 0.8em; font-weight: bold; line-height: 1; border-radius: 0.35em; vertical-align: middle; margin-left: 0.5rem\">WEA</span>\n",
       "</mark>\n",
       " war die» mit einer</br>einzigen Ausnahme bei allen zwischen der Stadt</br>vnd dem lägelsee ntedergetriebenen Bohrlöchern</br>der Fall und diese» naheliegende Terrain ist daher</br>&gt;»r Wassersassung nicht geeignet. Dagegen zeigten</br>die jenseit» de» JagelseeS erbohrten Wässer mit</br>wenig Ausnahmen eine tadellose Beschaffenheit und</br>chemischen </div></span>"
      ],
      "text/plain": [
       "<IPython.core.display.HTML object>"
      ]
     },
     "metadata": {},
     "output_type": "display_data"
    },
    {
     "name": "stdout",
     "output_type": "stream",
     "text": [
      "Building concordance 2\n"
     ]
    },
    {
     "data": {
      "text/html": [
       "<span class=\"tex2jax_ignore\"><div class=\"entities\" style=\"line-height: 2.5; direction: ltr\">den Provinzen</br>betrifft, so wird hierin vorläufig keine Aenderung</br>beabsichtigt.</br></br>AiitlV, \n",
       "<mark class=\"entity\" style=\"background: #bf80ff; padding: 0.45em 0.6em; margin: 0 0.25em; line-height: 1; border-radius: 0.35em;\">\n",
       "    13. April\n",
       "    <span style=\"font-size: 0.8em; font-weight: bold; line-height: 1; border-radius: 0.35em; vertical-align: middle; margin-left: 0.5rem\">DAT</span>\n",
       "</mark>\n",
       ". Ueber die Wafiersnolh</br>wird den Folgende» ge.</br>Grieben:</br>in Folge de» feit 48 Stunden ununterbrochen</br>,?trflromende« \n",
       "<mark class=\"entity\" style=\"background: #4cafd9; padding: 0.45em 0.6em; margin: 0 0.25em; line-height: 1; border-radius: 0.35em;\">\n",
       "    Regen\n",
       "    <span style=\"font-size: 0.8em; font-weight: bold; line-height: 1; border-radius: 0.35em; vertical-align: middle; margin-left: 0.5rem\">WEA</span>\n",
       "</mark>\n",
       "» ist der in letzter Zeit in</br>«Ken wallen gefallene \n",
       "<mark class=\"entity\" style=\"background: #4cafd9; padding: 0.45em 0.6em; margin: 0 0.25em; line-height: 1; border-radius: 0.35em;\">\n",
       "    Schnee\n",
       "    <span style=\"font-size: 0.8em; font-weight: bold; line-height: 1; border-radius: 0.35em; vertical-align: middle; margin-left: 0.5rem\">WEA</span>\n",
       "</mark>\n",
       " rasch weggethant</br>'?Kluß ist ausgegangen und viele Straßen tn</br>. Umgebung von Min»k find unter Wasser.</br>II am User de» Flusse» lebenden Stadtbewohner,</br>Juden, welche im Beginn der Ueber-</br>Hemmung au» irgend einem Grunde nicht</br>Mten konnten, stnd gänzlich von den «</div></span>"
      ],
      "text/plain": [
       "<IPython.core.display.HTML object>"
      ]
     },
     "metadata": {},
     "output_type": "display_data"
    },
    {
     "name": "stdout",
     "output_type": "stream",
     "text": [
      "Building concordance 3\n"
     ]
    },
    {
     "data": {
      "text/html": [
       "<span class=\"tex2jax_ignore\"><div class=\"entities\" style=\"line-height: 2.5; direction: ltr\">die WitterungSerscheinungen der letzten</br>Zeit darUeten. In den letzten Tagen de» März</br>trat vollständige» Frühjahr»wetter ein. wie c»</br>gewöhnlich dem Somnier vorausgeht; da plötzlich</br>am \n",
       "<mark class=\"entity\" style=\"background: #bf80ff; padding: 0.45em 0.6em; margin: 0 0.25em; line-height: 1; border-radius: 0.35em;\">\n",
       "    3. April\n",
       "    <span style=\"font-size: 0.8em; font-weight: bold; line-height: 1; border-radius: 0.35em; vertical-align: middle; margin-left: 0.5rem\">DAT</span>\n",
       "</mark>\n",
       " beginnt ein heftiger \n",
       "<mark class=\"entity\" style=\"background: #4cafd9; padding: 0.45em 0.6em; margin: 0 0.25em; line-height: 1; border-radius: 0.35em;\">\n",
       "    Nordostwind\n",
       "    <span style=\"font-size: 0.8em; font-weight: bold; line-height: 1; border-radius: 0.35em; vertical-align: middle; margin-left: 0.5rem\">WEA</span>\n",
       "</mark>\n",
       " zu</br>blasen und tn 24 Stunden ist Alle» mit einer</br>eine halbe Arschin hohen \n",
       "<mark class=\"entity\" style=\"background: #4cafd9; padding: 0.45em 0.6em; margin: 0 0.25em; line-height: 1; border-radius: 0.35em;\">\n",
       "    Schneeschicht\n",
       "    <span style=\"font-size: 0.8em; font-weight: bold; line-height: 1; border-radius: 0.35em; vertical-align: middle; margin-left: 0.5rem\">WEA</span>\n",
       "</mark>\n",
       " überdeckt,</br>so daß durch deu Schneesall sogar die regelmäßige</br>Ankunft der Passagtei.züge Unterbrechungen er.</br>leidet, «l» derselbe noch bl» zum \n",
       "<mark class=\"entity\" style=\"background: #bf80ff; padding: 0.45em 0.6em; margin: 0 0.25em; line-height: 1; border-radius: 0.35em;\">\n",
       "    4. «pril sort.\n",
       "    <span style=\"font-size: 0.8em; font-weight: bold; line-height: 1; border-radius: 0.35em; vertical-align: middle; margin-left: 0.5rem\">DAT</span>\n",
       "</mark>\n",
       "</br>dauert, mäffen auf beiden un» nächstgelegenen</br>Bahnen die regelmäßigen Zöge eingestellt werden;</br>dte Bahn Räshtk.\n",
       "<mark class=\"entity\" style=\"background: #a88676; padding: 0.45em 0.6em; margin: 0 0.25em; line-height: 1; border-radius: 0.35em;\">\n",
       "    MorschanSk\n",
       "    <span style=\"font-size: 0.8em; font-weight: bold; line-height: 1; border-radius: 0.35em; vertical-align: middle; margin-left: 0.5rem\">LOC</span>\n",
       "</mark>\n",
       " hatte aber </div></span>"
      ],
      "text/plain": [
       "<IPython.core.display.HTML object>"
      ]
     },
     "metadata": {},
     "output_type": "display_data"
    },
    {
     "name": "stdout",
     "output_type": "stream",
     "text": [
      "LOC-s in concordance: {'MorschanSk'}\n",
      "Searching for MorschanSk\n",
      "No match found \n",
      "\n",
      "{32718: {}} \n",
      "\n",
      "\n",
      "Starting entry 20059\n",
      "Rigasche Zeitung 1887.03.27 \n",
      "\n",
      "Applying NLP\n",
      "{20059: {}} \n",
      "\n",
      "\n",
      "Starting entry 16031\n",
      "Libausche Zeitung 1878.03.21 \n",
      "\n",
      "Applying NLP\n",
      "{16031: {}} \n",
      "\n",
      "\n",
      "Starting entry 11479\n",
      "Rigasche Zeitung 1864.09.08 \n",
      "\n",
      "Applying NLP\n",
      "{11479: {}} \n",
      "\n",
      "\n"
     ]
    }
   ],
   "source": [
    "linker.link(40, 60, 60, '../pipeline/03_ner/02_linker/testlink.json',render=True)"
   ]
  },
  {
   "cell_type": "code",
   "execution_count": 14,
   "id": "better-basketball",
   "metadata": {},
   "outputs": [],
   "source": [
    "import json\n",
    "import webbrowser"
   ]
  },
  {
   "cell_type": "code",
   "execution_count": 15,
   "id": "realistic-affiliation",
   "metadata": {},
   "outputs": [],
   "source": [
    "with open('../pipeline/03_ner/02_linker/testlink.json', 'r', encoding='utf8') as f:\n",
    "    contents = f.read()\n",
    "    data = json.loads(contents)"
   ]
  },
  {
   "cell_type": "code",
   "execution_count": 16,
   "id": "stainless-telephone",
   "metadata": {},
   "outputs": [
    {
     "data": {
      "text/plain": [
       "{'22773': {'Mitau': [459279, 56, 23]},\n",
       " '32718': {},\n",
       " '20059': {},\n",
       " '16031': {},\n",
       " '11479': {}}"
      ]
     },
     "execution_count": 16,
     "metadata": {},
     "output_type": "execute_result"
    }
   ],
   "source": [
    "data"
   ]
  },
  {
   "cell_type": "code",
   "execution_count": 17,
   "id": "wanted-accreditation",
   "metadata": {},
   "outputs": [
    {
     "name": "stdout",
     "output_type": "stream",
     "text": [
      "[459279, 56, 23]\n"
     ]
    }
   ],
   "source": [
    "for row in data:\n",
    "    if data[row]:\n",
    "        #print(data[row])\n",
    "        locations = data[row]\n",
    "        \n",
    "        for loc in locations:\n",
    "            #print(locations[loc])\n",
    "            loc_data = locations[loc]\n",
    "            print(loc_data)\n",
    "            webbrowser.open_new_tab('geonames.org/'+str(loc_data[0]))"
   ]
  }
 ],
 "metadata": {
  "kernelspec": {
   "display_name": "Python 3",
   "language": "python",
   "name": "python3"
  },
  "language_info": {
   "codemirror_mode": {
    "name": "ipython",
    "version": 3
   },
   "file_extension": ".py",
   "mimetype": "text/x-python",
   "name": "python",
   "nbconvert_exporter": "python",
   "pygments_lexer": "ipython3",
   "version": "3.9.2"
  }
 },
 "nbformat": 4,
 "nbformat_minor": 5
}
