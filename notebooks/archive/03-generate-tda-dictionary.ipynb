{
 "cells": [
  {
   "cell_type": "code",
   "execution_count": 1,
   "id": "precise-norwegian",
   "metadata": {},
   "outputs": [
    {
     "name": "stdout",
     "output_type": "stream",
     "text": [
      "über Entwickelungsgeschichte d THIERE. Beobachtung und Reflexion VON Dr. Karl Ernst v. BAER. zweit teilen.\n",
      "Massachussetts_Institute_Of_Technology Vier KUPFERTAFELN. Königsberg 1837.\n",
      "BEI d Gebrüder Borenträger.\n",
      "Nachricht.\n",
      "d Druck diese Band werden bereits im August d Jahr 1829 beginnen, ruhen dann, aus Mangel an Manuskript, 5 voll Jahr, und können endlich in d 2ten Hälfte d Jahr 1834 bis zum 38sten Bogen fördern werden.\n",
      "eine Abhandlung, mit welche d, jetzt in St. Petersburg lebend, Herr Verfasser\n"
     ]
    }
   ],
   "source": [
    "with open('1800-1899/baer_thiere_1837.txt', 'r', encoding='utf8') as f:\n",
    "    text = f.read()\n",
    "    \n",
    "print(text[0:500])"
   ]
  },
  {
   "cell_type": "code",
   "execution_count": 40,
   "id": "virtual-storm",
   "metadata": {},
   "outputs": [],
   "source": [
    "def strip_word(word):\n",
    "    '''strip commas, spaces from end of the string.'''\n",
    "    while len(word)>1 and word[-1] in [' ', '.', ',', \"'\", '\"', '-']:\n",
    "        word = word[0:-1]\n",
    "    if word in [' ', '.', ',', \"'\", '\"', '-']:\n",
    "        return ''\n",
    "    else:\n",
    "        return word\n",
    "\n",
    "def get_word_frequencies(file):\n",
    "    '''Input: .txt file; Output: dictionary'''\n",
    "    \n",
    "    print(f'Opening {file}')\n",
    "    f = open(file, 'r', encoding='utf8')\n",
    "    text = f.read()\n",
    "    f.close()\n",
    "    words = text.split()\n",
    "    print(f'{len(words)} words in total.')\n",
    "\n",
    "    terms_freq = {}\n",
    "    \n",
    "    print('Counting words...')\n",
    "    for entry in words:\n",
    "        word = strip_word(entry).lower()\n",
    "        if terms_freq.get(word) == None:\n",
    "            terms_freq[word] = 1\n",
    "        else:\n",
    "            terms_freq[word] +=1\n",
    "\n",
    "    print(f'{len(terms_freq)} unique words')\n",
    "    \n",
    "    print('Frequency dictionary finished')\n",
    "    print('Closing file')\n",
    "    \n",
    "    return terms_freq"
   ]
  },
  {
   "cell_type": "code",
   "execution_count": 42,
   "id": "searching-columbus",
   "metadata": {},
   "outputs": [
    {
     "ename": "SyntaxError",
     "evalue": "invalid syntax (<ipython-input-42-f2c296af4f0f>, line 23)",
     "output_type": "error",
     "traceback": [
      "\u001b[1;36m  File \u001b[1;32m\"<ipython-input-42-f2c296af4f0f>\"\u001b[1;36m, line \u001b[1;32m23\u001b[0m\n\u001b[1;33m    for entry in range(len(tda_freq_dictionary):\u001b[0m\n\u001b[1;37m                                               ^\u001b[0m\n\u001b[1;31mSyntaxError\u001b[0m\u001b[1;31m:\u001b[0m invalid syntax\n"
     ]
    }
   ],
   "source": [
    "import glob\n",
    "\n",
    "tda_corpus_texts = glob.glob('1800-1899/*.txt')\n",
    "\n",
    "tda_freq_dictionary = {}\n",
    "\n",
    "for file in tda_corpus_texts:\n",
    "    \n",
    "    freq_in_file = get_word_frequencies(file)\n",
    "    \n",
    "    for key in freq_in_file.keys():\n",
    "        if key not in tda_freq_dictionary.keys():\n",
    "            tda_freq_dictionary[key] = freq_in_file[key]\n",
    "        else:\n",
    "            tda_freq_dictionary[key] += freq_in_file[key]\n",
    "            \n",
    "\n",
    "tda_freq_dictionary= dict(sorted(tda_freq_dictionary.items(), key=itemgetter(1), reverse=True))\n",
    "\n",
    "with open('tda_freq_dict.txt', 'w', encoding='utf8') as f:\n",
    "    keys = list(tda_freq_dictionary.keys())\n",
    "    values = list(tda_freq_dictionary.values())\n",
    "    \n",
    "    for entry in range(0, len(keys)):\n",
    "        line = keys[entry] + ' ' + str(values[entry]) + '\\n'\n",
    "        f.write(line)"
   ]
  },
  {
   "cell_type": "code",
   "execution_count": 44,
   "id": "sunset-holocaust",
   "metadata": {},
   "outputs": [
    {
     "name": "stdout",
     "output_type": "stream",
     "text": [
      "Opening 1800-1899/baer_thiere_1828.txt\n",
      "111620 words in total.\n",
      "Counting words...\n",
      "6303 unique words\n",
      "Frequency dictionary finished\n",
      "Closing file\n"
     ]
    }
   ],
   "source": [
    "testdico = get_word_frequencies('1800-1899/baer_thiere_1828.txt')"
   ]
  },
  {
   "cell_type": "code",
   "execution_count": 45,
   "id": "lonely-portsmouth",
   "metadata": {},
   "outputs": [],
   "source": [
    "with open('testfile.txt', 'w', encoding='utf8') as f:\n",
    "    keys = list(testdico.keys())\n",
    "    values = list(testdico.values())\n",
    "    \n",
    "    for entry in range(0, len(keys)):\n",
    "        line = keys[entry] + ' ' + str(values[entry]) + '\\n'\n",
    "        f.write(line)"
   ]
  },
  {
   "cell_type": "code",
   "execution_count": 50,
   "id": "outstanding-granny",
   "metadata": {},
   "outputs": [],
   "source": [
    "from spellchecker import SpellChecker, WordFrequency\n",
    "spell = SpellChecker(language='de')"
   ]
  },
  {
   "cell_type": "code",
   "execution_count": 59,
   "id": "suspected-grade",
   "metadata": {},
   "outputs": [],
   "source": [
    "WordFrequency().load_json('test_dic.json')"
   ]
  },
  {
   "cell_type": "code",
   "execution_count": 63,
   "id": "noticed-explosion",
   "metadata": {},
   "outputs": [],
   "source": [
    "for word in WordFrequency().keys():\n",
    "    print(word)"
   ]
  }
 ],
 "metadata": {
  "kernelspec": {
   "display_name": "Python 3",
   "language": "python",
   "name": "python3"
  },
  "language_info": {
   "codemirror_mode": {
    "name": "ipython",
    "version": 3
   },
   "file_extension": ".py",
   "mimetype": "text/x-python",
   "name": "python",
   "nbconvert_exporter": "python",
   "pygments_lexer": "ipython3",
   "version": "3.9.2"
  }
 },
 "nbformat": 4,
 "nbformat_minor": 5
}
