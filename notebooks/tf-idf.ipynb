{
 "cells": [
  {
   "cell_type": "code",
   "execution_count": 1,
   "id": "utility-above",
   "metadata": {},
   "outputs": [],
   "source": [
    "import pandas as pd\n",
    "from nltk.corpus import stopwords"
   ]
  },
  {
   "cell_type": "code",
   "execution_count": 2,
   "id": "entire-feeling",
   "metadata": {},
   "outputs": [],
   "source": [
    "df = pd.read_excel('../data/processed/LNB_processed.xlsx')"
   ]
  },
  {
   "cell_type": "code",
   "execution_count": 3,
   "id": "modern-typing",
   "metadata": {},
   "outputs": [],
   "source": [
    "text = df.sample(1)"
   ]
  },
  {
   "cell_type": "code",
   "execution_count": 14,
   "id": "suited-latvia",
   "metadata": {},
   "outputs": [],
   "source": [
    "txt = text.full_text.values[0]"
   ]
  },
  {
   "cell_type": "code",
   "execution_count": 10,
   "id": "frozen-report",
   "metadata": {},
   "outputs": [
    {
     "name": "stderr",
     "output_type": "stream",
     "text": [
      "[nltk_data] Downloading package stopwords to\n",
      "[nltk_data]     C:\\Users\\krister\\AppData\\Roaming\\nltk_data...\n",
      "[nltk_data]   Unzipping corpora\\stopwords.zip.\n"
     ]
    },
    {
     "data": {
      "text/plain": [
       "True"
      ]
     },
     "execution_count": 10,
     "metadata": {},
     "output_type": "execute_result"
    }
   ],
   "source": [
    "import nltk\n",
    "nltk.download('stopwords')"
   ]
  },
  {
   "cell_type": "code",
   "execution_count": 11,
   "id": "increased-serial",
   "metadata": {},
   "outputs": [],
   "source": [
    "stops = set(stopwords.words('german'))"
   ]
  },
  {
   "cell_type": "code",
   "execution_count": 16,
   "id": "atlantic-payment",
   "metadata": {},
   "outputs": [],
   "source": [
    "import spacy\n",
    "nlp = spacy.load('../data/models/spacy_model_250421/')"
   ]
  },
  {
   "cell_type": "code",
   "execution_count": 177,
   "id": "played-hungarian",
   "metadata": {},
   "outputs": [],
   "source": [
    "stops = set(stopwords.words('german'))\n",
    "\n",
    "def clean_text(text):\n",
    "    \n",
    "    finaltext = ''\n",
    "    doc = nlp(text)\n",
    "    \n",
    "    for token in doc:\n",
    "        if token.text not in stops:\n",
    "            finaltext += token.lemma_\n",
    "            finaltext += ' '\n",
    "            \n",
    "    return finaltext\n",
    "\n",
    "test = clean_text(txt)"
   ]
  },
  {
   "cell_type": "code",
   "execution_count": 26,
   "id": "fifty-header",
   "metadata": {},
   "outputs": [],
   "source": [
    "from sklearn.feature_extraction.text import TfidfVectorizer\n",
    "from sklearn.cluster import KMeans\n",
    "from sklearn.metrics import adjusted_rand_score\n",
    "import string"
   ]
  },
  {
   "cell_type": "code",
   "execution_count": 178,
   "id": "rough-juice",
   "metadata": {},
   "outputs": [],
   "source": [
    "sample_docs = df[(df.w_count > 100) & (df.w_count < 300)].sample(1000)\n",
    "\n",
    "cleaned_docs = [clean_text(doc) for doc in sample_docs.full_text]"
   ]
  },
  {
   "cell_type": "code",
   "execution_count": 179,
   "id": "concrete-delicious",
   "metadata": {},
   "outputs": [],
   "source": [
    "for doc in range(0, len(cleaned_docs)):\n",
    "    cleaned_docs[doc] = cleaned_docs[doc].replace('\\n', '')"
   ]
  },
  {
   "cell_type": "code",
   "execution_count": 191,
   "id": "departmental-alpha",
   "metadata": {},
   "outputs": [],
   "source": [
    "vectorizer = TfidfVectorizer(lowercase=True,\n",
    "                              max_features=300,\n",
    "                              max_df=0.7,\n",
    "                              min_df=5,\n",
    "                              ngram_range=(3,3))\n",
    "\n",
    "vectors = vectorizer.fit_transform(cleaned_docs)\n",
    "feature_names = vectorizer.get_feature_names()\n",
    "dense = vectors.todense()\n",
    "denselist = vectors.todense()\n",
    "\n",
    "all_keywords = []\n",
    "\n",
    "for text in denselist:\n",
    "    ct = 0\n",
    "    keywords = []\n",
    "    for word in text.flat:\n",
    "        if word > 0:\n",
    "            keywords.append(feature_names[ct])\n",
    "        ct += 1\n",
    "    all_keywords.append(keywords)\n",
    "    \n",
    "true_k = 20\n",
    "model = KMeans(n_clusters=true_k, init='k-means++', max_iter=1000, n_init=1)\n",
    "model.fit(vectors)\n",
    "\n",
    "order_centroids = model.cluster_centers_.argsort()[:, ::-1]\n",
    "terms = vectorizer.get_feature_names()\n",
    "\n",
    "with open('../temp/trc_test.txt', 'w', encoding='utf8') as f:\n",
    "    for i in range(true_k):\n",
    "        f.write(f'Cluster {i}')\n",
    "        f.write('\\n')\n",
    "        for ind in order_centroids[i, :10]:\n",
    "            f.write(' %s' %terms[ind])\n",
    "            f.write('\\n')\n",
    "        f.write('\\n')\n",
    "        f.write('\\n')"
   ]
  },
  {
   "cell_type": "code",
   "execution_count": 125,
   "id": "described-madagascar",
   "metadata": {},
   "outputs": [],
   "source": []
  },
  {
   "cell_type": "code",
   "execution_count": 126,
   "id": "proud-remainder",
   "metadata": {},
   "outputs": [
    {
     "name": "stderr",
     "output_type": "stream",
     "text": [
      "<ipython-input-126-21c40ac1d16a>:3: ConvergenceWarning: Number of distinct clusters (2) found smaller than n_clusters (10). Possibly due to duplicate points in X.\n",
      "  model.fit(vectors)\n"
     ]
    },
    {
     "data": {
      "text/plain": [
       "KMeans(max_iter=100, n_clusters=10, n_init=1)"
      ]
     },
     "execution_count": 126,
     "metadata": {},
     "output_type": "execute_result"
    }
   ],
   "source": []
  },
  {
   "cell_type": "code",
   "execution_count": 122,
   "id": "prostate-norman",
   "metadata": {},
   "outputs": [],
   "source": []
  },
  {
   "cell_type": "code",
   "execution_count": null,
   "id": "scheduled-knitting",
   "metadata": {},
   "outputs": [],
   "source": []
  },
  {
   "cell_type": "code",
   "execution_count": null,
   "id": "static-passage",
   "metadata": {},
   "outputs": [],
   "source": []
  },
  {
   "cell_type": "code",
   "execution_count": null,
   "id": "mature-primary",
   "metadata": {},
   "outputs": [],
   "source": []
  },
  {
   "cell_type": "code",
   "execution_count": null,
   "id": "announced-prime",
   "metadata": {},
   "outputs": [],
   "source": []
  },
  {
   "cell_type": "code",
   "execution_count": null,
   "id": "fundamental-architect",
   "metadata": {
    "collapsed": true
   },
   "outputs": [],
   "source": []
  }
 ],
 "metadata": {
  "kernelspec": {
   "display_name": "Python 3",
   "language": "python",
   "name": "python3"
  },
  "language_info": {
   "codemirror_mode": {
    "name": "ipython",
    "version": 3
   },
   "file_extension": ".py",
   "mimetype": "text/x-python",
   "name": "python",
   "nbconvert_exporter": "python",
   "pygments_lexer": "ipython3",
   "version": "3.9.2"
  }
 },
 "nbformat": 4,
 "nbformat_minor": 5
}
